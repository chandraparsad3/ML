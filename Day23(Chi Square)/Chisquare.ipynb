{
 "cells": [
  {
   "cell_type": "markdown",
   "id": "6976556f-b4d2-47cf-a8e0-adb3570a4652",
   "metadata": {},
   "source": [
    "### Chi square Test"
   ]
  },
  {
   "cell_type": "code",
   "execution_count": 1,
   "id": "ecc03598-775d-4977-a57d-5c94956ee2d4",
   "metadata": {},
   "outputs": [],
   "source": [
    "import scipy.stats as stat\n",
    "import numpy as np"
   ]
  },
  {
   "cell_type": "code",
   "execution_count": 4,
   "id": "afcbf5e7-7514-4261-90dc-69a5fcd32a81",
   "metadata": {},
   "outputs": [],
   "source": [
    "### No of hours students study from monday to sunday\n",
    "expected_hour=[3,5,6,7,4,10,12]\n",
    "observed_hour=[5,6,8,9,7,5,7]"
   ]
  },
  {
   "cell_type": "code",
   "execution_count": 5,
   "id": "8975b20a-a152-42fd-a7e5-c0568d86bc7d",
   "metadata": {},
   "outputs": [],
   "source": [
    "chisquare_test_statistics,pvalue=stat.chisquare(expected_hour,observed_hour)"
   ]
  },
  {
   "cell_type": "code",
   "execution_count": 6,
   "id": "416863ca-a850-4291-82f8-7be62d03207c",
   "metadata": {},
   "outputs": [
    {
     "data": {
      "text/plain": [
       "(11.768253968253967, 0.06734301482038144)"
      ]
     },
     "execution_count": 6,
     "metadata": {},
     "output_type": "execute_result"
    }
   ],
   "source": [
    "chisquare_test_statistics,pvalue"
   ]
  },
  {
   "cell_type": "code",
   "execution_count": 9,
   "id": "239a095a-5112-419f-8dc4-c50e6f1cf554",
   "metadata": {},
   "outputs": [],
   "source": [
    "### find the critical value\n",
    "siginificane_value=0.05\n",
    "dof=len(expected_hour)-1\n",
    "critical_value=stat.chi2.ppf(1-siginificane_value,dof)"
   ]
  },
  {
   "cell_type": "code",
   "execution_count": 10,
   "id": "81059139-39a3-446d-8e44-5235387b6a38",
   "metadata": {},
   "outputs": [
    {
     "data": {
      "text/plain": [
       "12.591587243743977"
      ]
     },
     "execution_count": 10,
     "metadata": {},
     "output_type": "execute_result"
    }
   ],
   "source": [
    "critical_value"
   ]
  },
  {
   "cell_type": "code",
   "execution_count": 11,
   "id": "bc182ebf-0f13-44f6-8d13-19137b4b49cf",
   "metadata": {},
   "outputs": [
    {
     "name": "stdout",
     "output_type": "stream",
     "text": [
      "Accept the null hypothesis\n"
     ]
    }
   ],
   "source": [
    "if chisquare_test_statistics>critical_value:\n",
    "    print(\"Reject the null hypothesis\")\n",
    "else :\n",
    "    print(\"Accept the null hypothesis\")"
   ]
  }
 ],
 "metadata": {
  "kernelspec": {
   "display_name": "Python 3 (ipykernel)",
   "language": "python",
   "name": "python3"
  },
  "language_info": {
   "codemirror_mode": {
    "name": "ipython",
    "version": 3
   },
   "file_extension": ".py",
   "mimetype": "text/x-python",
   "name": "python",
   "nbconvert_exporter": "python",
   "pygments_lexer": "ipython3",
   "version": "3.10.8"
  }
 },
 "nbformat": 4,
 "nbformat_minor": 5
}
