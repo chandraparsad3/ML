{
 "cells": [
  {
   "cell_type": "code",
   "execution_count": 1,
   "id": "506a32ef-0a93-41af-83ea-033524233ad8",
   "metadata": {},
   "outputs": [],
   "source": [
    "import numpy as np"
   ]
  },
  {
   "cell_type": "code",
   "execution_count": 2,
   "id": "296b5f81-93a2-49bb-bea3-6d9f2a139bca",
   "metadata": {},
   "outputs": [
    {
     "data": {
      "text/plain": [
       "array([ 1,  2,  3, 45,  5])"
      ]
     },
     "execution_count": 2,
     "metadata": {},
     "output_type": "execute_result"
    }
   ],
   "source": [
    "np.array([1,2,3,45,5])"
   ]
  },
  {
   "cell_type": "code",
   "execution_count": 3,
   "id": "97b62c96-3b45-4f86-b980-41991f78c43e",
   "metadata": {},
   "outputs": [
    {
     "data": {
      "text/plain": [
       "numpy.ndarray"
      ]
     },
     "execution_count": 3,
     "metadata": {},
     "output_type": "execute_result"
    }
   ],
   "source": [
    "type(np.array([1,2,3,45,5]))"
   ]
  },
  {
   "cell_type": "code",
   "execution_count": 4,
   "id": "c9d8dd2d-a9a7-41b5-b90f-d5f22f38c23d",
   "metadata": {},
   "outputs": [
    {
     "data": {
      "text/plain": [
       "array([1, 2, 3, 4, 5, 6, 6, 9])"
      ]
     },
     "execution_count": 4,
     "metadata": {},
     "output_type": "execute_result"
    }
   ],
   "source": [
    "np.asarray([1,2,3,4,5,6,6,9])"
   ]
  },
  {
   "cell_type": "code",
   "execution_count": 5,
   "id": "777d21e6-f895-4dcb-946b-28e4a78b9a2e",
   "metadata": {},
   "outputs": [
    {
     "data": {
      "text/plain": [
       "numpy.ndarray"
      ]
     },
     "execution_count": 5,
     "metadata": {},
     "output_type": "execute_result"
    }
   ],
   "source": [
    "type(np.asarray([1,2,3,4,5,6,6,9]))"
   ]
  },
  {
   "cell_type": "code",
   "execution_count": 8,
   "id": "05aa0b85-4a8e-41ab-a637-50867066f79e",
   "metadata": {},
   "outputs": [
    {
     "data": {
      "text/plain": [
       "matrix([[ 2,  3, 34,  4,  3,  3,  3,  3,  3],\n",
       "        [ 2,  3, 34,  4,  3,  3,  3,  3,  3]])"
      ]
     },
     "execution_count": 8,
     "metadata": {},
     "output_type": "execute_result"
    }
   ],
   "source": [
    "np.matrix([[2,3,34,4,3,3,3,3,3],[2,3,34,4,3,3,3,3,3]])"
   ]
  },
  {
   "cell_type": "code",
   "execution_count": 9,
   "id": "1dec3eab-efa8-4de8-9a02-50c7429f8ec9",
   "metadata": {},
   "outputs": [],
   "source": [
    "test=np.matrix([[2,3,34,4,3,3,3,3,3],[2,3,34,4,3,3,3,3,3]])"
   ]
  },
  {
   "cell_type": "code",
   "execution_count": 10,
   "id": "8ae80288-f229-4cf3-ad18-264b621361bb",
   "metadata": {},
   "outputs": [
    {
     "data": {
      "text/plain": [
       "numpy.matrix"
      ]
     },
     "execution_count": 10,
     "metadata": {},
     "output_type": "execute_result"
    }
   ],
   "source": [
    "type(test)"
   ]
  },
  {
   "cell_type": "code",
   "execution_count": 11,
   "id": "cf286356-6d17-4078-b70e-c5b09a13e65f",
   "metadata": {},
   "outputs": [],
   "source": [
    "a=np.array([3,5,7,9,11,13,15,17,19])"
   ]
  },
  {
   "cell_type": "code",
   "execution_count": 12,
   "id": "4150c0a8-ded9-464d-ae17-87d30849ef5a",
   "metadata": {},
   "outputs": [],
   "source": [
    "c=a\n"
   ]
  },
  {
   "cell_type": "code",
   "execution_count": 13,
   "id": "0ac5f9e4-7f87-45f4-b444-e4a052a127b5",
   "metadata": {},
   "outputs": [],
   "source": [
    "c[1]=100"
   ]
  },
  {
   "cell_type": "code",
   "execution_count": 14,
   "id": "e43b29bb-1e9a-4857-8c78-e73d31e69129",
   "metadata": {},
   "outputs": [
    {
     "data": {
      "text/plain": [
       "array([  3, 100,   7,   9,  11,  13,  15,  17,  19])"
      ]
     },
     "execution_count": 14,
     "metadata": {},
     "output_type": "execute_result"
    }
   ],
   "source": [
    "a"
   ]
  },
  {
   "cell_type": "code",
   "execution_count": 15,
   "id": "7b819e92-94ba-44a9-82a8-068da0ae3e95",
   "metadata": {},
   "outputs": [],
   "source": [
    "d=np.copy(a)"
   ]
  },
  {
   "cell_type": "code",
   "execution_count": 17,
   "id": "ad45e5a9-51f2-47e2-b211-478c644e5609",
   "metadata": {},
   "outputs": [],
   "source": [
    "d[0]=100"
   ]
  },
  {
   "cell_type": "code",
   "execution_count": 18,
   "id": "b4c5e1e6-9226-4806-b8fc-3ea89b6dcc92",
   "metadata": {},
   "outputs": [
    {
     "data": {
      "text/plain": [
       "array([  3, 100,   7,   9,  11,  13,  15,  17,  19])"
      ]
     },
     "execution_count": 18,
     "metadata": {},
     "output_type": "execute_result"
    }
   ],
   "source": [
    "a"
   ]
  },
  {
   "cell_type": "code",
   "execution_count": 19,
   "id": "19d16df6-92e4-41a5-890b-b0a3cabf50ae",
   "metadata": {},
   "outputs": [
    {
     "data": {
      "text/plain": [
       "array([100, 100,   7,   9,  11,  13,  15,  17,  19])"
      ]
     },
     "execution_count": 19,
     "metadata": {},
     "output_type": "execute_result"
    }
   ],
   "source": [
    "d"
   ]
  },
  {
   "cell_type": "code",
   "execution_count": 46,
   "id": "c9232837-a94d-472f-b863-0f366586361b",
   "metadata": {},
   "outputs": [
    {
     "data": {
      "text/plain": [
       "array([[ True, False, False],\n",
       "       [False,  True, False],\n",
       "       [False, False,  True],\n",
       "       [False, False, False],\n",
       "       [False, False, False]])"
      ]
     },
     "execution_count": 46,
     "metadata": {},
     "output_type": "execute_result"
    }
   ],
   "source": [
    "np.fromfunction(lambda x,y: x==y,(5,3))"
   ]
  },
  {
   "cell_type": "code",
   "execution_count": 48,
   "id": "bb4dcbea-2a6c-44cf-a852-e37b893102f1",
   "metadata": {},
   "outputs": [
    {
     "data": {
      "text/plain": [
       "array([[ 1.,  0.,  0.],\n",
       "       [ 1.,  1.,  1.],\n",
       "       [ 1.,  2.,  4.],\n",
       "       [ 1.,  3.,  9.],\n",
       "       [ 1.,  4., 16.]])"
      ]
     },
     "execution_count": 48,
     "metadata": {},
     "output_type": "execute_result"
    }
   ],
   "source": [
    "np.fromfunction(lambda x,y: x**y , (5,3))"
   ]
  },
  {
   "cell_type": "code",
   "execution_count": 23,
   "id": "4984239a-9bbb-46d5-b846-6d4cada2aea1",
   "metadata": {},
   "outputs": [],
   "source": [
    "tem=(i*i for i in range(10))"
   ]
  },
  {
   "cell_type": "code",
   "execution_count": 25,
   "id": "497d1dd9-bcb8-43f8-a77e-97a694b76c6e",
   "metadata": {},
   "outputs": [
    {
     "data": {
      "text/plain": [
       "array([ 0,  1,  4,  9, 16, 25, 36, 49, 64, 81])"
      ]
     },
     "execution_count": 25,
     "metadata": {},
     "output_type": "execute_result"
    }
   ],
   "source": [
    "np.fromiter(tem,int)"
   ]
  },
  {
   "cell_type": "code",
   "execution_count": 26,
   "id": "7f552733-adb6-4ed7-b5eb-85b03ef876c9",
   "metadata": {},
   "outputs": [],
   "source": [
    "temp=(i+2 for i in range(5))"
   ]
  },
  {
   "cell_type": "code",
   "execution_count": 27,
   "id": "1098102a-7dba-4135-8d66-d7be95e624a1",
   "metadata": {},
   "outputs": [
    {
     "data": {
      "text/plain": [
       "array([2, 3, 4, 5, 6])"
      ]
     },
     "execution_count": 27,
     "metadata": {},
     "output_type": "execute_result"
    }
   ],
   "source": [
    "np.fromiter(temp,int)"
   ]
  },
  {
   "cell_type": "code",
   "execution_count": 28,
   "id": "fc6590ad-7b02-4247-9d24-a19b4edadd7c",
   "metadata": {},
   "outputs": [
    {
     "data": {
      "text/plain": [
       "array([1111., 2222.,  333.])"
      ]
     },
     "execution_count": 28,
     "metadata": {},
     "output_type": "execute_result"
    }
   ],
   "source": [
    "np.fromstring('1111 2222 333',sep=' ')"
   ]
  },
  {
   "cell_type": "code",
   "execution_count": 34,
   "id": "13021ace-32d5-48fd-8139-992750af5a5c",
   "metadata": {},
   "outputs": [],
   "source": [
    "ans=np.fromstring('222 222',sep=' ')"
   ]
  },
  {
   "cell_type": "code",
   "execution_count": 35,
   "id": "ededaf10-5563-4c33-94bf-bb557a4d6227",
   "metadata": {},
   "outputs": [
    {
     "data": {
      "text/plain": [
       "1"
      ]
     },
     "execution_count": 35,
     "metadata": {},
     "output_type": "execute_result"
    }
   ],
   "source": [
    "ans.ndim"
   ]
  },
  {
   "cell_type": "code",
   "execution_count": 38,
   "id": "43d34321-b4cf-4289-bdc9-7e9a33074603",
   "metadata": {},
   "outputs": [],
   "source": [
    "array=np.array([[[2,3,3],[3,3,3]]])"
   ]
  },
  {
   "cell_type": "code",
   "execution_count": 39,
   "id": "97364ef1-135d-4eed-abe3-6f9f39a56eac",
   "metadata": {},
   "outputs": [
    {
     "data": {
      "text/plain": [
       "3"
      ]
     },
     "execution_count": 39,
     "metadata": {},
     "output_type": "execute_result"
    }
   ],
   "source": [
    "array.ndim"
   ]
  },
  {
   "cell_type": "code",
   "execution_count": 41,
   "id": "23b64dbe-4146-4df6-9dc5-3ddc09f1772a",
   "metadata": {},
   "outputs": [
    {
     "data": {
      "text/plain": [
       "2"
      ]
     },
     "execution_count": 41,
     "metadata": {},
     "output_type": "execute_result"
    }
   ],
   "source": [
    "ans.size"
   ]
  },
  {
   "cell_type": "raw",
   "id": "10d986ab-8c97-440f-b884-105180eb70db",
   "metadata": {},
   "source": [
    "array.size"
   ]
  },
  {
   "cell_type": "code",
   "execution_count": 42,
   "id": "eca36fd2-045d-447c-a823-7733b4782d42",
   "metadata": {},
   "outputs": [
    {
     "data": {
      "text/plain": [
       "6"
      ]
     },
     "execution_count": 42,
     "metadata": {},
     "output_type": "execute_result"
    }
   ],
   "source": [
    "array.size"
   ]
  },
  {
   "cell_type": "code",
   "execution_count": 43,
   "id": "1023db48-e889-45e1-bdc2-ad8a29ae6dcc",
   "metadata": {},
   "outputs": [
    {
     "data": {
      "text/plain": [
       "(1, 2, 3)"
      ]
     },
     "execution_count": 43,
     "metadata": {},
     "output_type": "execute_result"
    }
   ],
   "source": [
    "array.shape"
   ]
  },
  {
   "cell_type": "code",
   "execution_count": 44,
   "id": "4bb10e52-6824-4b5a-a7e4-49356de826ed",
   "metadata": {},
   "outputs": [
    {
     "data": {
      "text/plain": [
       "(2,)"
      ]
     },
     "execution_count": 44,
     "metadata": {},
     "output_type": "execute_result"
    }
   ],
   "source": [
    "ans.shape"
   ]
  },
  {
   "cell_type": "code",
   "execution_count": 49,
   "id": "6a8a9231-0431-4e3c-805a-0417082ae5cf",
   "metadata": {},
   "outputs": [
    {
     "data": {
      "text/plain": [
       "[1, 2]"
      ]
     },
     "execution_count": 49,
     "metadata": {},
     "output_type": "execute_result"
    }
   ],
   "source": [
    "list(range(1,3))"
   ]
  },
  {
   "cell_type": "code",
   "execution_count": 52,
   "id": "e7f701cf-7195-42a8-99f6-e896449683f3",
   "metadata": {},
   "outputs": [
    {
     "data": {
      "text/plain": [
       "[1, 6, 11, 16, 21, 26, 31, 36, 41, 46, 51, 56, 61, 66, 71, 76, 81, 86, 91, 96]"
      ]
     },
     "execution_count": 52,
     "metadata": {},
     "output_type": "execute_result"
    }
   ],
   "source": [
    "list(range(1,100,5))"
   ]
  },
  {
   "cell_type": "code",
   "execution_count": 53,
   "id": "85e9b46e-25c0-4145-abc5-dbf552f32423",
   "metadata": {},
   "outputs": [
    {
     "ename": "TypeError",
     "evalue": "'float' object cannot be interpreted as an integer",
     "output_type": "error",
     "traceback": [
      "\u001b[0;31m---------------------------------------------------------------------------\u001b[0m",
      "\u001b[0;31mTypeError\u001b[0m                                 Traceback (most recent call last)",
      "Cell \u001b[0;32mIn[53], line 1\u001b[0m\n\u001b[0;32m----> 1\u001b[0m \u001b[38;5;28mlist\u001b[39m(\u001b[38;5;28;43mrange\u001b[39;49m\u001b[43m(\u001b[49m\u001b[38;5;241;43m1\u001b[39;49m\u001b[43m,\u001b[49m\u001b[38;5;241;43m10\u001b[39;49m\u001b[43m,\u001b[49m\u001b[38;5;241;43m0.5\u001b[39;49m\u001b[43m)\u001b[49m)\n",
      "\u001b[0;31mTypeError\u001b[0m: 'float' object cannot be interpreted as an integer"
     ]
    }
   ],
   "source": [
    "list(range(1,10,0.5))"
   ]
  },
  {
   "cell_type": "code",
   "execution_count": 56,
   "id": "378a2d78-883d-473d-b68e-e33a892f2b01",
   "metadata": {},
   "outputs": [
    {
     "data": {
      "text/plain": [
       "[1.0, 1.5, 2.0, 2.5]"
      ]
     },
     "execution_count": 56,
     "metadata": {},
     "output_type": "execute_result"
    }
   ],
   "source": [
    "list(np.arange(1,3,0.5))"
   ]
  },
  {
   "cell_type": "code",
   "execution_count": 57,
   "id": "d4cbf390-82ed-4793-ba1f-4b5673315ce2",
   "metadata": {},
   "outputs": [
    {
     "data": {
      "text/plain": [
       "array([3. , 5.2, 7.4, 9.6])"
      ]
     },
     "execution_count": 57,
     "metadata": {},
     "output_type": "execute_result"
    }
   ],
   "source": [
    "np.arange(3,10,2.2)"
   ]
  },
  {
   "cell_type": "code",
   "execution_count": 59,
   "id": "c4c743bf-2e60-454c-a26c-d2ee1df9838b",
   "metadata": {},
   "outputs": [
    {
     "data": {
      "text/plain": [
       "array([ 1.        ,  6.44444444, 11.88888889, 17.33333333, 22.77777778,\n",
       "       28.22222222, 33.66666667, 39.11111111, 44.55555556, 50.        ])"
      ]
     },
     "execution_count": 59,
     "metadata": {},
     "output_type": "execute_result"
    }
   ],
   "source": [
    "np.linspace(1,50,10)"
   ]
  },
  {
   "cell_type": "code",
   "execution_count": 60,
   "id": "1a5f4639-ae9b-436d-aa7f-645320b824ed",
   "metadata": {},
   "outputs": [
    {
     "data": {
      "text/plain": [
       "array([  7.   ,  10.875,  14.75 ,  18.625,  22.5  ,  26.375,  30.25 ,\n",
       "        34.125,  38.   ,  41.875,  45.75 ,  49.625,  53.5  ,  57.375,\n",
       "        61.25 ,  65.125,  69.   ,  72.875,  76.75 ,  80.625,  84.5  ,\n",
       "        88.375,  92.25 ,  96.125, 100.   ])"
      ]
     },
     "execution_count": 60,
     "metadata": {},
     "output_type": "execute_result"
    }
   ],
   "source": [
    "np.linspace(7,100,25)"
   ]
  },
  {
   "cell_type": "code",
   "execution_count": 62,
   "id": "1c7e83ad-1fb5-4982-8c03-5de23348dbb5",
   "metadata": {},
   "outputs": [
    {
     "data": {
      "text/plain": [
       "array([[0., 0., 0., 0.],\n",
       "       [0., 0., 0., 0.],\n",
       "       [0., 0., 0., 0.]])"
      ]
     },
     "execution_count": 62,
     "metadata": {},
     "output_type": "execute_result"
    }
   ],
   "source": [
    "np.zeros((3,4))"
   ]
  },
  {
   "cell_type": "code",
   "execution_count": 63,
   "id": "fd4c8b70-7255-4a0a-b23c-fd64869a5bba",
   "metadata": {},
   "outputs": [
    {
     "data": {
      "text/plain": [
       "array([[[[0., 0., 0.],\n",
       "         [0., 0., 0.],\n",
       "         [0., 0., 0.]],\n",
       "\n",
       "        [[0., 0., 0.],\n",
       "         [0., 0., 0.],\n",
       "         [0., 0., 0.]],\n",
       "\n",
       "        [[0., 0., 0.],\n",
       "         [0., 0., 0.],\n",
       "         [0., 0., 0.]]],\n",
       "\n",
       "\n",
       "       [[[0., 0., 0.],\n",
       "         [0., 0., 0.],\n",
       "         [0., 0., 0.]],\n",
       "\n",
       "        [[0., 0., 0.],\n",
       "         [0., 0., 0.],\n",
       "         [0., 0., 0.]],\n",
       "\n",
       "        [[0., 0., 0.],\n",
       "         [0., 0., 0.],\n",
       "         [0., 0., 0.]]],\n",
       "\n",
       "\n",
       "       [[[0., 0., 0.],\n",
       "         [0., 0., 0.],\n",
       "         [0., 0., 0.]],\n",
       "\n",
       "        [[0., 0., 0.],\n",
       "         [0., 0., 0.],\n",
       "         [0., 0., 0.]],\n",
       "\n",
       "        [[0., 0., 0.],\n",
       "         [0., 0., 0.],\n",
       "         [0., 0., 0.]]]])"
      ]
     },
     "execution_count": 63,
     "metadata": {},
     "output_type": "execute_result"
    }
   ],
   "source": [
    "np.zeros((3,3,3,3))"
   ]
  },
  {
   "cell_type": "code",
   "execution_count": 64,
   "id": "af987843-9610-4fb4-acb3-351d62a4ab8a",
   "metadata": {},
   "outputs": [
    {
     "data": {
      "text/plain": [
       "array([[4.64790472e-310, 0.00000000e+000, 0.00000000e+000],\n",
       "       [0.00000000e+000, 0.00000000e+000, 0.00000000e+000],\n",
       "       [0.00000000e+000, 0.00000000e+000, 0.00000000e+000]])"
      ]
     },
     "execution_count": 64,
     "metadata": {},
     "output_type": "execute_result"
    }
   ],
   "source": [
    "np.empty((3,3))"
   ]
  },
  {
   "cell_type": "code",
   "execution_count": 67,
   "id": "1ebfd58b-3521-486a-aa1b-70a90c04a240",
   "metadata": {},
   "outputs": [
    {
     "data": {
      "text/plain": [
       "array([[1., 0., 0.],\n",
       "       [0., 1., 0.],\n",
       "       [0., 0., 1.]])"
      ]
     },
     "execution_count": 67,
     "metadata": {},
     "output_type": "execute_result"
    }
   ],
   "source": [
    "np.eye(3)"
   ]
  },
  {
   "cell_type": "code",
   "execution_count": 70,
   "id": "3b577760-a568-4e29-9716-cd5b1bf64d5b",
   "metadata": {},
   "outputs": [
    {
     "data": {
      "text/plain": [
       "array([   100.        ,    215.443469  ,    464.15888336,   1000.        ,\n",
       "         2154.43469003,   4641.58883361,  10000.        ,  21544.34690032,\n",
       "        46415.88833613, 100000.        ])"
      ]
     },
     "execution_count": 70,
     "metadata": {},
     "output_type": "execute_result"
    }
   ],
   "source": [
    "np.logspace(2,5,10)"
   ]
  },
  {
   "cell_type": "code",
   "execution_count": 76,
   "id": "c565133f-e392-44aa-bff2-b8d4d94725c8",
   "metadata": {},
   "outputs": [
    {
     "data": {
      "text/plain": [
       "array([4.00000000e+00, 7.94418373e+00, 1.57775138e+01, 3.13348671e+01,\n",
       "       6.22324854e+01, 1.23596575e+02, 2.45468474e+02, 4.87511665e+02,\n",
       "       9.68220560e+02, 1.92293051e+03, 3.81902831e+03, 7.58476564e+03,\n",
       "       1.50636930e+04, 2.99171861e+04, 5.94169059e+04, 1.18004704e+05,\n",
       "       2.34362763e+05, 4.65455212e+05, 9.24415432e+05, 1.83593151e+06,\n",
       "       3.64624431e+06, 7.24160868e+06, 1.43821675e+07, 2.85636452e+07,\n",
       "       5.67287114e+07, 1.12665827e+08, 2.23759507e+08, 4.44396658e+08,\n",
       "       8.82592176e+08, 1.75286860e+09, 3.48127756e+09, 6.91397714e+09,\n",
       "       1.37314762e+10, 2.72713424e+10, 5.41621387e+10, 1.07568495e+11,\n",
       "       2.13635973e+11, 4.24290855e+11, 8.42661126e+11, 1.67356370e+12,\n",
       "       3.32377439e+12, 6.60116860e+12, 1.31102241e+13, 2.60375072e+13,\n",
       "       5.17116852e+13, 1.02701782e+14, 2.03970457e+14, 4.05094696e+14,\n",
       "       8.04536674e+14, 1.59784679e+15, 3.17339712e+15, 6.30251244e+15,\n",
       "       1.25170792e+16, 2.48594943e+16, 4.93720975e+16, 9.80552534e+16,\n",
       "       1.94742237e+17, 3.86767028e+17, 7.68137084e+17, 1.52555553e+18,\n",
       "       3.02982336e+18, 6.01736836e+18, 1.19507700e+19, 2.37347781e+19,\n",
       "       4.71383595e+19, 9.36189472e+19, 1.85931529e+20, 3.69268558e+20,\n",
       "       7.33384317e+20, 1.45653494e+21, 2.89274530e+21, 5.74512503e+21,\n",
       "       1.14100822e+22, 2.26609474e+22, 4.50056823e+22, 8.93833524e+22,\n",
       "       1.77519443e+23, 3.52561769e+23, 7.00203867e+23, 1.39063704e+24,\n",
       "       2.76186904e+24, 5.48519878e+24, 1.08938567e+25, 2.16356999e+25,\n",
       "       4.29694937e+25, 8.53393883e+25, 1.69487945e+26, 3.36610844e+26,\n",
       "       6.68524598e+26, 1.32772056e+27, 2.63691402e+27, 5.23703236e+27,\n",
       "       1.04009868e+28, 2.06568376e+28, 4.10254283e+28, 8.14783849e+28,\n",
       "       1.61819815e+29, 3.21381586e+29, 6.38278591e+29, 1.26765060e+30])"
      ]
     },
     "execution_count": 76,
     "metadata": {},
     "output_type": "execute_result"
    }
   ],
   "source": [
    "np.logspace(2,100,100, base=2)"
   ]
  },
  {
   "cell_type": "code",
   "execution_count": 78,
   "id": "8be81913-9a25-466f-b57d-4f5d4ba50be4",
   "metadata": {},
   "outputs": [
    {
     "data": {
      "text/plain": [
       "array([[-0.38363301, -0.02000628,  0.43377888, -1.13462817,  0.71042612,\n",
       "        -0.33894983, -2.1513035 , -0.64814302,  0.9696867 ,  0.79735541]])"
      ]
     },
     "execution_count": 78,
     "metadata": {},
     "output_type": "execute_result"
    }
   ],
   "source": [
    "np.random.randn(1,10)"
   ]
  },
  {
   "cell_type": "code",
   "execution_count": 79,
   "id": "5791d0d3-9158-436f-b87e-6dcec7e82186",
   "metadata": {},
   "outputs": [
    {
     "data": {
      "text/plain": [
       "array([[0.26288487, 0.24902498, 0.01399817, 0.20302734, 0.65160691,\n",
       "        0.83124378, 0.92922988, 0.55753976, 0.11225822, 0.46810851]])"
      ]
     },
     "execution_count": 79,
     "metadata": {},
     "output_type": "execute_result"
    }
   ],
   "source": [
    "np.random.rand(1,10)"
   ]
  },
  {
   "cell_type": "raw",
   "id": "5ed4e8b6-c67e-4c08-96e2-938622890291",
   "metadata": {},
   "source": []
  },
  {
   "cell_type": "code",
   "execution_count": 80,
   "id": "ff123847-c92a-491d-b503-fcfb6c8d9f8a",
   "metadata": {},
   "outputs": [
    {
     "data": {
      "text/plain": [
       "array([[5.44592039e-01, 2.23691260e-01, 6.71943353e-01, 2.00469068e-01,\n",
       "        9.63515018e-01, 4.84614198e-01, 5.00176524e-01, 1.71405302e-01,\n",
       "        9.58561161e-02, 6.67553388e-01, 1.36562421e-01, 8.83684544e-01,\n",
       "        1.49702591e-01, 3.81795745e-02, 7.40057583e-02, 2.54909879e-01,\n",
       "        1.48326092e-01, 3.74312764e-01, 3.00289159e-01, 7.15996137e-01,\n",
       "        4.62761085e-01, 2.51806800e-01, 9.32005870e-01, 3.71189170e-01,\n",
       "        2.13541009e-01, 1.61537395e-01, 3.87520701e-01, 7.84379342e-03,\n",
       "        4.31599145e-01, 9.31434622e-01, 1.03640907e-01, 6.42513141e-01,\n",
       "        9.11044432e-01, 3.08848196e-01, 6.62091077e-03, 8.43349557e-01,\n",
       "        4.89553840e-02, 4.12257110e-01, 8.20420979e-01, 8.38154016e-01,\n",
       "        6.26190928e-01, 1.94355523e-01, 5.13751000e-02, 5.70129314e-01,\n",
       "        4.95600816e-01, 4.46032639e-01, 3.79374691e-01, 2.02363005e-01,\n",
       "        4.37864204e-01, 8.37223695e-01, 8.72849093e-01, 7.61678269e-01,\n",
       "        3.20308955e-01, 2.78644368e-01, 2.75796546e-01, 9.37246550e-01,\n",
       "        1.94181110e-01, 3.81718672e-01, 5.34882648e-01, 2.67037299e-02,\n",
       "        1.02914232e-01, 8.18225449e-01, 5.80560272e-01, 5.59031501e-01,\n",
       "        2.98298411e-01, 1.88598574e-01, 4.61728050e-01, 9.71865965e-01,\n",
       "        4.90612584e-01, 8.58599474e-04, 1.64122696e-01, 5.24733747e-01,\n",
       "        9.02471528e-01, 8.37735373e-01, 8.92331480e-01, 5.76693136e-01,\n",
       "        3.83274273e-01, 6.27001532e-01, 1.17055871e-02, 3.70339092e-01,\n",
       "        5.48193400e-01, 3.65179576e-01, 7.62522711e-01, 7.17784500e-01,\n",
       "        4.90171939e-01, 2.30740729e-01, 1.65389184e-01, 2.93558987e-01,\n",
       "        2.36139884e-01, 4.76955983e-01, 9.62983109e-01, 8.70132879e-01,\n",
       "        1.82532018e-01, 6.50181952e-01, 8.79833916e-01, 6.53116234e-01,\n",
       "        3.17579318e-01, 4.85536541e-01, 2.10482013e-01, 7.61253358e-01],\n",
       "       [2.28098362e-01, 7.97356662e-01, 5.64899000e-01, 3.45362237e-01,\n",
       "        5.91343536e-01, 1.70393492e-01, 3.95913450e-01, 1.58670402e-01,\n",
       "        2.11915508e-01, 5.15025605e-01, 2.79735816e-01, 6.90284859e-02,\n",
       "        7.93412813e-01, 9.92838835e-01, 9.50794949e-01, 3.82634215e-01,\n",
       "        5.99766729e-02, 8.49411241e-01, 2.81457483e-01, 1.73382552e-01,\n",
       "        3.07451986e-01, 8.59272924e-01, 3.70059497e-01, 8.75149582e-01,\n",
       "        7.53272260e-01, 8.20275647e-01, 1.16968824e-01, 7.13174916e-02,\n",
       "        4.37663465e-02, 7.80804875e-01, 4.80451061e-01, 9.07400199e-01,\n",
       "        5.57053358e-01, 3.23837539e-01, 6.97880130e-01, 3.27951313e-01,\n",
       "        9.13450054e-01, 1.81279299e-01, 2.53961085e-01, 7.71427315e-01,\n",
       "        4.13103991e-01, 8.94421689e-01, 6.34810746e-01, 4.01865114e-01,\n",
       "        6.87416080e-01, 9.81504983e-01, 4.21839069e-01, 3.74589924e-02,\n",
       "        8.48872703e-01, 1.38484967e-01, 4.25620101e-01, 7.70523027e-01,\n",
       "        2.43980196e-01, 7.98692695e-01, 8.16236566e-01, 2.25733109e-01,\n",
       "        1.57397014e-01, 6.18193311e-01, 4.93067520e-02, 8.69673987e-01,\n",
       "        6.13113020e-01, 1.97983120e-01, 1.05523052e-01, 2.81528167e-01,\n",
       "        7.79970852e-01, 1.14600848e-01, 7.45310849e-01, 2.87045317e-01,\n",
       "        8.40144349e-01, 4.17781866e-01, 5.47624229e-01, 9.44632978e-01,\n",
       "        1.11745778e-01, 1.72873013e-01, 2.76256371e-01, 3.14839934e-02,\n",
       "        9.57705066e-01, 5.15937959e-01, 6.44848062e-01, 6.00629523e-01,\n",
       "        9.31247145e-01, 9.09472821e-01, 5.46676761e-03, 1.34728993e-01,\n",
       "        7.87967507e-01, 6.70033838e-01, 5.74914820e-01, 1.95243406e-02,\n",
       "        4.47869644e-01, 8.43413240e-01, 1.59246794e-02, 1.46601042e-01,\n",
       "        6.04132873e-01, 2.33026945e-01, 2.66244869e-01, 6.64865494e-01,\n",
       "        3.43430008e-01, 3.43273081e-01, 7.77263353e-01, 1.24234281e-01]])"
      ]
     },
     "execution_count": 80,
     "metadata": {},
     "output_type": "execute_result"
    }
   ],
   "source": [
    "np.random.rand(2,100)"
   ]
  },
  {
   "cell_type": "code",
   "execution_count": 81,
   "id": "b79b530e-f666-46ac-b409-da81cb37f914",
   "metadata": {},
   "outputs": [],
   "source": [
    "arr=np.random.rand(3,4)"
   ]
  },
  {
   "cell_type": "code",
   "execution_count": 82,
   "id": "9c400c15-f2c2-4269-a7a6-27bc25029fa4",
   "metadata": {},
   "outputs": [
    {
     "data": {
      "text/plain": [
       "array([[0.66994897, 0.11837959, 0.02607209, 0.37643808],\n",
       "       [0.22215212, 0.46323653, 0.56543111, 0.82897557],\n",
       "       [0.83436276, 0.35384585, 0.75261618, 0.46475353]])"
      ]
     },
     "execution_count": 82,
     "metadata": {},
     "output_type": "execute_result"
    }
   ],
   "source": [
    "arr"
   ]
  },
  {
   "cell_type": "code",
   "execution_count": 83,
   "id": "83c6e574-9af2-4a31-8af0-2f40a03b930b",
   "metadata": {},
   "outputs": [
    {
     "data": {
      "text/plain": [
       "array([[0.66994897, 0.11837959],\n",
       "       [0.02607209, 0.37643808],\n",
       "       [0.22215212, 0.46323653],\n",
       "       [0.56543111, 0.82897557],\n",
       "       [0.83436276, 0.35384585],\n",
       "       [0.75261618, 0.46475353]])"
      ]
     },
     "execution_count": 83,
     "metadata": {},
     "output_type": "execute_result"
    }
   ],
   "source": [
    "arr.reshape(6,2)"
   ]
  },
  {
   "cell_type": "code",
   "execution_count": 85,
   "id": "530b8a17-b2e1-442c-85c5-402a769e318c",
   "metadata": {},
   "outputs": [
    {
     "data": {
      "text/plain": [
       "array([[0.66994897],\n",
       "       [0.11837959],\n",
       "       [0.02607209],\n",
       "       [0.37643808],\n",
       "       [0.22215212],\n",
       "       [0.46323653],\n",
       "       [0.56543111],\n",
       "       [0.82897557],\n",
       "       [0.83436276],\n",
       "       [0.35384585],\n",
       "       [0.75261618],\n",
       "       [0.46475353]])"
      ]
     },
     "execution_count": 85,
     "metadata": {},
     "output_type": "execute_result"
    }
   ],
   "source": [
    "arr.reshape(12,1)"
   ]
  },
  {
   "cell_type": "code",
   "execution_count": 86,
   "id": "07d1e380-edfc-4f39-9955-3db2f59a6bc6",
   "metadata": {},
   "outputs": [
    {
     "data": {
      "text/plain": [
       "array([[0.81850411, 0.34406335, 0.16146853, 0.6135455 ],\n",
       "       [0.47133016, 0.68061482, 0.75195154, 0.91048096],\n",
       "       [0.91343459, 0.59484943, 0.86753454, 0.68172834]])"
      ]
     },
     "execution_count": 86,
     "metadata": {},
     "output_type": "execute_result"
    }
   ],
   "source": [
    "np.sqrt(arr)"
   ]
  },
  {
   "cell_type": "code",
   "execution_count": 87,
   "id": "41eb8eec-deef-40e6-9226-c1597d8d95ed",
   "metadata": {},
   "outputs": [
    {
     "data": {
      "text/plain": [
       "22026.465794806718"
      ]
     },
     "execution_count": 87,
     "metadata": {},
     "output_type": "execute_result"
    }
   ],
   "source": [
    "np.exp(10)"
   ]
  },
  {
   "cell_type": "code",
   "execution_count": 88,
   "id": "1d21d424-e33e-40a7-81df-2613420f3d52",
   "metadata": {},
   "outputs": [
    {
     "data": {
      "text/plain": [
       "array([[-0.17395827, -0.92672317, -1.58382423, -0.42430646],\n",
       "       [-0.65334955, -0.3341972 , -0.2476203 , -0.08145827],\n",
       "       [-0.07864509, -0.4511859 , -0.12342645, -0.3327773 ]])"
      ]
     },
     "execution_count": 88,
     "metadata": {},
     "output_type": "execute_result"
    }
   ],
   "source": [
    "np.log10(arr)"
   ]
  },
  {
   "cell_type": "code",
   "execution_count": null,
   "id": "04ab38bb-0342-494b-b894-f73459eeb9a8",
   "metadata": {},
   "outputs": [],
   "source": []
  }
 ],
 "metadata": {
  "kernelspec": {
   "display_name": "Python 3 (ipykernel)",
   "language": "python",
   "name": "python3"
  },
  "language_info": {
   "codemirror_mode": {
    "name": "ipython",
    "version": 3
   },
   "file_extension": ".py",
   "mimetype": "text/x-python",
   "name": "python",
   "nbconvert_exporter": "python",
   "pygments_lexer": "ipython3",
   "version": "3.10.8"
  }
 },
 "nbformat": 4,
 "nbformat_minor": 5
}
