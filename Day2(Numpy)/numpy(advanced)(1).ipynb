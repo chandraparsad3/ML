{
 "cells": [
  {
   "cell_type": "code",
   "execution_count": 2,
   "id": "5c450609-aab5-4d0d-b2f1-11a36b96d275",
   "metadata": {},
   "outputs": [],
   "source": [
    "import numpy as np"
   ]
  },
  {
   "cell_type": "code",
   "execution_count": 10,
   "id": "a41b5d66-6e6a-45bf-8535-8ebfba8a77e0",
   "metadata": {},
   "outputs": [],
   "source": [
    "arr=np.random.randint(1,10,(2,6))"
   ]
  },
  {
   "cell_type": "code",
   "execution_count": 11,
   "id": "5a3d3d26-4718-4143-b812-f57e8a63ea17",
   "metadata": {},
   "outputs": [
    {
     "data": {
      "text/plain": [
       "array([[3, 2, 6, 5, 1, 9],\n",
       "       [7, 6, 6, 5, 8, 9]])"
      ]
     },
     "execution_count": 11,
     "metadata": {},
     "output_type": "execute_result"
    }
   ],
   "source": [
    "arr"
   ]
  },
  {
   "cell_type": "code",
   "execution_count": 12,
   "id": "bdabec32-1097-4d8c-95e8-873147c43fee",
   "metadata": {},
   "outputs": [
    {
     "data": {
      "text/plain": [
       "array([[3, 2, 6, 5],\n",
       "       [1, 9, 7, 6],\n",
       "       [6, 5, 8, 9]])"
      ]
     },
     "execution_count": 12,
     "metadata": {},
     "output_type": "execute_result"
    }
   ],
   "source": [
    "arr.reshape(3,4)"
   ]
  },
  {
   "cell_type": "code",
   "execution_count": 14,
   "id": "2aa5b96f-5fd3-48ad-b6da-d56efab3a3b6",
   "metadata": {},
   "outputs": [
    {
     "data": {
      "text/plain": [
       "array([3, 2, 6, 5, 1, 9, 7, 6, 6, 5, 8, 9])"
      ]
     },
     "execution_count": 14,
     "metadata": {},
     "output_type": "execute_result"
    }
   ],
   "source": [
    "arr.flatten()"
   ]
  },
  {
   "cell_type": "code",
   "execution_count": 15,
   "id": "277d3b4f-1a79-44b0-8ac6-e7055562ebb6",
   "metadata": {},
   "outputs": [
    {
     "data": {
      "text/plain": [
       "array([[3, 7],\n",
       "       [2, 6],\n",
       "       [6, 6],\n",
       "       [5, 5],\n",
       "       [1, 8],\n",
       "       [9, 9]])"
      ]
     },
     "execution_count": 15,
     "metadata": {},
     "output_type": "execute_result"
    }
   ],
   "source": [
    "arr.T"
   ]
  },
  {
   "cell_type": "code",
   "execution_count": 20,
   "id": "5e8fb5ec-2171-4015-a6b4-914f46163386",
   "metadata": {},
   "outputs": [
    {
     "data": {
      "text/plain": [
       "array([[[3, 2, 6, 5, 1, 9],\n",
       "        [7, 6, 6, 5, 8, 9]]])"
      ]
     },
     "execution_count": 20,
     "metadata": {},
     "output_type": "execute_result"
    }
   ],
   "source": [
    "np.expand_dims(arr,axis=0)"
   ]
  },
  {
   "cell_type": "code",
   "execution_count": 22,
   "id": "e07d262e-76a9-4340-96ad-b29474d14a13",
   "metadata": {},
   "outputs": [
    {
     "data": {
      "text/plain": [
       "array([[[3, 2, 6, 5, 1, 9]],\n",
       "\n",
       "       [[7, 6, 6, 5, 8, 9]]])"
      ]
     },
     "execution_count": 22,
     "metadata": {},
     "output_type": "execute_result"
    }
   ],
   "source": [
    "np.expand_dims(arr,axis=1)"
   ]
  },
  {
   "cell_type": "code",
   "execution_count": 23,
   "id": "3dae780c-fe75-4778-b0ed-8674af5d9d6a",
   "metadata": {},
   "outputs": [
    {
     "data": {
      "text/plain": [
       "array([[3, 2, 6, 5, 1, 9],\n",
       "       [7, 6, 6, 5, 8, 9]])"
      ]
     },
     "execution_count": 23,
     "metadata": {},
     "output_type": "execute_result"
    }
   ],
   "source": [
    "arr.squeeze()"
   ]
  },
  {
   "cell_type": "code",
   "execution_count": 24,
   "id": "82bf462e-93f8-4699-9ca3-9db629dfacc7",
   "metadata": {},
   "outputs": [],
   "source": [
    "arr2=np.array([[1],[2],[3]])"
   ]
  },
  {
   "cell_type": "code",
   "execution_count": 25,
   "id": "02043001-150c-4607-82c5-476c0b4ea0ef",
   "metadata": {},
   "outputs": [
    {
     "data": {
      "text/plain": [
       "array([1, 2, 3])"
      ]
     },
     "execution_count": 25,
     "metadata": {},
     "output_type": "execute_result"
    }
   ],
   "source": [
    "arr2.squeeze()"
   ]
  },
  {
   "cell_type": "code",
   "execution_count": 26,
   "id": "aa4a3444-338d-4452-aed3-e672058d836d",
   "metadata": {},
   "outputs": [
    {
     "data": {
      "text/plain": [
       "array([1, 1, 1, 2, 2, 2, 3, 3, 3])"
      ]
     },
     "execution_count": 26,
     "metadata": {},
     "output_type": "execute_result"
    }
   ],
   "source": [
    "np.repeat(arr2,3)"
   ]
  },
  {
   "cell_type": "code",
   "execution_count": 28,
   "id": "f4f3efd0-4d19-4d0b-a2d8-cd7a2779e0eb",
   "metadata": {},
   "outputs": [
    {
     "data": {
      "text/plain": [
       "array([[2],\n",
       "       [3],\n",
       "       [1]])"
      ]
     },
     "execution_count": 28,
     "metadata": {},
     "output_type": "execute_result"
    }
   ],
   "source": [
    "np.roll(arr2,2)"
   ]
  },
  {
   "cell_type": "code",
   "execution_count": 30,
   "id": "9fcf6ed3-5b84-4c17-886f-734ff773e351",
   "metadata": {},
   "outputs": [
    {
     "data": {
      "text/plain": [
       "array([3, 6])"
      ]
     },
     "execution_count": 30,
     "metadata": {},
     "output_type": "execute_result"
    }
   ],
   "source": [
    "np.diag(arr)"
   ]
  },
  {
   "cell_type": "code",
   "execution_count": 31,
   "id": "286c1db2-b823-428b-959b-9ac54fd70462",
   "metadata": {},
   "outputs": [],
   "source": [
    "arr3=np.array([3,4,5,6,7,8,9])\n"
   ]
  },
  {
   "cell_type": "code",
   "execution_count": 32,
   "id": "37a88366-edd4-45cf-8eed-5c408887fe12",
   "metadata": {},
   "outputs": [
    {
     "data": {
      "text/plain": [
       "array([[3, 0, 0, 0, 0, 0, 0],\n",
       "       [0, 4, 0, 0, 0, 0, 0],\n",
       "       [0, 0, 5, 0, 0, 0, 0],\n",
       "       [0, 0, 0, 6, 0, 0, 0],\n",
       "       [0, 0, 0, 0, 7, 0, 0],\n",
       "       [0, 0, 0, 0, 0, 8, 0],\n",
       "       [0, 0, 0, 0, 0, 0, 9]])"
      ]
     },
     "execution_count": 32,
     "metadata": {},
     "output_type": "execute_result"
    }
   ],
   "source": [
    "np.diag(arr3)"
   ]
  },
  {
   "cell_type": "code",
   "execution_count": 55,
   "id": "24818e28-b979-4d70-bc1c-47d4f942f2e0",
   "metadata": {},
   "outputs": [],
   "source": [
    "arr4=np.random.randint(-12,100,[1,50])"
   ]
  },
  {
   "cell_type": "code",
   "execution_count": 56,
   "id": "a9f02dc8-95ae-488c-9ee4-a177ec4a8fbd",
   "metadata": {},
   "outputs": [
    {
     "data": {
      "text/plain": [
       "array([[ 73,  49,  10,  85,   2,  86,  51,  55,  73,  95,  42,  85,   6,\n",
       "         82,  66,  89,  99,  66,  94,  33,  54,  51,  20,  41,  44,  45,\n",
       "          2,  29,  82,  41,  95,  33,  -4,  18,  36,   9,  89,   5,  74,\n",
       "         31,  71,  91,  60,  83,  63, -12,   3,  -6,  70,  33]])"
      ]
     },
     "execution_count": 56,
     "metadata": {},
     "output_type": "execute_result"
    }
   ],
   "source": [
    "arr4"
   ]
  },
  {
   "cell_type": "code",
   "execution_count": 57,
   "id": "5f1cc149-b8b2-4bea-a599-a1b3022a03b3",
   "metadata": {},
   "outputs": [
    {
     "data": {
      "text/plain": [
       "array([[-12,  -6,  -4,   2,   2,   3,   5,   6,   9,  10,  18,  20,  29,\n",
       "         31,  33,  33,  33,  36,  41,  41,  42,  44,  45,  49,  51,  51,\n",
       "         54,  55,  60,  63,  66,  66,  70,  71,  73,  73,  74,  82,  82,\n",
       "         83,  85,  85,  86,  89,  89,  91,  94,  95,  95,  99]])"
      ]
     },
     "execution_count": 57,
     "metadata": {},
     "output_type": "execute_result"
    }
   ],
   "source": [
    "np.sort(arr4)"
   ]
  },
  {
   "cell_type": "code",
   "execution_count": 58,
   "id": "5debbe06-81d4-4b16-abb9-e21b21defa31",
   "metadata": {},
   "outputs": [
    {
     "data": {
      "text/plain": [
       "50"
      ]
     },
     "execution_count": 58,
     "metadata": {},
     "output_type": "execute_result"
    }
   ],
   "source": [
    "np.count_nonzero(arr4)"
   ]
  },
  {
   "cell_type": "code",
   "execution_count": 59,
   "id": "c55da6f4-645e-44c8-bc21-7b43baf28075",
   "metadata": {},
   "outputs": [
    {
     "data": {
      "text/plain": [
       "array([73, 49, 85, 86, 51, 55, 73, 95, 42, 85, 82, 66, 89, 99, 66, 94, 33,\n",
       "       54, 51, 41, 44, 45, 29, 82, 41, 95, 33, 36, 89, 74, 31, 71, 91, 60,\n",
       "       83, 63, 70, 33])"
      ]
     },
     "execution_count": 59,
     "metadata": {},
     "output_type": "execute_result"
    }
   ],
   "source": [
    "np.extract(arr4>22,arr4)"
   ]
  },
  {
   "cell_type": "code",
   "execution_count": 60,
   "id": "c8595f7e-a771-42a5-8e2e-ceedf4a80b59",
   "metadata": {},
   "outputs": [
    {
     "data": {
      "text/plain": [
       "array([73, 49, 85, 86, 51, 55, 73, 95, 42, 85, 82, 66, 89, 99, 66, 94, 33,\n",
       "       54, 51, 41, 44, 45, 82, 41, 95, 33, 36, 89, 74, 31, 71, 91, 60, 83,\n",
       "       63, 70, 33])"
      ]
     },
     "execution_count": 60,
     "metadata": {},
     "output_type": "execute_result"
    }
   ],
   "source": [
    "np.extract(arr4>29,arr4)"
   ]
  },
  {
   "cell_type": "code",
   "execution_count": 61,
   "id": "281820d2-e533-46c8-8aff-91ebcecadb5e",
   "metadata": {},
   "outputs": [
    {
     "data": {
      "text/plain": [
       "(array([0, 0, 0, 0, 0, 0, 0, 0, 0, 0, 0, 0, 0, 0, 0, 0, 0, 0, 0, 0, 0, 0,\n",
       "        0, 0, 0, 0, 0, 0, 0, 0, 0, 0, 0, 0, 0, 0, 0, 0, 0, 0]),\n",
       " array([ 0,  1,  3,  5,  6,  7,  8,  9, 10, 11, 13, 14, 15, 16, 17, 18, 19,\n",
       "        20, 21, 22, 23, 24, 25, 27, 28, 29, 30, 31, 33, 34, 36, 38, 39, 40,\n",
       "        41, 42, 43, 44, 48, 49]))"
      ]
     },
     "execution_count": 61,
     "metadata": {},
     "output_type": "execute_result"
    }
   ],
   "source": [
    "np.where(arr4>10)"
   ]
  },
  {
   "cell_type": "code",
   "execution_count": 62,
   "id": "488db44a-82fb-4e50-97c5-92169476f284",
   "metadata": {},
   "outputs": [],
   "source": [
    "d=arr4.view()"
   ]
  },
  {
   "cell_type": "code",
   "execution_count": 63,
   "id": "faa9aedd-0b69-42f2-8743-9f447bad7c8f",
   "metadata": {},
   "outputs": [],
   "source": [
    "d[0][0]=10000"
   ]
  },
  {
   "cell_type": "code",
   "execution_count": 64,
   "id": "a790fec3-54c4-439d-b503-042f84fce44d",
   "metadata": {},
   "outputs": [
    {
     "data": {
      "text/plain": [
       "array([[10000,    49,    10,    85,     2,    86,    51,    55,    73,\n",
       "           95,    42,    85,     6,    82,    66,    89,    99,    66,\n",
       "           94,    33,    54,    51,    20,    41,    44,    45,     2,\n",
       "           29,    82,    41,    95,    33,    -4,    18,    36,     9,\n",
       "           89,     5,    74,    31,    71,    91,    60,    83,    63,\n",
       "          -12,     3,    -6,    70,    33]])"
      ]
     },
     "execution_count": 64,
     "metadata": {},
     "output_type": "execute_result"
    }
   ],
   "source": [
    "arr4"
   ]
  }
 ],
 "metadata": {
  "kernelspec": {
   "display_name": "Python 3 (ipykernel)",
   "language": "python",
   "name": "python3"
  },
  "language_info": {
   "codemirror_mode": {
    "name": "ipython",
    "version": 3
   },
   "file_extension": ".py",
   "mimetype": "text/x-python",
   "name": "python",
   "nbconvert_exporter": "python",
   "pygments_lexer": "ipython3",
   "version": "3.10.8"
  }
 },
 "nbformat": 4,
 "nbformat_minor": 5
}
