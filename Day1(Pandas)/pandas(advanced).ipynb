{
 "cells": [
  {
   "cell_type": "code",
   "execution_count": 22,
   "id": "aec3f82a-58b0-4ae5-a854-1f1d59b8c7c2",
   "metadata": {},
   "outputs": [],
   "source": [
    "import pandas as pd"
   ]
  },
  {
   "cell_type": "code",
   "execution_count": 129,
   "id": "d9ca550e-b880-4e1a-8a22-234c37518d7d",
   "metadata": {},
   "outputs": [],
   "source": [
    "df9=pd.DataFrame({\"a\":[1,2,3],\"b\":[4,5,6],\"c\":[7,8,9]})"
   ]
  },
  {
   "cell_type": "code",
   "execution_count": 130,
   "id": "73e75504-d94c-4633-8e4e-a76bdbd45512",
   "metadata": {},
   "outputs": [
    {
     "data": {
      "text/html": [
       "<div>\n",
       "<style scoped>\n",
       "    .dataframe tbody tr th:only-of-type {\n",
       "        vertical-align: middle;\n",
       "    }\n",
       "\n",
       "    .dataframe tbody tr th {\n",
       "        vertical-align: top;\n",
       "    }\n",
       "\n",
       "    .dataframe thead th {\n",
       "        text-align: right;\n",
       "    }\n",
       "</style>\n",
       "<table border=\"1\" class=\"dataframe\">\n",
       "  <thead>\n",
       "    <tr style=\"text-align: right;\">\n",
       "      <th></th>\n",
       "      <th>a</th>\n",
       "      <th>b</th>\n",
       "      <th>c</th>\n",
       "    </tr>\n",
       "  </thead>\n",
       "  <tbody>\n",
       "    <tr>\n",
       "      <th>0</th>\n",
       "      <td>1</td>\n",
       "      <td>4</td>\n",
       "      <td>7</td>\n",
       "    </tr>\n",
       "    <tr>\n",
       "      <th>1</th>\n",
       "      <td>2</td>\n",
       "      <td>5</td>\n",
       "      <td>8</td>\n",
       "    </tr>\n",
       "    <tr>\n",
       "      <th>2</th>\n",
       "      <td>3</td>\n",
       "      <td>6</td>\n",
       "      <td>9</td>\n",
       "    </tr>\n",
       "  </tbody>\n",
       "</table>\n",
       "</div>"
      ],
      "text/plain": [
       "   a  b  c\n",
       "0  1  4  7\n",
       "1  2  5  8\n",
       "2  3  6  9"
      ]
     },
     "execution_count": 130,
     "metadata": {},
     "output_type": "execute_result"
    }
   ],
   "source": [
    "df9"
   ]
  },
  {
   "cell_type": "code",
   "execution_count": 25,
   "id": "ecea2f56-a029-45f7-9fc7-4f2e8a40f33e",
   "metadata": {},
   "outputs": [],
   "source": [
    "l=[[7,8,9]]"
   ]
  },
  {
   "cell_type": "code",
   "execution_count": 26,
   "id": "8c4a719c-4da4-41fb-9e69-03c0ece02738",
   "metadata": {},
   "outputs": [
    {
     "data": {
      "text/html": [
       "<div>\n",
       "<style scoped>\n",
       "    .dataframe tbody tr th:only-of-type {\n",
       "        vertical-align: middle;\n",
       "    }\n",
       "\n",
       "    .dataframe tbody tr th {\n",
       "        vertical-align: top;\n",
       "    }\n",
       "\n",
       "    .dataframe thead th {\n",
       "        text-align: right;\n",
       "    }\n",
       "</style>\n",
       "<table border=\"1\" class=\"dataframe\">\n",
       "  <thead>\n",
       "    <tr style=\"text-align: right;\">\n",
       "      <th></th>\n",
       "      <th>a</th>\n",
       "      <th>b</th>\n",
       "      <th>c</th>\n",
       "    </tr>\n",
       "  </thead>\n",
       "  <tbody>\n",
       "    <tr>\n",
       "      <th>7</th>\n",
       "      <td>1</td>\n",
       "      <td>4</td>\n",
       "      <td>7</td>\n",
       "    </tr>\n",
       "    <tr>\n",
       "      <th>8</th>\n",
       "      <td>2</td>\n",
       "      <td>5</td>\n",
       "      <td>8</td>\n",
       "    </tr>\n",
       "    <tr>\n",
       "      <th>9</th>\n",
       "      <td>3</td>\n",
       "      <td>6</td>\n",
       "      <td>9</td>\n",
       "    </tr>\n",
       "  </tbody>\n",
       "</table>\n",
       "</div>"
      ],
      "text/plain": [
       "   a  b  c\n",
       "7  1  4  7\n",
       "8  2  5  8\n",
       "9  3  6  9"
      ]
     },
     "execution_count": 26,
     "metadata": {},
     "output_type": "execute_result"
    }
   ],
   "source": [
    "df.set_index(l)"
   ]
  },
  {
   "cell_type": "code",
   "execution_count": 27,
   "id": "560c256c-6892-459b-8c0a-db1906d60a19",
   "metadata": {},
   "outputs": [
    {
     "data": {
      "text/html": [
       "<div>\n",
       "<style scoped>\n",
       "    .dataframe tbody tr th:only-of-type {\n",
       "        vertical-align: middle;\n",
       "    }\n",
       "\n",
       "    .dataframe tbody tr th {\n",
       "        vertical-align: top;\n",
       "    }\n",
       "\n",
       "    .dataframe thead th {\n",
       "        text-align: right;\n",
       "    }\n",
       "</style>\n",
       "<table border=\"1\" class=\"dataframe\">\n",
       "  <thead>\n",
       "    <tr style=\"text-align: right;\">\n",
       "      <th></th>\n",
       "      <th>index</th>\n",
       "      <th>a</th>\n",
       "      <th>b</th>\n",
       "      <th>c</th>\n",
       "    </tr>\n",
       "  </thead>\n",
       "  <tbody>\n",
       "    <tr>\n",
       "      <th>0</th>\n",
       "      <td>0</td>\n",
       "      <td>1</td>\n",
       "      <td>4</td>\n",
       "      <td>7</td>\n",
       "    </tr>\n",
       "    <tr>\n",
       "      <th>1</th>\n",
       "      <td>1</td>\n",
       "      <td>2</td>\n",
       "      <td>5</td>\n",
       "      <td>8</td>\n",
       "    </tr>\n",
       "    <tr>\n",
       "      <th>2</th>\n",
       "      <td>2</td>\n",
       "      <td>3</td>\n",
       "      <td>6</td>\n",
       "      <td>9</td>\n",
       "    </tr>\n",
       "  </tbody>\n",
       "</table>\n",
       "</div>"
      ],
      "text/plain": [
       "   index  a  b  c\n",
       "0      0  1  4  7\n",
       "1      1  2  5  8\n",
       "2      2  3  6  9"
      ]
     },
     "execution_count": 27,
     "metadata": {},
     "output_type": "execute_result"
    }
   ],
   "source": [
    "df.reset_index()"
   ]
  },
  {
   "cell_type": "code",
   "execution_count": 28,
   "id": "b8e3c392-d6f3-482a-9dcb-f71957f5ae8f",
   "metadata": {},
   "outputs": [],
   "source": [
    "df1=df.reindex([3,4,5])"
   ]
  },
  {
   "cell_type": "code",
   "execution_count": 29,
   "id": "ea3a3e7a-422a-4008-bd29-dc9e6d67822a",
   "metadata": {},
   "outputs": [
    {
     "data": {
      "text/html": [
       "<div>\n",
       "<style scoped>\n",
       "    .dataframe tbody tr th:only-of-type {\n",
       "        vertical-align: middle;\n",
       "    }\n",
       "\n",
       "    .dataframe tbody tr th {\n",
       "        vertical-align: top;\n",
       "    }\n",
       "\n",
       "    .dataframe thead th {\n",
       "        text-align: right;\n",
       "    }\n",
       "</style>\n",
       "<table border=\"1\" class=\"dataframe\">\n",
       "  <thead>\n",
       "    <tr style=\"text-align: right;\">\n",
       "      <th></th>\n",
       "      <th>a</th>\n",
       "      <th>b</th>\n",
       "      <th>c</th>\n",
       "    </tr>\n",
       "  </thead>\n",
       "  <tbody>\n",
       "    <tr>\n",
       "      <th>3</th>\n",
       "      <td>NaN</td>\n",
       "      <td>NaN</td>\n",
       "      <td>NaN</td>\n",
       "    </tr>\n",
       "    <tr>\n",
       "      <th>4</th>\n",
       "      <td>NaN</td>\n",
       "      <td>NaN</td>\n",
       "      <td>NaN</td>\n",
       "    </tr>\n",
       "    <tr>\n",
       "      <th>5</th>\n",
       "      <td>NaN</td>\n",
       "      <td>NaN</td>\n",
       "      <td>NaN</td>\n",
       "    </tr>\n",
       "  </tbody>\n",
       "</table>\n",
       "</div>"
      ],
      "text/plain": [
       "    a   b   c\n",
       "3 NaN NaN NaN\n",
       "4 NaN NaN NaN\n",
       "5 NaN NaN NaN"
      ]
     },
     "execution_count": 29,
     "metadata": {},
     "output_type": "execute_result"
    }
   ],
   "source": [
    "df1"
   ]
  },
  {
   "cell_type": "code",
   "execution_count": 33,
   "id": "bb94c6bf-6b4b-4c47-9463-33d5685835c3",
   "metadata": {},
   "outputs": [
    {
     "data": {
      "text/html": [
       "<div>\n",
       "<style scoped>\n",
       "    .dataframe tbody tr th:only-of-type {\n",
       "        vertical-align: middle;\n",
       "    }\n",
       "\n",
       "    .dataframe tbody tr th {\n",
       "        vertical-align: top;\n",
       "    }\n",
       "\n",
       "    .dataframe thead th {\n",
       "        text-align: right;\n",
       "    }\n",
       "</style>\n",
       "<table border=\"1\" class=\"dataframe\">\n",
       "  <thead>\n",
       "    <tr style=\"text-align: right;\">\n",
       "      <th></th>\n",
       "      <th>a</th>\n",
       "      <th>b</th>\n",
       "      <th>c</th>\n",
       "    </tr>\n",
       "  </thead>\n",
       "  <tbody>\n",
       "    <tr>\n",
       "      <th>0</th>\n",
       "      <td>1</td>\n",
       "      <td>4</td>\n",
       "      <td>7</td>\n",
       "    </tr>\n",
       "    <tr>\n",
       "      <th>1</th>\n",
       "      <td>2</td>\n",
       "      <td>5</td>\n",
       "      <td>8</td>\n",
       "    </tr>\n",
       "    <tr>\n",
       "      <th>2</th>\n",
       "      <td>3</td>\n",
       "      <td>6</td>\n",
       "      <td>9</td>\n",
       "    </tr>\n",
       "  </tbody>\n",
       "</table>\n",
       "</div>"
      ],
      "text/plain": [
       "   a  b  c\n",
       "0  1  4  7\n",
       "1  2  5  8\n",
       "2  3  6  9"
      ]
     },
     "execution_count": 33,
     "metadata": {},
     "output_type": "execute_result"
    }
   ],
   "source": [
    "df"
   ]
  },
  {
   "cell_type": "code",
   "execution_count": 32,
   "id": "4c413ca6-6eee-4121-a627-426546f247f8",
   "metadata": {},
   "outputs": [
    {
     "name": "stdout",
     "output_type": "stream",
     "text": [
      "(0, a    1\n",
      "b    4\n",
      "c    7\n",
      "Name: 0, dtype: int64)\n",
      "(1, a    2\n",
      "b    5\n",
      "c    8\n",
      "Name: 1, dtype: int64)\n",
      "(2, a    3\n",
      "b    6\n",
      "c    9\n",
      "Name: 2, dtype: int64)\n"
     ]
    }
   ],
   "source": [
    "for i in df.iterrows():\n",
    "    print( i)"
   ]
  },
  {
   "cell_type": "code",
   "execution_count": 35,
   "id": "9ec0d0ce-25b7-475a-9c36-1ea8f847781a",
   "metadata": {},
   "outputs": [
    {
     "name": "stdout",
     "output_type": "stream",
     "text": [
      "(0, a    1\n",
      "b    4\n",
      "c    7\n",
      "Name: 0, dtype: int64)\n",
      "(1, a    2\n",
      "b    5\n",
      "c    8\n",
      "Name: 1, dtype: int64)\n",
      "(2, a    3\n",
      "b    6\n",
      "c    9\n",
      "Name: 2, dtype: int64)\n"
     ]
    }
   ],
   "source": [
    "for i in df.iterrows():\n",
    "    print(i)"
   ]
  },
  {
   "cell_type": "code",
   "execution_count": 36,
   "id": "af743ab2-4734-4963-a415-a3d8141e0fce",
   "metadata": {},
   "outputs": [
    {
     "name": "stdout",
     "output_type": "stream",
     "text": [
      "('a', 0    1\n",
      "1    2\n",
      "2    3\n",
      "Name: a, dtype: int64)\n",
      "('b', 0    4\n",
      "1    5\n",
      "2    6\n",
      "Name: b, dtype: int64)\n",
      "('c', 0    7\n",
      "1    8\n",
      "2    9\n",
      "Name: c, dtype: int64)\n"
     ]
    },
    {
     "name": "stderr",
     "output_type": "stream",
     "text": [
      "/tmp/ipykernel_84/36948316.py:1: FutureWarning: iteritems is deprecated and will be removed in a future version. Use .items instead.\n",
      "  for i in df.iteritems():\n"
     ]
    }
   ],
   "source": [
    "for i in df.iteritems():\n",
    "    print(i)"
   ]
  },
  {
   "cell_type": "code",
   "execution_count": 37,
   "id": "459b702d-f7dc-44b2-a593-74aef2e47faf",
   "metadata": {},
   "outputs": [
    {
     "data": {
      "text/html": [
       "<div>\n",
       "<style scoped>\n",
       "    .dataframe tbody tr th:only-of-type {\n",
       "        vertical-align: middle;\n",
       "    }\n",
       "\n",
       "    .dataframe tbody tr th {\n",
       "        vertical-align: top;\n",
       "    }\n",
       "\n",
       "    .dataframe thead th {\n",
       "        text-align: right;\n",
       "    }\n",
       "</style>\n",
       "<table border=\"1\" class=\"dataframe\">\n",
       "  <thead>\n",
       "    <tr style=\"text-align: right;\">\n",
       "      <th></th>\n",
       "      <th>a</th>\n",
       "      <th>b</th>\n",
       "      <th>c</th>\n",
       "    </tr>\n",
       "  </thead>\n",
       "  <tbody>\n",
       "    <tr>\n",
       "      <th>0</th>\n",
       "      <td>1</td>\n",
       "      <td>4</td>\n",
       "      <td>7</td>\n",
       "    </tr>\n",
       "    <tr>\n",
       "      <th>1</th>\n",
       "      <td>2</td>\n",
       "      <td>5</td>\n",
       "      <td>8</td>\n",
       "    </tr>\n",
       "    <tr>\n",
       "      <th>2</th>\n",
       "      <td>3</td>\n",
       "      <td>6</td>\n",
       "      <td>9</td>\n",
       "    </tr>\n",
       "  </tbody>\n",
       "</table>\n",
       "</div>"
      ],
      "text/plain": [
       "   a  b  c\n",
       "0  1  4  7\n",
       "1  2  5  8\n",
       "2  3  6  9"
      ]
     },
     "execution_count": 37,
     "metadata": {},
     "output_type": "execute_result"
    }
   ],
   "source": [
    "df"
   ]
  },
  {
   "cell_type": "code",
   "execution_count": 131,
   "id": "e27477cc-a7a4-47cd-9328-04a00cb9e60f",
   "metadata": {},
   "outputs": [],
   "source": [
    "df9['name']=[\"kabir\",\"pradeep\",\"suresh\"]"
   ]
  },
  {
   "cell_type": "code",
   "execution_count": 135,
   "id": "96f80712-783f-4a3f-ac59-b37b7dc4a34d",
   "metadata": {},
   "outputs": [
    {
     "data": {
      "text/html": [
       "<div>\n",
       "<style scoped>\n",
       "    .dataframe tbody tr th:only-of-type {\n",
       "        vertical-align: middle;\n",
       "    }\n",
       "\n",
       "    .dataframe tbody tr th {\n",
       "        vertical-align: top;\n",
       "    }\n",
       "\n",
       "    .dataframe thead th {\n",
       "        text-align: right;\n",
       "    }\n",
       "</style>\n",
       "<table border=\"1\" class=\"dataframe\">\n",
       "  <thead>\n",
       "    <tr style=\"text-align: right;\">\n",
       "      <th></th>\n",
       "      <th>a</th>\n",
       "      <th>b</th>\n",
       "      <th>c</th>\n",
       "      <th>name</th>\n",
       "    </tr>\n",
       "  </thead>\n",
       "  <tbody>\n",
       "    <tr>\n",
       "      <th>0</th>\n",
       "      <td>1</td>\n",
       "      <td>4</td>\n",
       "      <td>7</td>\n",
       "      <td>kabir</td>\n",
       "    </tr>\n",
       "    <tr>\n",
       "      <th>1</th>\n",
       "      <td>2</td>\n",
       "      <td>5</td>\n",
       "      <td>8</td>\n",
       "      <td>pradeep</td>\n",
       "    </tr>\n",
       "    <tr>\n",
       "      <th>2</th>\n",
       "      <td>3</td>\n",
       "      <td>6</td>\n",
       "      <td>9</td>\n",
       "      <td>suresh</td>\n",
       "    </tr>\n",
       "  </tbody>\n",
       "</table>\n",
       "</div>"
      ],
      "text/plain": [
       "   a  b  c     name\n",
       "0  1  4  7    kabir\n",
       "1  2  5  8  pradeep\n",
       "2  3  6  9   suresh"
      ]
     },
     "execution_count": 135,
     "metadata": {},
     "output_type": "execute_result"
    }
   ],
   "source": [
    "df9"
   ]
  },
  {
   "cell_type": "code",
   "execution_count": 136,
   "id": "667bf908-47d3-497c-8123-dc38f91e2442",
   "metadata": {},
   "outputs": [],
   "source": [
    "df9['surname']=['Gautam','Bhandari','Sigdel']"
   ]
  },
  {
   "cell_type": "code",
   "execution_count": 137,
   "id": "53fe418f-68f0-4a40-a7da-7a332f432f6e",
   "metadata": {},
   "outputs": [
    {
     "data": {
      "text/html": [
       "<div>\n",
       "<style scoped>\n",
       "    .dataframe tbody tr th:only-of-type {\n",
       "        vertical-align: middle;\n",
       "    }\n",
       "\n",
       "    .dataframe tbody tr th {\n",
       "        vertical-align: top;\n",
       "    }\n",
       "\n",
       "    .dataframe thead th {\n",
       "        text-align: right;\n",
       "    }\n",
       "</style>\n",
       "<table border=\"1\" class=\"dataframe\">\n",
       "  <thead>\n",
       "    <tr style=\"text-align: right;\">\n",
       "      <th></th>\n",
       "      <th>a</th>\n",
       "      <th>b</th>\n",
       "      <th>c</th>\n",
       "      <th>name</th>\n",
       "      <th>surname</th>\n",
       "    </tr>\n",
       "  </thead>\n",
       "  <tbody>\n",
       "    <tr>\n",
       "      <th>0</th>\n",
       "      <td>1</td>\n",
       "      <td>4</td>\n",
       "      <td>7</td>\n",
       "      <td>kabir</td>\n",
       "      <td>Gautam</td>\n",
       "    </tr>\n",
       "    <tr>\n",
       "      <th>1</th>\n",
       "      <td>2</td>\n",
       "      <td>5</td>\n",
       "      <td>8</td>\n",
       "      <td>pradeep</td>\n",
       "      <td>Bhandari</td>\n",
       "    </tr>\n",
       "    <tr>\n",
       "      <th>2</th>\n",
       "      <td>3</td>\n",
       "      <td>6</td>\n",
       "      <td>9</td>\n",
       "      <td>suresh</td>\n",
       "      <td>Sigdel</td>\n",
       "    </tr>\n",
       "  </tbody>\n",
       "</table>\n",
       "</div>"
      ],
      "text/plain": [
       "   a  b  c     name   surname\n",
       "0  1  4  7    kabir    Gautam\n",
       "1  2  5  8  pradeep  Bhandari\n",
       "2  3  6  9   suresh    Sigdel"
      ]
     },
     "execution_count": 137,
     "metadata": {},
     "output_type": "execute_result"
    }
   ],
   "source": [
    "df9"
   ]
  },
  {
   "cell_type": "code",
   "execution_count": 44,
   "id": "44ae0f5f-a9ab-4e95-866f-508c994fab1b",
   "metadata": {},
   "outputs": [
    {
     "data": {
      "text/plain": [
       "dtype('O')"
      ]
     },
     "execution_count": 44,
     "metadata": {},
     "output_type": "execute_result"
    }
   ],
   "source": [
    "df['surname'].dtypes"
   ]
  },
  {
   "cell_type": "code",
   "execution_count": 45,
   "id": "f347bef5-a112-4a20-b982-49b518904ded",
   "metadata": {},
   "outputs": [
    {
     "data": {
      "text/plain": [
       "a           int64\n",
       "b           int64\n",
       "c           int64\n",
       "name       object\n",
       "surname    object\n",
       "dtype: object"
      ]
     },
     "execution_count": 45,
     "metadata": {},
     "output_type": "execute_result"
    }
   ],
   "source": [
    "df.dtypes"
   ]
  },
  {
   "cell_type": "code",
   "execution_count": 48,
   "id": "f86138a5-a529-4223-bf94-5955dc14461b",
   "metadata": {},
   "outputs": [
    {
     "data": {
      "text/plain": [
       "a                             6\n",
       "b                            15\n",
       "c                            24\n",
       "name         kabirpradeepsuresh\n",
       "surname    GautamBhandariSigdel\n",
       "dtype: object"
      ]
     },
     "execution_count": 48,
     "metadata": {},
     "output_type": "execute_result"
    }
   ],
   "source": [
    "def test(x):\n",
    "    return x.sum()\n",
    "\n",
    "df.apply(test)"
   ]
  },
  {
   "cell_type": "code",
   "execution_count": 50,
   "id": "a1864b8c-aa1a-435e-bb8c-2fcef5901107",
   "metadata": {},
   "outputs": [
    {
     "data": {
      "text/plain": [
       "0    1\n",
       "1    4\n",
       "2    9\n",
       "Name: a, dtype: int64"
      ]
     },
     "execution_count": 50,
     "metadata": {},
     "output_type": "execute_result"
    }
   ],
   "source": [
    "def multiply(x):\n",
    "    return x**2\n",
    "df['a'].apply(multiply)"
   ]
  },
  {
   "cell_type": "code",
   "execution_count": 49,
   "id": "cf2426ab-14fa-4091-b527-c80a54911303",
   "metadata": {},
   "outputs": [
    {
     "data": {
      "text/html": [
       "<div>\n",
       "<style scoped>\n",
       "    .dataframe tbody tr th:only-of-type {\n",
       "        vertical-align: middle;\n",
       "    }\n",
       "\n",
       "    .dataframe tbody tr th {\n",
       "        vertical-align: top;\n",
       "    }\n",
       "\n",
       "    .dataframe thead th {\n",
       "        text-align: right;\n",
       "    }\n",
       "</style>\n",
       "<table border=\"1\" class=\"dataframe\">\n",
       "  <thead>\n",
       "    <tr style=\"text-align: right;\">\n",
       "      <th></th>\n",
       "      <th>a</th>\n",
       "      <th>b</th>\n",
       "      <th>c</th>\n",
       "      <th>name</th>\n",
       "      <th>surname</th>\n",
       "    </tr>\n",
       "  </thead>\n",
       "  <tbody>\n",
       "    <tr>\n",
       "      <th>0</th>\n",
       "      <td>1</td>\n",
       "      <td>4</td>\n",
       "      <td>7</td>\n",
       "      <td>kabir</td>\n",
       "      <td>Gautam</td>\n",
       "    </tr>\n",
       "    <tr>\n",
       "      <th>1</th>\n",
       "      <td>2</td>\n",
       "      <td>5</td>\n",
       "      <td>8</td>\n",
       "      <td>pradeep</td>\n",
       "      <td>Bhandari</td>\n",
       "    </tr>\n",
       "    <tr>\n",
       "      <th>2</th>\n",
       "      <td>3</td>\n",
       "      <td>6</td>\n",
       "      <td>9</td>\n",
       "      <td>suresh</td>\n",
       "      <td>Sigdel</td>\n",
       "    </tr>\n",
       "  </tbody>\n",
       "</table>\n",
       "</div>"
      ],
      "text/plain": [
       "   a  b  c     name   surname\n",
       "0  1  4  7    kabir    Gautam\n",
       "1  2  5  8  pradeep  Bhandari\n",
       "2  3  6  9   suresh    Sigdel"
      ]
     },
     "execution_count": 49,
     "metadata": {},
     "output_type": "execute_result"
    }
   ],
   "source": [
    "df"
   ]
  },
  {
   "cell_type": "code",
   "execution_count": 52,
   "id": "958721f6-da78-4b18-b73a-e91d5fcec575",
   "metadata": {},
   "outputs": [
    {
     "data": {
      "text/plain": [
       "0    16\n",
       "1    25\n",
       "2    36\n",
       "Name: b, dtype: int64"
      ]
     },
     "execution_count": 52,
     "metadata": {},
     "output_type": "execute_result"
    }
   ],
   "source": [
    "def mulitply(x):\n",
    "    return x**2\n",
    "df['b'].apply(multiply)\n",
    "    "
   ]
  },
  {
   "cell_type": "code",
   "execution_count": 57,
   "id": "eaeef075-ec63-4c16-a8b6-b2a6d9cf9905",
   "metadata": {},
   "outputs": [],
   "source": [
    "df2=pd.DataFrame({'a':[1,2,3,4,5],'b':[5,6,7,8,9]})"
   ]
  },
  {
   "cell_type": "code",
   "execution_count": 58,
   "id": "5028babc-371d-4cb2-a90e-498a891e369f",
   "metadata": {},
   "outputs": [
    {
     "data": {
      "text/html": [
       "<div>\n",
       "<style scoped>\n",
       "    .dataframe tbody tr th:only-of-type {\n",
       "        vertical-align: middle;\n",
       "    }\n",
       "\n",
       "    .dataframe tbody tr th {\n",
       "        vertical-align: top;\n",
       "    }\n",
       "\n",
       "    .dataframe thead th {\n",
       "        text-align: right;\n",
       "    }\n",
       "</style>\n",
       "<table border=\"1\" class=\"dataframe\">\n",
       "  <thead>\n",
       "    <tr style=\"text-align: right;\">\n",
       "      <th></th>\n",
       "      <th>a</th>\n",
       "      <th>b</th>\n",
       "    </tr>\n",
       "  </thead>\n",
       "  <tbody>\n",
       "    <tr>\n",
       "      <th>0</th>\n",
       "      <td>1</td>\n",
       "      <td>5</td>\n",
       "    </tr>\n",
       "    <tr>\n",
       "      <th>1</th>\n",
       "      <td>2</td>\n",
       "      <td>6</td>\n",
       "    </tr>\n",
       "    <tr>\n",
       "      <th>2</th>\n",
       "      <td>3</td>\n",
       "      <td>7</td>\n",
       "    </tr>\n",
       "    <tr>\n",
       "      <th>3</th>\n",
       "      <td>4</td>\n",
       "      <td>8</td>\n",
       "    </tr>\n",
       "    <tr>\n",
       "      <th>4</th>\n",
       "      <td>5</td>\n",
       "      <td>9</td>\n",
       "    </tr>\n",
       "  </tbody>\n",
       "</table>\n",
       "</div>"
      ],
      "text/plain": [
       "   a  b\n",
       "0  1  5\n",
       "1  2  6\n",
       "2  3  7\n",
       "3  4  8\n",
       "4  5  9"
      ]
     },
     "execution_count": 58,
     "metadata": {},
     "output_type": "execute_result"
    }
   ],
   "source": [
    "df2"
   ]
  },
  {
   "cell_type": "code",
   "execution_count": 63,
   "id": "338ca664-8cdf-4251-b717-4b600abfbbd6",
   "metadata": {},
   "outputs": [
    {
     "data": {
      "text/html": [
       "<div>\n",
       "<style scoped>\n",
       "    .dataframe tbody tr th:only-of-type {\n",
       "        vertical-align: middle;\n",
       "    }\n",
       "\n",
       "    .dataframe tbody tr th {\n",
       "        vertical-align: top;\n",
       "    }\n",
       "\n",
       "    .dataframe thead th {\n",
       "        text-align: right;\n",
       "    }\n",
       "</style>\n",
       "<table border=\"1\" class=\"dataframe\">\n",
       "  <thead>\n",
       "    <tr style=\"text-align: right;\">\n",
       "      <th></th>\n",
       "      <th>a</th>\n",
       "      <th>b</th>\n",
       "    </tr>\n",
       "  </thead>\n",
       "  <tbody>\n",
       "    <tr>\n",
       "      <th>0</th>\n",
       "      <td>1</td>\n",
       "      <td>25</td>\n",
       "    </tr>\n",
       "    <tr>\n",
       "      <th>1</th>\n",
       "      <td>4</td>\n",
       "      <td>36</td>\n",
       "    </tr>\n",
       "    <tr>\n",
       "      <th>2</th>\n",
       "      <td>9</td>\n",
       "      <td>49</td>\n",
       "    </tr>\n",
       "    <tr>\n",
       "      <th>3</th>\n",
       "      <td>16</td>\n",
       "      <td>64</td>\n",
       "    </tr>\n",
       "    <tr>\n",
       "      <th>4</th>\n",
       "      <td>25</td>\n",
       "      <td>81</td>\n",
       "    </tr>\n",
       "  </tbody>\n",
       "</table>\n",
       "</div>"
      ],
      "text/plain": [
       "    a   b\n",
       "0   1  25\n",
       "1   4  36\n",
       "2   9  49\n",
       "3  16  64\n",
       "4  25  81"
      ]
     },
     "execution_count": 63,
     "metadata": {},
     "output_type": "execute_result"
    }
   ],
   "source": [
    "df2.applymap(lambda x: x**2)"
   ]
  },
  {
   "cell_type": "code",
   "execution_count": 64,
   "id": "62c5e06a-de93-446c-b6eb-3d3fbd258e8c",
   "metadata": {},
   "outputs": [
    {
     "data": {
      "text/html": [
       "<div>\n",
       "<style scoped>\n",
       "    .dataframe tbody tr th:only-of-type {\n",
       "        vertical-align: middle;\n",
       "    }\n",
       "\n",
       "    .dataframe tbody tr th {\n",
       "        vertical-align: top;\n",
       "    }\n",
       "\n",
       "    .dataframe thead th {\n",
       "        text-align: right;\n",
       "    }\n",
       "</style>\n",
       "<table border=\"1\" class=\"dataframe\">\n",
       "  <thead>\n",
       "    <tr style=\"text-align: right;\">\n",
       "      <th></th>\n",
       "      <th>a</th>\n",
       "      <th>b</th>\n",
       "    </tr>\n",
       "  </thead>\n",
       "  <tbody>\n",
       "    <tr>\n",
       "      <th>0</th>\n",
       "      <td>1</td>\n",
       "      <td>5</td>\n",
       "    </tr>\n",
       "    <tr>\n",
       "      <th>1</th>\n",
       "      <td>2</td>\n",
       "      <td>6</td>\n",
       "    </tr>\n",
       "    <tr>\n",
       "      <th>2</th>\n",
       "      <td>3</td>\n",
       "      <td>7</td>\n",
       "    </tr>\n",
       "    <tr>\n",
       "      <th>3</th>\n",
       "      <td>4</td>\n",
       "      <td>8</td>\n",
       "    </tr>\n",
       "    <tr>\n",
       "      <th>4</th>\n",
       "      <td>5</td>\n",
       "      <td>9</td>\n",
       "    </tr>\n",
       "  </tbody>\n",
       "</table>\n",
       "</div>"
      ],
      "text/plain": [
       "   a  b\n",
       "0  1  5\n",
       "1  2  6\n",
       "2  3  7\n",
       "3  4  8\n",
       "4  5  9"
      ]
     },
     "execution_count": 64,
     "metadata": {},
     "output_type": "execute_result"
    }
   ],
   "source": [
    "df2.sort_values('b')\n"
   ]
  },
  {
   "cell_type": "code",
   "execution_count": 65,
   "id": "fdf97386-b362-4617-98ca-2ad0c62c6277",
   "metadata": {},
   "outputs": [
    {
     "data": {
      "text/html": [
       "<div>\n",
       "<style scoped>\n",
       "    .dataframe tbody tr th:only-of-type {\n",
       "        vertical-align: middle;\n",
       "    }\n",
       "\n",
       "    .dataframe tbody tr th {\n",
       "        vertical-align: top;\n",
       "    }\n",
       "\n",
       "    .dataframe thead th {\n",
       "        text-align: right;\n",
       "    }\n",
       "</style>\n",
       "<table border=\"1\" class=\"dataframe\">\n",
       "  <thead>\n",
       "    <tr style=\"text-align: right;\">\n",
       "      <th></th>\n",
       "      <th>a</th>\n",
       "      <th>b</th>\n",
       "      <th>c</th>\n",
       "      <th>name</th>\n",
       "      <th>surname</th>\n",
       "    </tr>\n",
       "  </thead>\n",
       "  <tbody>\n",
       "    <tr>\n",
       "      <th>0</th>\n",
       "      <td>1</td>\n",
       "      <td>4</td>\n",
       "      <td>7</td>\n",
       "      <td>kabir</td>\n",
       "      <td>Gautam</td>\n",
       "    </tr>\n",
       "    <tr>\n",
       "      <th>1</th>\n",
       "      <td>2</td>\n",
       "      <td>5</td>\n",
       "      <td>8</td>\n",
       "      <td>pradeep</td>\n",
       "      <td>Bhandari</td>\n",
       "    </tr>\n",
       "    <tr>\n",
       "      <th>2</th>\n",
       "      <td>3</td>\n",
       "      <td>6</td>\n",
       "      <td>9</td>\n",
       "      <td>suresh</td>\n",
       "      <td>Sigdel</td>\n",
       "    </tr>\n",
       "  </tbody>\n",
       "</table>\n",
       "</div>"
      ],
      "text/plain": [
       "   a  b  c     name   surname\n",
       "0  1  4  7    kabir    Gautam\n",
       "1  2  5  8  pradeep  Bhandari\n",
       "2  3  6  9   suresh    Sigdel"
      ]
     },
     "execution_count": 65,
     "metadata": {},
     "output_type": "execute_result"
    }
   ],
   "source": [
    "df"
   ]
  },
  {
   "cell_type": "code",
   "execution_count": 66,
   "id": "851ffd03-6649-4a86-b3e2-be66d26d6c2c",
   "metadata": {},
   "outputs": [
    {
     "data": {
      "text/html": [
       "<div>\n",
       "<style scoped>\n",
       "    .dataframe tbody tr th:only-of-type {\n",
       "        vertical-align: middle;\n",
       "    }\n",
       "\n",
       "    .dataframe tbody tr th {\n",
       "        vertical-align: top;\n",
       "    }\n",
       "\n",
       "    .dataframe thead th {\n",
       "        text-align: right;\n",
       "    }\n",
       "</style>\n",
       "<table border=\"1\" class=\"dataframe\">\n",
       "  <thead>\n",
       "    <tr style=\"text-align: right;\">\n",
       "      <th></th>\n",
       "      <th>a</th>\n",
       "      <th>b</th>\n",
       "      <th>c</th>\n",
       "      <th>name</th>\n",
       "      <th>surname</th>\n",
       "    </tr>\n",
       "  </thead>\n",
       "  <tbody>\n",
       "    <tr>\n",
       "      <th>0</th>\n",
       "      <td>1</td>\n",
       "      <td>4</td>\n",
       "      <td>7</td>\n",
       "      <td>kabir</td>\n",
       "      <td>Gautam</td>\n",
       "    </tr>\n",
       "    <tr>\n",
       "      <th>1</th>\n",
       "      <td>2</td>\n",
       "      <td>5</td>\n",
       "      <td>8</td>\n",
       "      <td>pradeep</td>\n",
       "      <td>Bhandari</td>\n",
       "    </tr>\n",
       "    <tr>\n",
       "      <th>2</th>\n",
       "      <td>3</td>\n",
       "      <td>6</td>\n",
       "      <td>9</td>\n",
       "      <td>suresh</td>\n",
       "      <td>Sigdel</td>\n",
       "    </tr>\n",
       "  </tbody>\n",
       "</table>\n",
       "</div>"
      ],
      "text/plain": [
       "   a  b  c     name   surname\n",
       "0  1  4  7    kabir    Gautam\n",
       "1  2  5  8  pradeep  Bhandari\n",
       "2  3  6  9   suresh    Sigdel"
      ]
     },
     "execution_count": 66,
     "metadata": {},
     "output_type": "execute_result"
    }
   ],
   "source": [
    "df.sort_values('name')"
   ]
  },
  {
   "cell_type": "code",
   "execution_count": 77,
   "id": "7285c2c5-a9e5-4191-849c-31b5055487ed",
   "metadata": {},
   "outputs": [
    {
     "data": {
      "text/html": [
       "<div>\n",
       "<style scoped>\n",
       "    .dataframe tbody tr th:only-of-type {\n",
       "        vertical-align: middle;\n",
       "    }\n",
       "\n",
       "    .dataframe tbody tr th {\n",
       "        vertical-align: top;\n",
       "    }\n",
       "\n",
       "    .dataframe thead th {\n",
       "        text-align: right;\n",
       "    }\n",
       "</style>\n",
       "<table border=\"1\" class=\"dataframe\">\n",
       "  <thead>\n",
       "    <tr style=\"text-align: right;\">\n",
       "      <th></th>\n",
       "      <th>a</th>\n",
       "      <th>b</th>\n",
       "      <th>c</th>\n",
       "      <th>name</th>\n",
       "      <th>surname</th>\n",
       "    </tr>\n",
       "  </thead>\n",
       "  <tbody>\n",
       "    <tr>\n",
       "      <th>2</th>\n",
       "      <td>3</td>\n",
       "      <td>6</td>\n",
       "      <td>9</td>\n",
       "      <td>suresh</td>\n",
       "      <td>Sigdel</td>\n",
       "    </tr>\n",
       "    <tr>\n",
       "      <th>1</th>\n",
       "      <td>2</td>\n",
       "      <td>5</td>\n",
       "      <td>8</td>\n",
       "      <td>pradeep</td>\n",
       "      <td>Bhandari</td>\n",
       "    </tr>\n",
       "    <tr>\n",
       "      <th>0</th>\n",
       "      <td>1</td>\n",
       "      <td>4</td>\n",
       "      <td>7</td>\n",
       "      <td>kabir</td>\n",
       "      <td>Gautam</td>\n",
       "    </tr>\n",
       "  </tbody>\n",
       "</table>\n",
       "</div>"
      ],
      "text/plain": [
       "   a  b  c     name   surname\n",
       "2  3  6  9   suresh    Sigdel\n",
       "1  2  5  8  pradeep  Bhandari\n",
       "0  1  4  7    kabir    Gautam"
      ]
     },
     "execution_count": 77,
     "metadata": {},
     "output_type": "execute_result"
    }
   ],
   "source": [
    "df.sort_index(ascending=False)"
   ]
  },
  {
   "cell_type": "code",
   "execution_count": 78,
   "id": "27835813-60a6-449c-90e6-4b664a56540e",
   "metadata": {},
   "outputs": [],
   "source": [
    "df.set_index([[8,9,3]],inplace=True)"
   ]
  },
  {
   "cell_type": "code",
   "execution_count": 79,
   "id": "85987a3b-e022-40af-8c70-e374de8b7350",
   "metadata": {},
   "outputs": [
    {
     "data": {
      "text/html": [
       "<div>\n",
       "<style scoped>\n",
       "    .dataframe tbody tr th:only-of-type {\n",
       "        vertical-align: middle;\n",
       "    }\n",
       "\n",
       "    .dataframe tbody tr th {\n",
       "        vertical-align: top;\n",
       "    }\n",
       "\n",
       "    .dataframe thead th {\n",
       "        text-align: right;\n",
       "    }\n",
       "</style>\n",
       "<table border=\"1\" class=\"dataframe\">\n",
       "  <thead>\n",
       "    <tr style=\"text-align: right;\">\n",
       "      <th></th>\n",
       "      <th>a</th>\n",
       "      <th>b</th>\n",
       "      <th>c</th>\n",
       "      <th>name</th>\n",
       "      <th>surname</th>\n",
       "    </tr>\n",
       "  </thead>\n",
       "  <tbody>\n",
       "    <tr>\n",
       "      <th>3</th>\n",
       "      <td>1</td>\n",
       "      <td>4</td>\n",
       "      <td>7</td>\n",
       "      <td>kabir</td>\n",
       "      <td>Gautam</td>\n",
       "    </tr>\n",
       "    <tr>\n",
       "      <th>8</th>\n",
       "      <td>3</td>\n",
       "      <td>6</td>\n",
       "      <td>9</td>\n",
       "      <td>suresh</td>\n",
       "      <td>Sigdel</td>\n",
       "    </tr>\n",
       "    <tr>\n",
       "      <th>9</th>\n",
       "      <td>2</td>\n",
       "      <td>5</td>\n",
       "      <td>8</td>\n",
       "      <td>pradeep</td>\n",
       "      <td>Bhandari</td>\n",
       "    </tr>\n",
       "  </tbody>\n",
       "</table>\n",
       "</div>"
      ],
      "text/plain": [
       "   a  b  c     name   surname\n",
       "3  1  4  7    kabir    Gautam\n",
       "8  3  6  9   suresh    Sigdel\n",
       "9  2  5  8  pradeep  Bhandari"
      ]
     },
     "execution_count": 79,
     "metadata": {},
     "output_type": "execute_result"
    }
   ],
   "source": [
    "df.sort_index()"
   ]
  },
  {
   "cell_type": "code",
   "execution_count": 80,
   "id": "ea8afe10-e5b3-44bd-bbbb-624d44f684a1",
   "metadata": {},
   "outputs": [
    {
     "data": {
      "text/html": [
       "<div>\n",
       "<style scoped>\n",
       "    .dataframe tbody tr th:only-of-type {\n",
       "        vertical-align: middle;\n",
       "    }\n",
       "\n",
       "    .dataframe tbody tr th {\n",
       "        vertical-align: top;\n",
       "    }\n",
       "\n",
       "    .dataframe thead th {\n",
       "        text-align: right;\n",
       "    }\n",
       "</style>\n",
       "<table border=\"1\" class=\"dataframe\">\n",
       "  <thead>\n",
       "    <tr style=\"text-align: right;\">\n",
       "      <th></th>\n",
       "      <th>a</th>\n",
       "      <th>b</th>\n",
       "      <th>c</th>\n",
       "      <th>name</th>\n",
       "      <th>surname</th>\n",
       "    </tr>\n",
       "  </thead>\n",
       "  <tbody>\n",
       "    <tr>\n",
       "      <th>9</th>\n",
       "      <td>2</td>\n",
       "      <td>5</td>\n",
       "      <td>8</td>\n",
       "      <td>pradeep</td>\n",
       "      <td>Bhandari</td>\n",
       "    </tr>\n",
       "    <tr>\n",
       "      <th>8</th>\n",
       "      <td>3</td>\n",
       "      <td>6</td>\n",
       "      <td>9</td>\n",
       "      <td>suresh</td>\n",
       "      <td>Sigdel</td>\n",
       "    </tr>\n",
       "    <tr>\n",
       "      <th>3</th>\n",
       "      <td>1</td>\n",
       "      <td>4</td>\n",
       "      <td>7</td>\n",
       "      <td>kabir</td>\n",
       "      <td>Gautam</td>\n",
       "    </tr>\n",
       "  </tbody>\n",
       "</table>\n",
       "</div>"
      ],
      "text/plain": [
       "   a  b  c     name   surname\n",
       "9  2  5  8  pradeep  Bhandari\n",
       "8  3  6  9   suresh    Sigdel\n",
       "3  1  4  7    kabir    Gautam"
      ]
     },
     "execution_count": 80,
     "metadata": {},
     "output_type": "execute_result"
    }
   ],
   "source": [
    "df.sort_index(ascending=False)"
   ]
  },
  {
   "cell_type": "code",
   "execution_count": 91,
   "id": "a140797a-28e2-4951-9dbd-415d22f51f57",
   "metadata": {},
   "outputs": [],
   "source": [
    "pd.set_option('display.max_colwidth',5000)\n",
    "df3=pd.DataFrame({'Desc':['Germany hosts the tournament, which is taking place from 14 June 2024 to 14 July 2024. The tournament comprises 24 teams, with Georgia being the only team Get ready for thrilling matches, unforgettable moments, and the crowning of a new Euro champion.UEFA Euro 2024 features a line-up of powerhouse teams ready to ..Get ready for thrilling matches, unforgettable moments, and the crowning of a new Euro champion.UEFA Euro 2024 features a line-up of powerhouse teams ready to ..Get ready for thrilling matches, unforgettable moments, and the crowning of a new Euro champion.UEFA Euro 2024 features a line-up of powerhouse teams ready to ..Get ready for thrilling matches, unforgettable moments, and the crowning of a new Euro champion.UEFA Euro 2024 features a line-up of powerhouse teams ready to ..Get ready for thrilling matches, unforgettable moments, and the crowning of a new Euro champion.UEFA Euro 2024 features a line-up of powerhouse teams ready to ..']})"
   ]
  },
  {
   "cell_type": "code",
   "execution_count": 92,
   "id": "59e762f4-cd4a-4fce-8d03-fa9a6f3421c8",
   "metadata": {},
   "outputs": [
    {
     "data": {
      "text/html": [
       "<div>\n",
       "<style scoped>\n",
       "    .dataframe tbody tr th:only-of-type {\n",
       "        vertical-align: middle;\n",
       "    }\n",
       "\n",
       "    .dataframe tbody tr th {\n",
       "        vertical-align: top;\n",
       "    }\n",
       "\n",
       "    .dataframe thead th {\n",
       "        text-align: right;\n",
       "    }\n",
       "</style>\n",
       "<table border=\"1\" class=\"dataframe\">\n",
       "  <thead>\n",
       "    <tr style=\"text-align: right;\">\n",
       "      <th></th>\n",
       "      <th>Desc</th>\n",
       "    </tr>\n",
       "  </thead>\n",
       "  <tbody>\n",
       "    <tr>\n",
       "      <th>0</th>\n",
       "      <td>Germany hosts the tournament, which is taking place from 14 June 2024 to 14 July 2024. The tournament comprises 24 teams, with Georgia being the only team Get ready for thrilling matches, unforgettable moments, and the crowning of a new Euro champion.UEFA Euro 2024 features a line-up of powerhouse teams ready to ..Get ready for thrilling matches, unforgettable moments, and the crowning of a new Euro champion.UEFA Euro 2024 features a line-up of powerhouse teams ready to ..Get ready for thrilling matches, unforgettable moments, and the crowning of a new Euro champion.UEFA Euro 2024 features a line-up of powerhouse teams ready to ..Get ready for thrilling matches, unforgettable moments, and the crowning of a new Euro champion.UEFA Euro 2024 features a line-up of powerhouse teams ready to ..Get ready for thrilling matches, unforgettable moments, and the crowning of a new Euro champion.UEFA Euro 2024 features a line-up of powerhouse teams ready to ..</td>\n",
       "    </tr>\n",
       "  </tbody>\n",
       "</table>\n",
       "</div>"
      ],
      "text/plain": [
       "                                                                                                                                                                                                                                                                                                                                                                                                                                                                                                                                                                                                                                                                                                                                                                                                                                                                                                                                                                                               Desc\n",
       "0  Germany hosts the tournament, which is taking place from 14 June 2024 to 14 July 2024. The tournament comprises 24 teams, with Georgia being the only team Get ready for thrilling matches, unforgettable moments, and the crowning of a new Euro champion.UEFA Euro 2024 features a line-up of powerhouse teams ready to ..Get ready for thrilling matches, unforgettable moments, and the crowning of a new Euro champion.UEFA Euro 2024 features a line-up of powerhouse teams ready to ..Get ready for thrilling matches, unforgettable moments, and the crowning of a new Euro champion.UEFA Euro 2024 features a line-up of powerhouse teams ready to ..Get ready for thrilling matches, unforgettable moments, and the crowning of a new Euro champion.UEFA Euro 2024 features a line-up of powerhouse teams ready to ..Get ready for thrilling matches, unforgettable moments, and the crowning of a new Euro champion.UEFA Euro 2024 features a line-up of powerhouse teams ready to .."
      ]
     },
     "execution_count": 92,
     "metadata": {},
     "output_type": "execute_result"
    }
   ],
   "source": [
    "df3"
   ]
  },
  {
   "cell_type": "code",
   "execution_count": 98,
   "id": "3fb6fb84-7447-4104-92e4-3eb1e6267298",
   "metadata": {},
   "outputs": [],
   "source": [
    "pd.set_option('display.max_colwidth',2000)\n",
    "df3=pd.DataFrame({'Dog':['Get ready for thrilling matches, unforgettable moments, and the crowning of a new Euro champion.UEFA Euro 2024 features a line-up of powerhouse teams ready to ..vvvGet ready for thrilling matches, unforgettable moments, and the crowning of a new Euro champion.UEFA Euro 2024 features a line-up of powerhouse teams ready to ..Get ready for thrilling matches, unforgettable moments, and the crowning of a new Euro champion.UEFA Euro 2024 features a line-up of powerhouse teams ready to ..Get ready for thrilling matches, unforgettable moments, and the crowning of a new Euro champion.UEFA Euro 2024 features a line-up of powerhouse teams ready to ..Get ready for thrilling matches, unforgettable moments, and the crowning of a new Euro champion.UEFA Euro 2024 features a line-up of powerhouse teams ready to ..Get ready for thrilling matches, unforgettable moments, and the crowning of a new Euro champion.UEFA Euro 2024 features a line-up of powerhouse teams ready to ..Get ready for thrilling matches, unforgettable moments, and the crowning of a new Euro champion.UEFA Euro 2024 features a line-up of powerhouse teams ready to ..','.UEFA Euro 2024 features a','.UEFA Euro 2024 features sssssss']})"
   ]
  },
  {
   "cell_type": "code",
   "execution_count": 99,
   "id": "9467de0f-c324-42aa-b7fe-2e29748f5175",
   "metadata": {},
   "outputs": [
    {
     "data": {
      "text/html": [
       "<div>\n",
       "<style scoped>\n",
       "    .dataframe tbody tr th:only-of-type {\n",
       "        vertical-align: middle;\n",
       "    }\n",
       "\n",
       "    .dataframe tbody tr th {\n",
       "        vertical-align: top;\n",
       "    }\n",
       "\n",
       "    .dataframe thead th {\n",
       "        text-align: right;\n",
       "    }\n",
       "</style>\n",
       "<table border=\"1\" class=\"dataframe\">\n",
       "  <thead>\n",
       "    <tr style=\"text-align: right;\">\n",
       "      <th></th>\n",
       "      <th>Dog</th>\n",
       "    </tr>\n",
       "  </thead>\n",
       "  <tbody>\n",
       "    <tr>\n",
       "      <th>0</th>\n",
       "      <td>Get ready for thrilling matches, unforgettable moments, and the crowning of a new Euro champion.UEFA Euro 2024 features a line-up of powerhouse teams ready to ..vvvGet ready for thrilling matches, unforgettable moments, and the crowning of a new Euro champion.UEFA Euro 2024 features a line-up of powerhouse teams ready to ..Get ready for thrilling matches, unforgettable moments, and the crowning of a new Euro champion.UEFA Euro 2024 features a line-up of powerhouse teams ready to ..Get ready for thrilling matches, unforgettable moments, and the crowning of a new Euro champion.UEFA Euro 2024 features a line-up of powerhouse teams ready to ..Get ready for thrilling matches, unforgettable moments, and the crowning of a new Euro champion.UEFA Euro 2024 features a line-up of powerhouse teams ready to ..Get ready for thrilling matches, unforgettable moments, and the crowning of a new Euro champion.UEFA Euro 2024 features a line-up of powerhouse teams ready to ..Get ready for thrilling matches, unforgettable moments, and the crowning of a new Euro champion.UEFA Euro 2024 features a line-up of powerhouse teams ready to ..</td>\n",
       "    </tr>\n",
       "    <tr>\n",
       "      <th>1</th>\n",
       "      <td>.UEFA Euro 2024 features a</td>\n",
       "    </tr>\n",
       "    <tr>\n",
       "      <th>2</th>\n",
       "      <td>.UEFA Euro 2024 features sssssss</td>\n",
       "    </tr>\n",
       "  </tbody>\n",
       "</table>\n",
       "</div>"
      ],
      "text/plain": [
       "                                                                                                                                                                                                                                                                                                                                                                                                                                                                                                                                                                                                                                                                                                                                                                                                                                                                                                                                                                                                                                                                                                                                                                          Dog\n",
       "0  Get ready for thrilling matches, unforgettable moments, and the crowning of a new Euro champion.UEFA Euro 2024 features a line-up of powerhouse teams ready to ..vvvGet ready for thrilling matches, unforgettable moments, and the crowning of a new Euro champion.UEFA Euro 2024 features a line-up of powerhouse teams ready to ..Get ready for thrilling matches, unforgettable moments, and the crowning of a new Euro champion.UEFA Euro 2024 features a line-up of powerhouse teams ready to ..Get ready for thrilling matches, unforgettable moments, and the crowning of a new Euro champion.UEFA Euro 2024 features a line-up of powerhouse teams ready to ..Get ready for thrilling matches, unforgettable moments, and the crowning of a new Euro champion.UEFA Euro 2024 features a line-up of powerhouse teams ready to ..Get ready for thrilling matches, unforgettable moments, and the crowning of a new Euro champion.UEFA Euro 2024 features a line-up of powerhouse teams ready to ..Get ready for thrilling matches, unforgettable moments, and the crowning of a new Euro champion.UEFA Euro 2024 features a line-up of powerhouse teams ready to ..\n",
       "1                                                                                                                                                                                                                                                                                                                                                                                                                                                                                                                                                                                                                                                                                                                                                                                                                                                                                                                                                                                                                                                                                                                                                  .UEFA Euro 2024 features a\n",
       "2                                                                                                                                                                                                                                                                                                                                                                                                                                                                                                                                                                                                                                                                                                                                                                                                                                                                                                                                                                                                                                                                                                                                            .UEFA Euro 2024 features sssssss"
      ]
     },
     "execution_count": 99,
     "metadata": {},
     "output_type": "execute_result"
    }
   ],
   "source": [
    "df3"
   ]
  },
  {
   "cell_type": "code",
   "execution_count": 100,
   "id": "8c386f49-c277-4375-9ef8-f595824e665e",
   "metadata": {},
   "outputs": [],
   "source": [
    "df3['length']=df3['Dog'].apply(len)"
   ]
  },
  {
   "cell_type": "code",
   "execution_count": 101,
   "id": "933e2527-ea53-4cbb-8221-f72ac02a9456",
   "metadata": {},
   "outputs": [
    {
     "data": {
      "text/html": [
       "<div>\n",
       "<style scoped>\n",
       "    .dataframe tbody tr th:only-of-type {\n",
       "        vertical-align: middle;\n",
       "    }\n",
       "\n",
       "    .dataframe tbody tr th {\n",
       "        vertical-align: top;\n",
       "    }\n",
       "\n",
       "    .dataframe thead th {\n",
       "        text-align: right;\n",
       "    }\n",
       "</style>\n",
       "<table border=\"1\" class=\"dataframe\">\n",
       "  <thead>\n",
       "    <tr style=\"text-align: right;\">\n",
       "      <th></th>\n",
       "      <th>Dog</th>\n",
       "      <th>length</th>\n",
       "    </tr>\n",
       "  </thead>\n",
       "  <tbody>\n",
       "    <tr>\n",
       "      <th>0</th>\n",
       "      <td>Get ready for thrilling matches, unforgettable moments, and the crowning of a new Euro champion.UEFA Euro 2024 features a line-up of powerhouse teams ready to ..vvvGet ready for thrilling matches, unforgettable moments, and the crowning of a new Euro champion.UEFA Euro 2024 features a line-up of powerhouse teams ready to ..Get ready for thrilling matches, unforgettable moments, and the crowning of a new Euro champion.UEFA Euro 2024 features a line-up of powerhouse teams ready to ..Get ready for thrilling matches, unforgettable moments, and the crowning of a new Euro champion.UEFA Euro 2024 features a line-up of powerhouse teams ready to ..Get ready for thrilling matches, unforgettable moments, and the crowning of a new Euro champion.UEFA Euro 2024 features a line-up of powerhouse teams ready to ..Get ready for thrilling matches, unforgettable moments, and the crowning of a new Euro champion.UEFA Euro 2024 features a line-up of powerhouse teams ready to ..Get ready for thrilling matches, unforgettable moments, and the crowning of a new Euro champion.UEFA Euro 2024 features a line-up of powerhouse teams ready to ..</td>\n",
       "      <td>1130</td>\n",
       "    </tr>\n",
       "    <tr>\n",
       "      <th>1</th>\n",
       "      <td>.UEFA Euro 2024 features a</td>\n",
       "      <td>26</td>\n",
       "    </tr>\n",
       "    <tr>\n",
       "      <th>2</th>\n",
       "      <td>.UEFA Euro 2024 features sssssss</td>\n",
       "      <td>32</td>\n",
       "    </tr>\n",
       "  </tbody>\n",
       "</table>\n",
       "</div>"
      ],
      "text/plain": [
       "                                                                                                                                                                                                                                                                                                                                                                                                                                                                                                                                                                                                                                                                                                                                                                                                                                                                                                                                                                                                                                                                                                                                                                          Dog  \\\n",
       "0  Get ready for thrilling matches, unforgettable moments, and the crowning of a new Euro champion.UEFA Euro 2024 features a line-up of powerhouse teams ready to ..vvvGet ready for thrilling matches, unforgettable moments, and the crowning of a new Euro champion.UEFA Euro 2024 features a line-up of powerhouse teams ready to ..Get ready for thrilling matches, unforgettable moments, and the crowning of a new Euro champion.UEFA Euro 2024 features a line-up of powerhouse teams ready to ..Get ready for thrilling matches, unforgettable moments, and the crowning of a new Euro champion.UEFA Euro 2024 features a line-up of powerhouse teams ready to ..Get ready for thrilling matches, unforgettable moments, and the crowning of a new Euro champion.UEFA Euro 2024 features a line-up of powerhouse teams ready to ..Get ready for thrilling matches, unforgettable moments, and the crowning of a new Euro champion.UEFA Euro 2024 features a line-up of powerhouse teams ready to ..Get ready for thrilling matches, unforgettable moments, and the crowning of a new Euro champion.UEFA Euro 2024 features a line-up of powerhouse teams ready to ..   \n",
       "1                                                                                                                                                                                                                                                                                                                                                                                                                                                                                                                                                                                                                                                                                                                                                                                                                                                                                                                                                                                                                                                                                                                                                  .UEFA Euro 2024 features a   \n",
       "2                                                                                                                                                                                                                                                                                                                                                                                                                                                                                                                                                                                                                                                                                                                                                                                                                                                                                                                                                                                                                                                                                                                                            .UEFA Euro 2024 features sssssss   \n",
       "\n",
       "   length  \n",
       "0    1130  \n",
       "1      26  \n",
       "2      32  "
      ]
     },
     "execution_count": 101,
     "metadata": {},
     "output_type": "execute_result"
    }
   ],
   "source": [
    "df3"
   ]
  },
  {
   "cell_type": "code",
   "execution_count": 102,
   "id": "68c3a18a-af6a-4a67-92b5-54dd4c6c0a38",
   "metadata": {},
   "outputs": [],
   "source": [
    "df3['word count']=df3['Dog'].apply(lambda x: len(x.split()))"
   ]
  },
  {
   "cell_type": "code",
   "execution_count": 103,
   "id": "d34dab03-29c5-4818-8285-69fd8753dcb6",
   "metadata": {},
   "outputs": [
    {
     "data": {
      "text/html": [
       "<div>\n",
       "<style scoped>\n",
       "    .dataframe tbody tr th:only-of-type {\n",
       "        vertical-align: middle;\n",
       "    }\n",
       "\n",
       "    .dataframe tbody tr th {\n",
       "        vertical-align: top;\n",
       "    }\n",
       "\n",
       "    .dataframe thead th {\n",
       "        text-align: right;\n",
       "    }\n",
       "</style>\n",
       "<table border=\"1\" class=\"dataframe\">\n",
       "  <thead>\n",
       "    <tr style=\"text-align: right;\">\n",
       "      <th></th>\n",
       "      <th>Dog</th>\n",
       "      <th>length</th>\n",
       "      <th>word count</th>\n",
       "    </tr>\n",
       "  </thead>\n",
       "  <tbody>\n",
       "    <tr>\n",
       "      <th>0</th>\n",
       "      <td>Get ready for thrilling matches, unforgettable moments, and the crowning of a new Euro champion.UEFA Euro 2024 features a line-up of powerhouse teams ready to ..vvvGet ready for thrilling matches, unforgettable moments, and the crowning of a new Euro champion.UEFA Euro 2024 features a line-up of powerhouse teams ready to ..Get ready for thrilling matches, unforgettable moments, and the crowning of a new Euro champion.UEFA Euro 2024 features a line-up of powerhouse teams ready to ..Get ready for thrilling matches, unforgettable moments, and the crowning of a new Euro champion.UEFA Euro 2024 features a line-up of powerhouse teams ready to ..Get ready for thrilling matches, unforgettable moments, and the crowning of a new Euro champion.UEFA Euro 2024 features a line-up of powerhouse teams ready to ..Get ready for thrilling matches, unforgettable moments, and the crowning of a new Euro champion.UEFA Euro 2024 features a line-up of powerhouse teams ready to ..Get ready for thrilling matches, unforgettable moments, and the crowning of a new Euro champion.UEFA Euro 2024 features a line-up of powerhouse teams ready to ..</td>\n",
       "      <td>1130</td>\n",
       "      <td>176</td>\n",
       "    </tr>\n",
       "    <tr>\n",
       "      <th>1</th>\n",
       "      <td>.UEFA Euro 2024 features a</td>\n",
       "      <td>26</td>\n",
       "      <td>5</td>\n",
       "    </tr>\n",
       "    <tr>\n",
       "      <th>2</th>\n",
       "      <td>.UEFA Euro 2024 features sssssss</td>\n",
       "      <td>32</td>\n",
       "      <td>5</td>\n",
       "    </tr>\n",
       "  </tbody>\n",
       "</table>\n",
       "</div>"
      ],
      "text/plain": [
       "                                                                                                                                                                                                                                                                                                                                                                                                                                                                                                                                                                                                                                                                                                                                                                                                                                                                                                                                                                                                                                                                                                                                                                          Dog  \\\n",
       "0  Get ready for thrilling matches, unforgettable moments, and the crowning of a new Euro champion.UEFA Euro 2024 features a line-up of powerhouse teams ready to ..vvvGet ready for thrilling matches, unforgettable moments, and the crowning of a new Euro champion.UEFA Euro 2024 features a line-up of powerhouse teams ready to ..Get ready for thrilling matches, unforgettable moments, and the crowning of a new Euro champion.UEFA Euro 2024 features a line-up of powerhouse teams ready to ..Get ready for thrilling matches, unforgettable moments, and the crowning of a new Euro champion.UEFA Euro 2024 features a line-up of powerhouse teams ready to ..Get ready for thrilling matches, unforgettable moments, and the crowning of a new Euro champion.UEFA Euro 2024 features a line-up of powerhouse teams ready to ..Get ready for thrilling matches, unforgettable moments, and the crowning of a new Euro champion.UEFA Euro 2024 features a line-up of powerhouse teams ready to ..Get ready for thrilling matches, unforgettable moments, and the crowning of a new Euro champion.UEFA Euro 2024 features a line-up of powerhouse teams ready to ..   \n",
       "1                                                                                                                                                                                                                                                                                                                                                                                                                                                                                                                                                                                                                                                                                                                                                                                                                                                                                                                                                                                                                                                                                                                                                  .UEFA Euro 2024 features a   \n",
       "2                                                                                                                                                                                                                                                                                                                                                                                                                                                                                                                                                                                                                                                                                                                                                                                                                                                                                                                                                                                                                                                                                                                                            .UEFA Euro 2024 features sssssss   \n",
       "\n",
       "   length  word count  \n",
       "0    1130         176  \n",
       "1      26           5  \n",
       "2      32           5  "
      ]
     },
     "execution_count": 103,
     "metadata": {},
     "output_type": "execute_result"
    }
   ],
   "source": [
    "df3"
   ]
  },
  {
   "cell_type": "code",
   "execution_count": 104,
   "id": "f4272fd2-ca1d-4b26-b7d1-af9480a2a2b3",
   "metadata": {},
   "outputs": [
    {
     "data": {
      "text/html": [
       "<div>\n",
       "<style scoped>\n",
       "    .dataframe tbody tr th:only-of-type {\n",
       "        vertical-align: middle;\n",
       "    }\n",
       "\n",
       "    .dataframe tbody tr th {\n",
       "        vertical-align: top;\n",
       "    }\n",
       "\n",
       "    .dataframe thead th {\n",
       "        text-align: right;\n",
       "    }\n",
       "</style>\n",
       "<table border=\"1\" class=\"dataframe\">\n",
       "  <thead>\n",
       "    <tr style=\"text-align: right;\">\n",
       "      <th></th>\n",
       "      <th>Desc</th>\n",
       "    </tr>\n",
       "  </thead>\n",
       "  <tbody>\n",
       "    <tr>\n",
       "      <th>0</th>\n",
       "      <td>Germany hosts the tournament, which is taking place from 14 June 2024 to 14 July 2024. The tournament comprises 24 teams, with Georgia being the only team</td>\n",
       "    </tr>\n",
       "  </tbody>\n",
       "</table>\n",
       "</div>"
      ],
      "text/plain": [
       "                                                                                                                                                         Desc\n",
       "0  Germany hosts the tournament, which is taking place from 14 June 2024 to 14 July 2024. The tournament comprises 24 teams, with Georgia being the only team"
      ]
     },
     "execution_count": 104,
     "metadata": {},
     "output_type": "execute_result"
    }
   ],
   "source": [
    "df"
   ]
  },
  {
   "cell_type": "code",
   "execution_count": 106,
   "id": "1c373592-1d00-418b-b853-775d8bdc0308",
   "metadata": {},
   "outputs": [],
   "source": [
    "df5=pd.DataFrame({'a':[1,2,3,4,5],'b':[4,5,6,7,8]})"
   ]
  },
  {
   "cell_type": "code",
   "execution_count": 107,
   "id": "3b164104-4c6f-4e51-8638-018eb847931d",
   "metadata": {},
   "outputs": [
    {
     "data": {
      "text/html": [
       "<div>\n",
       "<style scoped>\n",
       "    .dataframe tbody tr th:only-of-type {\n",
       "        vertical-align: middle;\n",
       "    }\n",
       "\n",
       "    .dataframe tbody tr th {\n",
       "        vertical-align: top;\n",
       "    }\n",
       "\n",
       "    .dataframe thead th {\n",
       "        text-align: right;\n",
       "    }\n",
       "</style>\n",
       "<table border=\"1\" class=\"dataframe\">\n",
       "  <thead>\n",
       "    <tr style=\"text-align: right;\">\n",
       "      <th></th>\n",
       "      <th>a</th>\n",
       "      <th>b</th>\n",
       "    </tr>\n",
       "  </thead>\n",
       "  <tbody>\n",
       "    <tr>\n",
       "      <th>0</th>\n",
       "      <td>1</td>\n",
       "      <td>4</td>\n",
       "    </tr>\n",
       "    <tr>\n",
       "      <th>1</th>\n",
       "      <td>2</td>\n",
       "      <td>5</td>\n",
       "    </tr>\n",
       "    <tr>\n",
       "      <th>2</th>\n",
       "      <td>3</td>\n",
       "      <td>6</td>\n",
       "    </tr>\n",
       "    <tr>\n",
       "      <th>3</th>\n",
       "      <td>4</td>\n",
       "      <td>7</td>\n",
       "    </tr>\n",
       "    <tr>\n",
       "      <th>4</th>\n",
       "      <td>5</td>\n",
       "      <td>8</td>\n",
       "    </tr>\n",
       "  </tbody>\n",
       "</table>\n",
       "</div>"
      ],
      "text/plain": [
       "   a  b\n",
       "0  1  4\n",
       "1  2  5\n",
       "2  3  6\n",
       "3  4  7\n",
       "4  5  8"
      ]
     },
     "execution_count": 107,
     "metadata": {},
     "output_type": "execute_result"
    }
   ],
   "source": [
    "df5"
   ]
  },
  {
   "cell_type": "code",
   "execution_count": 108,
   "id": "a07df9f7-5749-4c7e-8645-8fae347e5c83",
   "metadata": {},
   "outputs": [
    {
     "data": {
      "text/plain": [
       "3.0"
      ]
     },
     "execution_count": 108,
     "metadata": {},
     "output_type": "execute_result"
    }
   ],
   "source": [
    "df5['a'].mean()"
   ]
  },
  {
   "cell_type": "code",
   "execution_count": 109,
   "id": "70064828-c950-4e0a-aa28-49c085e008ef",
   "metadata": {},
   "outputs": [
    {
     "data": {
      "text/plain": [
       "0    1\n",
       "1    2\n",
       "2    3\n",
       "3    4\n",
       "4    5\n",
       "Name: a, dtype: int64"
      ]
     },
     "execution_count": 109,
     "metadata": {},
     "output_type": "execute_result"
    }
   ],
   "source": [
    "df5['a'].mode()"
   ]
  },
  {
   "cell_type": "code",
   "execution_count": 112,
   "id": "a0ba4d20-788b-419e-880c-07dede93cde6",
   "metadata": {},
   "outputs": [
    {
     "data": {
      "text/plain": [
       "<bound method NDFrame._add_numeric_operations.<locals>.std of 0    1\n",
       "1    2\n",
       "2    3\n",
       "3    4\n",
       "4    5\n",
       "Name: a, dtype: int64>"
      ]
     },
     "execution_count": 112,
     "metadata": {},
     "output_type": "execute_result"
    }
   ],
   "source": [
    "df5['a'].std"
   ]
  },
  {
   "cell_type": "code",
   "execution_count": 113,
   "id": "71874c48-e5f5-4eee-8f26-9da325247262",
   "metadata": {},
   "outputs": [
    {
     "data": {
      "text/plain": [
       "15"
      ]
     },
     "execution_count": 113,
     "metadata": {},
     "output_type": "execute_result"
    }
   ],
   "source": [
    "df5['a'].sum()"
   ]
  },
  {
   "cell_type": "code",
   "execution_count": 114,
   "id": "de804502-c287-4cc0-b223-42277db5ca41",
   "metadata": {},
   "outputs": [
    {
     "data": {
      "text/plain": [
       "1"
      ]
     },
     "execution_count": 114,
     "metadata": {},
     "output_type": "execute_result"
    }
   ],
   "source": [
    "df5['a'].min()"
   ]
  },
  {
   "cell_type": "code",
   "execution_count": 115,
   "id": "1327f779-6778-4469-b581-75dce8845d26",
   "metadata": {},
   "outputs": [
    {
     "data": {
      "text/plain": [
       "0    NaN\n",
       "1    3.0\n",
       "2    5.0\n",
       "3    7.0\n",
       "4    9.0\n",
       "Name: a, dtype: float64"
      ]
     },
     "execution_count": 115,
     "metadata": {},
     "output_type": "execute_result"
    }
   ],
   "source": [
    "df5['a'].rolling(window=2).sum()"
   ]
  },
  {
   "cell_type": "code",
   "execution_count": 117,
   "id": "0d3c5d48-df55-469d-9c72-1c7f2f657a92",
   "metadata": {},
   "outputs": [
    {
     "data": {
      "text/plain": [
       "0     NaN\n",
       "1     NaN\n",
       "2     6.0\n",
       "3     9.0\n",
       "4    12.0\n",
       "Name: a, dtype: float64"
      ]
     },
     "execution_count": 117,
     "metadata": {},
     "output_type": "execute_result"
    }
   ],
   "source": [
    "df5['a'].rolling(window=3).sum()"
   ]
  },
  {
   "cell_type": "code",
   "execution_count": 118,
   "id": "e265130f-064f-49fe-91a9-7d9accc8c31e",
   "metadata": {},
   "outputs": [
    {
     "data": {
      "text/plain": [
       "0     1\n",
       "1     3\n",
       "2     6\n",
       "3    10\n",
       "4    15\n",
       "Name: a, dtype: int64"
      ]
     },
     "execution_count": 118,
     "metadata": {},
     "output_type": "execute_result"
    }
   ],
   "source": [
    "df5['a'].cumsum()"
   ]
  },
  {
   "cell_type": "code",
   "execution_count": 120,
   "id": "ce8a2cf5-8682-4b86-a8bb-8881de46fdda",
   "metadata": {},
   "outputs": [],
   "source": [
    "df6=pd.date_range(start='2024-5-3',end='2024-6-3')"
   ]
  },
  {
   "cell_type": "code",
   "execution_count": 121,
   "id": "b0a5ea9d-d9ed-4fab-a9a1-29808c6d36cf",
   "metadata": {},
   "outputs": [
    {
     "data": {
      "text/plain": [
       "DatetimeIndex(['2024-05-03', '2024-05-04', '2024-05-05', '2024-05-06',\n",
       "               '2024-05-07', '2024-05-08', '2024-05-09', '2024-05-10',\n",
       "               '2024-05-11', '2024-05-12', '2024-05-13', '2024-05-14',\n",
       "               '2024-05-15', '2024-05-16', '2024-05-17', '2024-05-18',\n",
       "               '2024-05-19', '2024-05-20', '2024-05-21', '2024-05-22',\n",
       "               '2024-05-23', '2024-05-24', '2024-05-25', '2024-05-26',\n",
       "               '2024-05-27', '2024-05-28', '2024-05-29', '2024-05-30',\n",
       "               '2024-05-31', '2024-06-01', '2024-06-02', '2024-06-03'],\n",
       "              dtype='datetime64[ns]', freq='D')"
      ]
     },
     "execution_count": 121,
     "metadata": {},
     "output_type": "execute_result"
    }
   ],
   "source": [
    "df6"
   ]
  },
  {
   "cell_type": "code",
   "execution_count": 122,
   "id": "0cb2b990-3214-4902-9b10-9d20f566fb04",
   "metadata": {},
   "outputs": [],
   "source": [
    "df7=pd.date_range(start='2024-6-3',end='2024-7-3')"
   ]
  },
  {
   "cell_type": "code",
   "execution_count": 123,
   "id": "2ca09e26-2d16-4278-8c7f-80f1be6f8ecc",
   "metadata": {},
   "outputs": [
    {
     "data": {
      "text/plain": [
       "DatetimeIndex(['2024-06-03', '2024-06-04', '2024-06-05', '2024-06-06',\n",
       "               '2024-06-07', '2024-06-08', '2024-06-09', '2024-06-10',\n",
       "               '2024-06-11', '2024-06-12', '2024-06-13', '2024-06-14',\n",
       "               '2024-06-15', '2024-06-16', '2024-06-17', '2024-06-18',\n",
       "               '2024-06-19', '2024-06-20', '2024-06-21', '2024-06-22',\n",
       "               '2024-06-23', '2024-06-24', '2024-06-25', '2024-06-26',\n",
       "               '2024-06-27', '2024-06-28', '2024-06-29', '2024-06-30',\n",
       "               '2024-07-01', '2024-07-02', '2024-07-03'],\n",
       "              dtype='datetime64[ns]', freq='D')"
      ]
     },
     "execution_count": 123,
     "metadata": {},
     "output_type": "execute_result"
    }
   ],
   "source": [
    "df7"
   ]
  },
  {
   "cell_type": "code",
   "execution_count": 124,
   "id": "1bef98f4-a198-4298-b977-34636ba95cca",
   "metadata": {},
   "outputs": [],
   "source": [
    "df8=pd.DataFrame({'Date':['1-1-2024','2-2-2024','3-3-2024']})"
   ]
  },
  {
   "cell_type": "code",
   "execution_count": 125,
   "id": "05dea48b-d09d-4718-a888-67d3e2663be3",
   "metadata": {},
   "outputs": [
    {
     "data": {
      "text/html": [
       "<div>\n",
       "<style scoped>\n",
       "    .dataframe tbody tr th:only-of-type {\n",
       "        vertical-align: middle;\n",
       "    }\n",
       "\n",
       "    .dataframe tbody tr th {\n",
       "        vertical-align: top;\n",
       "    }\n",
       "\n",
       "    .dataframe thead th {\n",
       "        text-align: right;\n",
       "    }\n",
       "</style>\n",
       "<table border=\"1\" class=\"dataframe\">\n",
       "  <thead>\n",
       "    <tr style=\"text-align: right;\">\n",
       "      <th></th>\n",
       "      <th>Date</th>\n",
       "    </tr>\n",
       "  </thead>\n",
       "  <tbody>\n",
       "    <tr>\n",
       "      <th>0</th>\n",
       "      <td>1-1-2024</td>\n",
       "    </tr>\n",
       "    <tr>\n",
       "      <th>1</th>\n",
       "      <td>2-2-2024</td>\n",
       "    </tr>\n",
       "    <tr>\n",
       "      <th>2</th>\n",
       "      <td>3-3-2024</td>\n",
       "    </tr>\n",
       "  </tbody>\n",
       "</table>\n",
       "</div>"
      ],
      "text/plain": [
       "       Date\n",
       "0  1-1-2024\n",
       "1  2-2-2024\n",
       "2  3-3-2024"
      ]
     },
     "execution_count": 125,
     "metadata": {},
     "output_type": "execute_result"
    }
   ],
   "source": [
    "df8"
   ]
  },
  {
   "cell_type": "code",
   "execution_count": 126,
   "id": "59e6bdf2-40f8-4d85-812a-015652ca3f92",
   "metadata": {},
   "outputs": [],
   "source": [
    "df8['updated date']=pd.to_datetime(df8['Date'])\n",
    "    "
   ]
  },
  {
   "cell_type": "code",
   "execution_count": 127,
   "id": "48e658fa-b747-4392-9aa6-a7ece27dc620",
   "metadata": {},
   "outputs": [
    {
     "data": {
      "text/html": [
       "<div>\n",
       "<style scoped>\n",
       "    .dataframe tbody tr th:only-of-type {\n",
       "        vertical-align: middle;\n",
       "    }\n",
       "\n",
       "    .dataframe tbody tr th {\n",
       "        vertical-align: top;\n",
       "    }\n",
       "\n",
       "    .dataframe thead th {\n",
       "        text-align: right;\n",
       "    }\n",
       "</style>\n",
       "<table border=\"1\" class=\"dataframe\">\n",
       "  <thead>\n",
       "    <tr style=\"text-align: right;\">\n",
       "      <th></th>\n",
       "      <th>Date</th>\n",
       "      <th>updated date</th>\n",
       "    </tr>\n",
       "  </thead>\n",
       "  <tbody>\n",
       "    <tr>\n",
       "      <th>0</th>\n",
       "      <td>1-1-2024</td>\n",
       "      <td>2024-01-01</td>\n",
       "    </tr>\n",
       "    <tr>\n",
       "      <th>1</th>\n",
       "      <td>2-2-2024</td>\n",
       "      <td>2024-02-02</td>\n",
       "    </tr>\n",
       "    <tr>\n",
       "      <th>2</th>\n",
       "      <td>3-3-2024</td>\n",
       "      <td>2024-03-03</td>\n",
       "    </tr>\n",
       "  </tbody>\n",
       "</table>\n",
       "</div>"
      ],
      "text/plain": [
       "       Date updated date\n",
       "0  1-1-2024   2024-01-01\n",
       "1  2-2-2024   2024-02-02\n",
       "2  3-3-2024   2024-03-03"
      ]
     },
     "execution_count": 127,
     "metadata": {},
     "output_type": "execute_result"
    }
   ],
   "source": [
    "df8"
   ]
  },
  {
   "cell_type": "code",
   "execution_count": 128,
   "id": "c9dee410-0795-4f8a-8afc-3aae4d15905d",
   "metadata": {},
   "outputs": [
    {
     "data": {
      "text/plain": [
       "Date                    object\n",
       "updated date    datetime64[ns]\n",
       "dtype: object"
      ]
     },
     "execution_count": 128,
     "metadata": {},
     "output_type": "execute_result"
    }
   ],
   "source": [
    "df8.dtypes"
   ]
  },
  {
   "cell_type": "code",
   "execution_count": 138,
   "id": "f552e3c1-a378-49c6-ae97-578cc8ad40ba",
   "metadata": {},
   "outputs": [],
   "source": [
    "df8['year']=df8['updated date'].dt.year"
   ]
  },
  {
   "cell_type": "code",
   "execution_count": 139,
   "id": "b9eb9b90-2a10-49dd-a153-7457aba0dd5b",
   "metadata": {},
   "outputs": [
    {
     "data": {
      "text/html": [
       "<div>\n",
       "<style scoped>\n",
       "    .dataframe tbody tr th:only-of-type {\n",
       "        vertical-align: middle;\n",
       "    }\n",
       "\n",
       "    .dataframe tbody tr th {\n",
       "        vertical-align: top;\n",
       "    }\n",
       "\n",
       "    .dataframe thead th {\n",
       "        text-align: right;\n",
       "    }\n",
       "</style>\n",
       "<table border=\"1\" class=\"dataframe\">\n",
       "  <thead>\n",
       "    <tr style=\"text-align: right;\">\n",
       "      <th></th>\n",
       "      <th>Date</th>\n",
       "      <th>updated date</th>\n",
       "      <th>year</th>\n",
       "    </tr>\n",
       "  </thead>\n",
       "  <tbody>\n",
       "    <tr>\n",
       "      <th>0</th>\n",
       "      <td>1-1-2024</td>\n",
       "      <td>2024-01-01</td>\n",
       "      <td>2024</td>\n",
       "    </tr>\n",
       "    <tr>\n",
       "      <th>1</th>\n",
       "      <td>2-2-2024</td>\n",
       "      <td>2024-02-02</td>\n",
       "      <td>2024</td>\n",
       "    </tr>\n",
       "    <tr>\n",
       "      <th>2</th>\n",
       "      <td>3-3-2024</td>\n",
       "      <td>2024-03-03</td>\n",
       "      <td>2024</td>\n",
       "    </tr>\n",
       "  </tbody>\n",
       "</table>\n",
       "</div>"
      ],
      "text/plain": [
       "       Date updated date  year\n",
       "0  1-1-2024   2024-01-01  2024\n",
       "1  2-2-2024   2024-02-02  2024\n",
       "2  3-3-2024   2024-03-03  2024"
      ]
     },
     "execution_count": 139,
     "metadata": {},
     "output_type": "execute_result"
    }
   ],
   "source": [
    "df8"
   ]
  },
  {
   "cell_type": "code",
   "execution_count": 148,
   "id": "5cd4e4b7-efc9-4cad-930e-7be78024f1f3",
   "metadata": {},
   "outputs": [],
   "source": [
    "df8['month']=df8['updated date'].dt.month"
   ]
  },
  {
   "cell_type": "code",
   "execution_count": 146,
   "id": "dc9e19e9-e82f-4e07-b14e-c7e8cf105b1c",
   "metadata": {},
   "outputs": [
    {
     "data": {
      "text/html": [
       "<div>\n",
       "<style scoped>\n",
       "    .dataframe tbody tr th:only-of-type {\n",
       "        vertical-align: middle;\n",
       "    }\n",
       "\n",
       "    .dataframe tbody tr th {\n",
       "        vertical-align: top;\n",
       "    }\n",
       "\n",
       "    .dataframe thead th {\n",
       "        text-align: right;\n",
       "    }\n",
       "</style>\n",
       "<table border=\"1\" class=\"dataframe\">\n",
       "  <thead>\n",
       "    <tr style=\"text-align: right;\">\n",
       "      <th></th>\n",
       "      <th>Date</th>\n",
       "      <th>updated date</th>\n",
       "      <th>year</th>\n",
       "      <th>month</th>\n",
       "    </tr>\n",
       "  </thead>\n",
       "  <tbody>\n",
       "    <tr>\n",
       "      <th>0</th>\n",
       "      <td>1-1-2024</td>\n",
       "      <td>2024-01-01</td>\n",
       "      <td>2024</td>\n",
       "      <td>1</td>\n",
       "    </tr>\n",
       "    <tr>\n",
       "      <th>1</th>\n",
       "      <td>2-2-2024</td>\n",
       "      <td>2024-02-02</td>\n",
       "      <td>2024</td>\n",
       "      <td>2</td>\n",
       "    </tr>\n",
       "    <tr>\n",
       "      <th>2</th>\n",
       "      <td>3-3-2024</td>\n",
       "      <td>2024-03-03</td>\n",
       "      <td>2024</td>\n",
       "      <td>3</td>\n",
       "    </tr>\n",
       "  </tbody>\n",
       "</table>\n",
       "</div>"
      ],
      "text/plain": [
       "       Date updated date  year  month\n",
       "0  1-1-2024   2024-01-01  2024      1\n",
       "1  2-2-2024   2024-02-02  2024      2\n",
       "2  3-3-2024   2024-03-03  2024      3"
      ]
     },
     "execution_count": 146,
     "metadata": {},
     "output_type": "execute_result"
    }
   ],
   "source": [
    "df8"
   ]
  },
  {
   "cell_type": "code",
   "execution_count": 157,
   "id": "f23c688f-01c2-4be6-ae0c-ec1de38a92a1",
   "metadata": {},
   "outputs": [],
   "source": [
    "td=pd.Timedelta(hours=1,days=30,minutes=21)"
   ]
  },
  {
   "cell_type": "code",
   "execution_count": 154,
   "id": "508da912-0eaf-4630-b897-de3b7911b924",
   "metadata": {},
   "outputs": [],
   "source": [
    "cd=td+df8[['updated date']]"
   ]
  },
  {
   "cell_type": "code",
   "execution_count": 155,
   "id": "6ac6dd8e-605d-43d1-a471-d872e1280c03",
   "metadata": {},
   "outputs": [
    {
     "data": {
      "text/html": [
       "<div>\n",
       "<style scoped>\n",
       "    .dataframe tbody tr th:only-of-type {\n",
       "        vertical-align: middle;\n",
       "    }\n",
       "\n",
       "    .dataframe tbody tr th {\n",
       "        vertical-align: top;\n",
       "    }\n",
       "\n",
       "    .dataframe thead th {\n",
       "        text-align: right;\n",
       "    }\n",
       "</style>\n",
       "<table border=\"1\" class=\"dataframe\">\n",
       "  <thead>\n",
       "    <tr style=\"text-align: right;\">\n",
       "      <th></th>\n",
       "      <th>updated date</th>\n",
       "    </tr>\n",
       "  </thead>\n",
       "  <tbody>\n",
       "    <tr>\n",
       "      <th>0</th>\n",
       "      <td>2024-01-31 01:21:00</td>\n",
       "    </tr>\n",
       "    <tr>\n",
       "      <th>1</th>\n",
       "      <td>2024-03-03 01:21:00</td>\n",
       "    </tr>\n",
       "    <tr>\n",
       "      <th>2</th>\n",
       "      <td>2024-04-02 01:21:00</td>\n",
       "    </tr>\n",
       "  </tbody>\n",
       "</table>\n",
       "</div>"
      ],
      "text/plain": [
       "         updated date\n",
       "0 2024-01-31 01:21:00\n",
       "1 2024-03-03 01:21:00\n",
       "2 2024-04-02 01:21:00"
      ]
     },
     "execution_count": 155,
     "metadata": {},
     "output_type": "execute_result"
    }
   ],
   "source": [
    "cd"
   ]
  },
  {
   "cell_type": "code",
   "execution_count": 156,
   "id": "33646cb6-7bb0-4418-864e-4ce363353542",
   "metadata": {},
   "outputs": [
    {
     "data": {
      "text/html": [
       "<div>\n",
       "<style scoped>\n",
       "    .dataframe tbody tr th:only-of-type {\n",
       "        vertical-align: middle;\n",
       "    }\n",
       "\n",
       "    .dataframe tbody tr th {\n",
       "        vertical-align: top;\n",
       "    }\n",
       "\n",
       "    .dataframe thead th {\n",
       "        text-align: right;\n",
       "    }\n",
       "</style>\n",
       "<table border=\"1\" class=\"dataframe\">\n",
       "  <thead>\n",
       "    <tr style=\"text-align: right;\">\n",
       "      <th></th>\n",
       "      <th>a</th>\n",
       "      <th>b</th>\n",
       "      <th>c</th>\n",
       "      <th>name</th>\n",
       "      <th>surname</th>\n",
       "    </tr>\n",
       "  </thead>\n",
       "  <tbody>\n",
       "    <tr>\n",
       "      <th>0</th>\n",
       "      <td>1</td>\n",
       "      <td>4</td>\n",
       "      <td>7</td>\n",
       "      <td>kabir</td>\n",
       "      <td>Gautam</td>\n",
       "    </tr>\n",
       "    <tr>\n",
       "      <th>1</th>\n",
       "      <td>2</td>\n",
       "      <td>5</td>\n",
       "      <td>8</td>\n",
       "      <td>pradeep</td>\n",
       "      <td>Bhandari</td>\n",
       "    </tr>\n",
       "    <tr>\n",
       "      <th>2</th>\n",
       "      <td>3</td>\n",
       "      <td>6</td>\n",
       "      <td>9</td>\n",
       "      <td>suresh</td>\n",
       "      <td>Sigdel</td>\n",
       "    </tr>\n",
       "  </tbody>\n",
       "</table>\n",
       "</div>"
      ],
      "text/plain": [
       "   a  b  c     name   surname\n",
       "0  1  4  7    kabir    Gautam\n",
       "1  2  5  8  pradeep  Bhandari\n",
       "2  3  6  9   suresh    Sigdel"
      ]
     },
     "execution_count": 156,
     "metadata": {},
     "output_type": "execute_result"
    }
   ],
   "source": [
    "df9"
   ]
  },
  {
   "cell_type": "code",
   "execution_count": 165,
   "id": "062111e7-0703-4c81-947b-2edb122dd638",
   "metadata": {},
   "outputs": [],
   "source": [
    "cat=pd.Categorical(df9)"
   ]
  },
  {
   "cell_type": "code",
   "execution_count": 164,
   "id": "c4264dfa-497b-46f8-bd50-bc44f3066368",
   "metadata": {},
   "outputs": [
    {
     "ename": "AttributeError",
     "evalue": "module 'pandas' has no attribute 'values_count'",
     "output_type": "error",
     "traceback": [
      "\u001b[0;31m---------------------------------------------------------------------------\u001b[0m",
      "\u001b[0;31mAttributeError\u001b[0m                            Traceback (most recent call last)",
      "Cell \u001b[0;32mIn[164], line 1\u001b[0m\n\u001b[0;32m----> 1\u001b[0m \u001b[43mpd\u001b[49m\u001b[38;5;241;43m.\u001b[39;49m\u001b[43mvalues_count\u001b[49m(df9)\n",
      "File \u001b[0;32m/opt/conda/lib/python3.10/site-packages/pandas/__init__.py:264\u001b[0m, in \u001b[0;36m__getattr__\u001b[0;34m(name)\u001b[0m\n\u001b[1;32m    260\u001b[0m     \u001b[38;5;28;01mfrom\u001b[39;00m \u001b[38;5;21;01mpandas\u001b[39;00m\u001b[38;5;21;01m.\u001b[39;00m\u001b[38;5;21;01mcore\u001b[39;00m\u001b[38;5;21;01m.\u001b[39;00m\u001b[38;5;21;01marrays\u001b[39;00m\u001b[38;5;21;01m.\u001b[39;00m\u001b[38;5;21;01msparse\u001b[39;00m \u001b[38;5;28;01mimport\u001b[39;00m SparseArray \u001b[38;5;28;01mas\u001b[39;00m _SparseArray\n\u001b[1;32m    262\u001b[0m     \u001b[38;5;28;01mreturn\u001b[39;00m _SparseArray\n\u001b[0;32m--> 264\u001b[0m \u001b[38;5;28;01mraise\u001b[39;00m \u001b[38;5;167;01mAttributeError\u001b[39;00m(\u001b[38;5;124mf\u001b[39m\u001b[38;5;124m\"\u001b[39m\u001b[38;5;124mmodule \u001b[39m\u001b[38;5;124m'\u001b[39m\u001b[38;5;124mpandas\u001b[39m\u001b[38;5;124m'\u001b[39m\u001b[38;5;124m has no attribute \u001b[39m\u001b[38;5;124m'\u001b[39m\u001b[38;5;132;01m{\u001b[39;00mname\u001b[38;5;132;01m}\u001b[39;00m\u001b[38;5;124m'\u001b[39m\u001b[38;5;124m\"\u001b[39m)\n",
      "\u001b[0;31mAttributeError\u001b[0m: module 'pandas' has no attribute 'values_count'"
     ]
    }
   ],
   "source": [
    "cat"
   ]
  },
  {
   "cell_type": "code",
   "execution_count": null,
   "id": "ffada789-bb27-4e69-acbd-a7caf71ed8b1",
   "metadata": {},
   "outputs": [],
   "source": []
  }
 ],
 "metadata": {
  "kernelspec": {
   "display_name": "Python 3 (ipykernel)",
   "language": "python",
   "name": "python3"
  },
  "language_info": {
   "codemirror_mode": {
    "name": "ipython",
    "version": 3
   },
   "file_extension": ".py",
   "mimetype": "text/x-python",
   "name": "python",
   "nbconvert_exporter": "python",
   "pygments_lexer": "ipython3",
   "version": "3.10.8"
  }
 },
 "nbformat": 4,
 "nbformat_minor": 5
}
