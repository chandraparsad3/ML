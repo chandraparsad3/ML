{
 "cells": [
  {
   "cell_type": "code",
   "execution_count": 9,
   "id": "f3637a64-04d7-400e-9963-2387cbfcd9ad",
   "metadata": {},
   "outputs": [],
   "source": [
    "### Evidance to say that two population variance are not same\n",
    "worker1=[11,12,35,43,31,23,32,11,8,51]\n",
    "worker2=[13,21,24,34,13,21,12,22,20,21]"
   ]
  },
  {
   "cell_type": "code",
   "execution_count": 10,
   "id": "5b44b4fe-10b7-4815-821c-0566cdedfbf3",
   "metadata": {},
   "outputs": [],
   "source": [
    "import numpy as np"
   ]
  },
  {
   "cell_type": "code",
   "execution_count": 11,
   "id": "c496913c-2c4f-48d6-a946-ff5c9b99ba78",
   "metadata": {},
   "outputs": [],
   "source": [
    "### F Test\n",
    "Ftest=np.var(worker1)/np.var(worker2)"
   ]
  },
  {
   "cell_type": "code",
   "execution_count": 12,
   "id": "0c27c579-c10e-4820-aa98-d8553ad74e5d",
   "metadata": {},
   "outputs": [
    {
     "data": {
      "text/plain": [
       "5.340246783932791"
      ]
     },
     "execution_count": 12,
     "metadata": {},
     "output_type": "execute_result"
    }
   ],
   "source": [
    "Ftest"
   ]
  },
  {
   "cell_type": "code",
   "execution_count": 13,
   "id": "0669a838-064d-4d48-984e-8a2c51c5ce8e",
   "metadata": {},
   "outputs": [],
   "source": [
    "df1=len(worker1)-1\n",
    "df2=len(worker2)-1"
   ]
  },
  {
   "cell_type": "code",
   "execution_count": 14,
   "id": "21bd9775-3670-4aa2-83de-89f1f67c1b54",
   "metadata": {},
   "outputs": [],
   "source": [
    "significance=0.05"
   ]
  },
  {
   "cell_type": "code",
   "execution_count": 15,
   "id": "f4408d90-a898-4eaa-ae79-b47c6b06bf85",
   "metadata": {},
   "outputs": [],
   "source": [
    "import scipy.stats as stat"
   ]
  },
  {
   "cell_type": "code",
   "execution_count": 20,
   "id": "2be4971a-b8d6-41a6-b9d0-ebd78948aa1b",
   "metadata": {},
   "outputs": [],
   "source": [
    "critical_value=stat.f.ppf(q=1-significance,dfn=df1,dfd=df2)"
   ]
  },
  {
   "cell_type": "code",
   "execution_count": 21,
   "id": "aeb58699-88bb-492f-9b34-6cc14833d886",
   "metadata": {},
   "outputs": [
    {
     "data": {
      "text/plain": [
       "3.178893104458269"
      ]
     },
     "execution_count": 21,
     "metadata": {},
     "output_type": "execute_result"
    }
   ],
   "source": [
    "critical_value"
   ]
  },
  {
   "cell_type": "code",
   "execution_count": 23,
   "id": "6ec317a8-cb24-4ce9-8ec8-d4983157e08b",
   "metadata": {},
   "outputs": [
    {
     "name": "stdout",
     "output_type": "stream",
     "text": [
      "We Reject the Null Hypothesis\n"
     ]
    }
   ],
   "source": [
    "if Ftest>critical_value:\n",
    "    print(\"We Reject the Null Hypothesis\")\n",
    "else:\n",
    "    print(\"We dont Reject the Null Hypothesis\")"
   ]
  }
 ],
 "metadata": {
  "kernelspec": {
   "display_name": "Python 3 (ipykernel)",
   "language": "python",
   "name": "python3"
  },
  "language_info": {
   "codemirror_mode": {
    "name": "ipython",
    "version": 3
   },
   "file_extension": ".py",
   "mimetype": "text/x-python",
   "name": "python",
   "nbconvert_exporter": "python",
   "pygments_lexer": "ipython3",
   "version": "3.10.8"
  }
 },
 "nbformat": 4,
 "nbformat_minor": 5
}
