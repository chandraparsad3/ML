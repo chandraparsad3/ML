{
 "cells": [
  {
   "cell_type": "markdown",
   "id": "303c1323-a1f2-4213-803a-20d4a2ec4320",
   "metadata": {},
   "source": [
    "## Handling Outliers\n",
    "##### Minimum \n",
    "##### 25th Percentile Q1\n",
    "##### Median Q2 \n",
    "##### 75th Percentile Q3\n",
    "##### Maximum"
   ]
  },
  {
   "cell_type": "code",
   "execution_count": 2,
   "id": "02f64e73-11c7-41d1-a23c-21150c37d5c4",
   "metadata": {},
   "outputs": [],
   "source": [
    "import numpy as np\n",
    "import seaborn as sns"
   ]
  },
  {
   "cell_type": "code",
   "execution_count": 3,
   "id": "8ca8bb19-236f-40e9-aa70-83491e4bada2",
   "metadata": {},
   "outputs": [],
   "source": [
    "marks=[12,23,34,23,23,65,56,76,44,35,98,99,34,56,78,91,21,34,56,75,81,1000,1200]"
   ]
  },
  {
   "cell_type": "code",
   "execution_count": 4,
   "id": "7f152ace-338f-43ce-a39c-11f7e055a7eb",
   "metadata": {},
   "outputs": [],
   "source": [
    "Q1=np.percentile(marks,25)"
   ]
  },
  {
   "cell_type": "code",
   "execution_count": 5,
   "id": "20abd2b9-0ed5-41de-a189-08390e67c7e2",
   "metadata": {},
   "outputs": [
    {
     "data": {
      "text/plain": [
       "34.0"
      ]
     },
     "execution_count": 5,
     "metadata": {},
     "output_type": "execute_result"
    }
   ],
   "source": [
    "Q1"
   ]
  },
  {
   "cell_type": "code",
   "execution_count": 6,
   "id": "c3798d52-3b9c-4ac2-bfd3-ae89d2989d5a",
   "metadata": {},
   "outputs": [],
   "source": [
    "minimum,Q1,Q2,Q3,maximum=np.quantile(marks,[0,0.25,0.50,0.75,1.0])"
   ]
  },
  {
   "cell_type": "code",
   "execution_count": 7,
   "id": "9e4c7662-78b1-420a-a515-214055c458b6",
   "metadata": {},
   "outputs": [
    {
     "data": {
      "text/plain": [
       "(12.0, 34.0, 56.0, 79.5, 1200.0)"
      ]
     },
     "execution_count": 7,
     "metadata": {},
     "output_type": "execute_result"
    }
   ],
   "source": [
    "minimum,Q1,Q2,Q3,maximum"
   ]
  },
  {
   "cell_type": "code",
   "execution_count": 8,
   "id": "4acd6e31-e00a-4d67-8d45-09fe426e2f3e",
   "metadata": {},
   "outputs": [],
   "source": [
    "IQR= Q3 - Q1"
   ]
  },
  {
   "cell_type": "code",
   "execution_count": 9,
   "id": "5cc4092f-29fa-42ff-96ef-9592917ff8c7",
   "metadata": {},
   "outputs": [],
   "source": [
    "lower_fence= Q1 - 1.5*(IQR)\n",
    "higher_fence=Q3 + 1.5*(IQR)"
   ]
  },
  {
   "cell_type": "code",
   "execution_count": 10,
   "id": "c2a10412-e2d2-4867-b7e3-939d132573c6",
   "metadata": {},
   "outputs": [
    {
     "data": {
      "text/plain": [
       "(-34.25, 147.75)"
      ]
     },
     "execution_count": 10,
     "metadata": {},
     "output_type": "execute_result"
    }
   ],
   "source": [
    "lower_fence,higher_fence"
   ]
  },
  {
   "cell_type": "code",
   "execution_count": 16,
   "id": "2fafaa7a-9f61-4f83-8d74-d6b187d5cfb4",
   "metadata": {},
   "outputs": [],
   "source": [
    "outliers=[]\n",
    "not_outliers=[]\n",
    "for i in marks:\n",
    "    if i< -34.5 or i> 147.75:\n",
    "        outliers.append(i)\n",
    "    else:\n",
    "        not_outliers.append(i)\n"
   ]
  },
  {
   "cell_type": "code",
   "execution_count": 17,
   "id": "8bf23c3b-a8e2-41d3-b886-7a99d59107c7",
   "metadata": {},
   "outputs": [
    {
     "data": {
      "text/plain": [
       "[1000, 1200]"
      ]
     },
     "execution_count": 17,
     "metadata": {},
     "output_type": "execute_result"
    }
   ],
   "source": [
    "outliers"
   ]
  },
  {
   "cell_type": "code",
   "execution_count": 18,
   "id": "b61f5d25-8ecc-4efa-a545-9567767b561b",
   "metadata": {},
   "outputs": [
    {
     "data": {
      "text/plain": [
       "[12,\n",
       " 23,\n",
       " 34,\n",
       " 23,\n",
       " 23,\n",
       " 65,\n",
       " 56,\n",
       " 76,\n",
       " 44,\n",
       " 35,\n",
       " 98,\n",
       " 99,\n",
       " 34,\n",
       " 56,\n",
       " 78,\n",
       " 91,\n",
       " 21,\n",
       " 34,\n",
       " 56,\n",
       " 75,\n",
       " 81]"
      ]
     },
     "execution_count": 18,
     "metadata": {},
     "output_type": "execute_result"
    }
   ],
   "source": [
    "not_outliers"
   ]
  },
  {
   "cell_type": "code",
   "execution_count": 19,
   "id": "a3bf81f7-5e14-4025-952c-308d5c1a333e",
   "metadata": {},
   "outputs": [
    {
     "data": {
      "text/plain": [
       "<AxesSubplot: >"
      ]
     },
     "execution_count": 19,
     "metadata": {},
     "output_type": "execute_result"
    },
    {
     "data": {
      "image/png": "[encoded data removed]",
      "text/plain": [
       "<Figure size 640x480 with 1 Axes>"
      ]
     },
     "metadata": {},
     "output_type": "display_data"
    }
   ],
   "source": [
    "sns.boxplot(marks)"
   ]
  },
  {
   "cell_type": "code",
   "execution_count": 20,
   "id": "42c626fb-9eca-4c83-bd32-cbf346c386e5",
   "metadata": {},
   "outputs": [
    {
     "data": {
      "text/plain": [
       "<AxesSubplot: >"
      ]
     },
     "execution_count": 20,
     "metadata": {},
     "output_type": "execute_result"
    },
    {
     "data": {
      "image/png": "[encoded data removed]",
      "text/plain": [
       "<Figure size 640x480 with 1 Axes>"
      ]
     },
     "metadata": {},
     "output_type": "display_data"
    }
   ],
   "source": [
    "sns.boxplot(not_outliers)"
   ]
  },
  {
   "cell_type": "code",
   "execution_count": null,
   "id": "e2de57dc-3a53-47d1-bc76-dc6c1cfe0ad0",
   "metadata": {},
   "outputs": [],
   "source": []
  }
 ],
 "metadata": {
  "kernelspec": {
   "display_name": "Python 3 (ipykernel)",
   "language": "python",
   "name": "python3"
  },
  "language_info": {
   "codemirror_mode": {
    "name": "ipython",
    "version": 3
   },
   "file_extension": ".py",
   "mimetype": "text/x-python",
   "name": "python",
   "nbconvert_exporter": "python",
   "pygments_lexer": "ipython3",
   "version": "3.10.8"
  }
 },
 "nbformat": 4,
 "nbformat_minor": 5
}
