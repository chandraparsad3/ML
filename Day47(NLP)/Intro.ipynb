{
 "cells": [
  {
   "cell_type": "code",
   "execution_count": 11,
   "id": "fceaa25d",
   "metadata": {},
   "outputs": [
    {
     "name": "stdout",
     "output_type": "stream",
     "text": [
      "Requirement already satisfied: nltk in c:\\users\\admin\\appdata\\local\\programs\\python\\python313\\lib\\site-packages (3.9.1)\n",
      "Requirement already satisfied: click in c:\\users\\admin\\appdata\\local\\programs\\python\\python313\\lib\\site-packages (from nltk) (8.2.1)\n",
      "Requirement already satisfied: joblib in c:\\users\\admin\\appdata\\local\\programs\\python\\python313\\lib\\site-packages (from nltk) (1.5.1)\n",
      "Requirement already satisfied: regex>=2021.8.3 in c:\\users\\admin\\appdata\\local\\programs\\python\\python313\\lib\\site-packages (from nltk) (2024.11.6)\n",
      "Requirement already satisfied: tqdm in c:\\users\\admin\\appdata\\local\\programs\\python\\python313\\lib\\site-packages (from nltk) (4.67.1)\n",
      "Requirement already satisfied: colorama in c:\\users\\admin\\appdata\\local\\programs\\python\\python313\\lib\\site-packages (from click->nltk) (0.4.6)\n"
     ]
    }
   ],
   "source": [
    "!pip install nltk"
   ]
  },
  {
   "cell_type": "code",
   "execution_count": 18,
   "id": "4939c3ff",
   "metadata": {},
   "outputs": [],
   "source": [
    "from nltk.stem import PorterStemmer"
   ]
  },
  {
   "cell_type": "code",
   "execution_count": 19,
   "id": "7fa4225d",
   "metadata": {},
   "outputs": [],
   "source": [
    "words=[\"eating\",\"running\",\"sleeping\",\"teasing\",\"looking\",\"gazing\",\"gazed\",\"ran\",\"done\",\"did\",\"eaten\",\"watched\",\"cursed\",\"cured\",\"spent\"]\n"
   ]
  },
  {
   "cell_type": "code",
   "execution_count": 23,
   "id": "c9cb744a",
   "metadata": {},
   "outputs": [],
   "source": [
    "stems=PorterStemmer()"
   ]
  },
  {
   "cell_type": "code",
   "execution_count": 24,
   "id": "a3ed89b9",
   "metadata": {},
   "outputs": [
    {
     "name": "stdout",
     "output_type": "stream",
     "text": [
      "eating------->eat\n",
      "running------->run\n",
      "sleeping------->sleep\n",
      "teasing------->teas\n",
      "looking------->look\n",
      "gazing------->gaze\n",
      "gazed------->gaze\n",
      "ran------->ran\n",
      "done------->done\n",
      "did------->did\n",
      "eaten------->eaten\n",
      "watched------->watch\n",
      "cursed------->curs\n",
      "cured------->cure\n",
      "spent------->spent\n"
     ]
    }
   ],
   "source": [
    "for word in words:\n",
    "    print(word +\"------->\"+ stems.stem(word))"
   ]
  },
  {
   "cell_type": "code",
   "execution_count": 26,
   "id": "ec439cf1",
   "metadata": {},
   "outputs": [],
   "source": [
    "from nltk.stem import RegexpStemmer"
   ]
  },
  {
   "cell_type": "code",
   "execution_count": 29,
   "id": "2442a5e5",
   "metadata": {},
   "outputs": [],
   "source": [
    "reg_stemmer=RegexpStemmer('ing$|s$|es$|able$',min=4)"
   ]
  },
  {
   "cell_type": "code",
   "execution_count": 30,
   "id": "0ddad96b",
   "metadata": {},
   "outputs": [
    {
     "data": {
      "text/plain": [
       "'Runn'"
      ]
     },
     "execution_count": 30,
     "metadata": {},
     "output_type": "execute_result"
    }
   ],
   "source": [
    "reg_stemmer.stem(\"Running\")"
   ]
  },
  {
   "cell_type": "code",
   "execution_count": 31,
   "id": "fd722775",
   "metadata": {},
   "outputs": [
    {
     "data": {
      "text/plain": [
       "'En'"
      ]
     },
     "execution_count": 31,
     "metadata": {},
     "output_type": "execute_result"
    }
   ],
   "source": [
    "reg_stemmer.stem('Enable')"
   ]
  },
  {
   "cell_type": "code",
   "execution_count": 32,
   "id": "7584e412",
   "metadata": {},
   "outputs": [],
   "source": [
    "from nltk.stem import SnowballStemmer"
   ]
  },
  {
   "cell_type": "code",
   "execution_count": 35,
   "id": "28fd5e16",
   "metadata": {},
   "outputs": [],
   "source": [
    "snow=SnowballStemmer('english')"
   ]
  },
  {
   "cell_type": "code",
   "execution_count": 36,
   "id": "cdecb805",
   "metadata": {},
   "outputs": [
    {
     "name": "stdout",
     "output_type": "stream",
     "text": [
      "eating------->eat\n",
      "running------->run\n",
      "sleeping------->sleep\n",
      "teasing------->teas\n",
      "looking------->look\n",
      "gazing------->gaze\n",
      "gazed------->gaze\n",
      "ran------->ran\n",
      "done------->done\n",
      "did------->did\n",
      "eaten------->eaten\n",
      "watched------->watch\n",
      "cursed------->curs\n",
      "cured------->cure\n",
      "spent------->spent\n"
     ]
    }
   ],
   "source": [
    "for word in words:\n",
    "    print(word +\"------->\"+ snow.stem(word))"
   ]
  }
 ],
 "metadata": {
  "kernelspec": {
   "display_name": "Python 3",
   "language": "python",
   "name": "python3"
  },
  "language_info": {
   "codemirror_mode": {
    "name": "ipython",
    "version": 3
   },
   "file_extension": ".py",
   "mimetype": "text/x-python",
   "name": "python",
   "nbconvert_exporter": "python",
   "pygments_lexer": "ipython3",
   "version": "3.13.3"
  }
 },
 "nbformat": 4,
 "nbformat_minor": 5
}
