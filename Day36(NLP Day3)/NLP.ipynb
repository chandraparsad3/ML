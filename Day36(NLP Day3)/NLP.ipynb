{
  "nbformat": 4,
  "nbformat_minor": 0,
  "metadata": {
    "colab": {
      "provenance": []
    },
    "kernelspec": {
      "name": "python3",
      "display_name": "Python 3"
    },
    "language_info": {
      "name": "python"
    }
  },
  "cells": [
    {
      "cell_type": "code",
      "source": [
        "paragraph=\"\"\" Lionel Andrés \"Leo\" Messi[note 1] (Spanish pronunciation: [ljoˈnel anˈdɾes ˈmesi] ⓘ; born 24 June 1987) is an Argentine professional footballer who plays as a forward for and captains both Major League Soccer club Inter Miami and the Argentina national team. Widely regarded as one of the greatest players of all time, Messi has won a record eight Ballon d'Or awards, a record six European Golden Shoes, and was named the world's best player for a record eight times by FIFA.[note 2] Messi is the most decorated player in the history of professional football, with 44 team trophies.[note 3] Until 2021, he had spent his entire professional career with Barcelona, where he won a club-record 34 trophies, including ten La Liga titles, seven Copa del Rey titles, and the UEFA Champions League four times. Playing for Argentina's national team, he won two Copa América titles and the 2022 FIFA World Cup. A prolific goalscorer and creative playmaker, Messi holds the records for most goals (474), hat-tricks (36), and assists (192) in La Liga, most appearances (39) and assists (18) in the Copa América. He has the most international goals (109) and appearances (187) by a South American male. Messi has scored over 800 senior career goals for club and country, and the most goals for a single club (672).\n",
        "\n",
        "Messi relocated to Spain and joined Barcelona aged 13, making his competitive debut at age 17 in October 2004. He established himself as an integral player for the club within the next three years, and in his first uninterrupted season in 2008–09 helped Barcelona achieve the first treble in Spanish football; that year, aged 22, Messi won his first Ballon d'Or. Messi won four consecutive Ballons d'Or, the first player to win it four times. During the 2011–12 season, he set La Liga and European records for most goals in a season, while establishing himself as Barcelona's all-time top scorer. The following two seasons, he finished second for the Ballon d'Or behind Cristiano Ronaldo, his perceived career rival, before regaining his best form during the 2014–15 campaign, becoming the all-time top scorer in La Liga and leading Barcelona to a historic second treble, and was awarded a fifth Ballon d'Or in 2015. Messi assumed captaincy of Barcelona in 2018, and won a record sixth Ballon d'Or in 2019. He signed for French club Paris Saint-Germain in August 2021, spending two seasons there and winning Ligue 1 twice. Messi joined American club Inter Miami in July 2023, winning the Leagues Cup in August.\"\"\""
      ],
      "metadata": {
        "id": "HwNTqx3s-vQ8"
      },
      "execution_count": 1,
      "outputs": []
    },
    {
      "cell_type": "code",
      "source": [
        "paragraph"
      ],
      "metadata": {
        "colab": {
          "base_uri": "https://localhost:8080/",
          "height": 140
        },
        "id": "vPSLf1fR-2MM",
        "outputId": "8c4846a7-27ae-4bda-9536-365172290b34"
      },
      "execution_count": 2,
      "outputs": [
        {
          "output_type": "execute_result",
          "data": {
            "text/plain": [
              "' Lionel Andrés \"Leo\" Messi[note 1] (Spanish pronunciation: [ljoˈnel anˈdɾes ˈmesi] ⓘ; born 24 June 1987) is an Argentine professional footballer who plays as a forward for and captains both Major League Soccer club Inter Miami and the Argentina national team. Widely regarded as one of the greatest players of all time, Messi has won a record eight Ballon d\\'Or awards, a record six European Golden Shoes, and was named the world\\'s best player for a record eight times by FIFA.[note 2] Messi is the most decorated player in the history of professional football, with 44 team trophies.[note 3] Until 2021, he had spent his entire professional career with Barcelona, where he won a club-record 34 trophies, including ten La Liga titles, seven Copa del Rey titles, and the UEFA Champions League four times. Playing for Argentina\\'s national team, he won two Copa América titles and the 2022 FIFA World Cup. A prolific goalscorer and creative playmaker, Messi holds the records for most goals (474), hat-tricks (36), and assists (192) in La Liga, most appearances (39) and assists (18) in the Copa América. He has the most international goals (109) and appearances (187) by a South American male. Messi has scored over 800 senior career goals for club and country, and the most goals for a single club (672).\\n\\nMessi relocated to Spain and joined Barcelona aged 13, making his competitive debut at age 17 in October 2004. He established himself as an integral player for the club within the next three years, and in his first uninterrupted season in 2008–09 helped Barcelona achieve the first treble in Spanish football; that year, aged 22, Messi won his first Ballon d\\'Or. Messi won four consecutive Ballons d\\'Or, the first player to win it four times. During the 2011–12 season, he set La Liga and European records for most goals in a season, while establishing himself as Barcelona\\'s all-time top scorer. The following two seasons, he finished second for the Ballon d\\'Or behind Cristiano Ronaldo, his perceived career rival, before regaining his best form during the 2014–15 campaign, becoming the all-time top scorer in La Liga and leading Barcelona to a historic second treble, and was awarded a fifth Ballon d\\'Or in 2015. Messi assumed captaincy of Barcelona in 2018, and won a record sixth Ballon d\\'Or in 2019. He signed for French club Paris Saint-Germain in August 2021, spending two seasons there and winning Ligue 1 twice. Messi joined American club Inter Miami in July 2023, winning the Leagues Cup in August.'"
            ],
            "application/vnd.google.colaboratory.intrinsic+json": {
              "type": "string"
            }
          },
          "metadata": {},
          "execution_count": 2
        }
      ]
    },
    {
      "cell_type": "code",
      "source": [
        "import nltk\n",
        "from nltk.corpus import stopwords\n",
        "from nltk.stem import PorterStemmer"
      ],
      "metadata": {
        "id": "FJZhwrVi-6QH"
      },
      "execution_count": 3,
      "outputs": []
    },
    {
      "cell_type": "code",
      "source": [
        "Stem=PorterStemmer()"
      ],
      "metadata": {
        "id": "8Vb1iwHr_Wrs"
      },
      "execution_count": 5,
      "outputs": []
    },
    {
      "cell_type": "code",
      "source": [
        "Stem.stem(\"history\")"
      ],
      "metadata": {
        "colab": {
          "base_uri": "https://localhost:8080/",
          "height": 35
        },
        "id": "FhMhRBdl_aM8",
        "outputId": "98e3860a-ef2e-4882-b7d8-5cdfb06f7111"
      },
      "execution_count": 6,
      "outputs": [
        {
          "output_type": "execute_result",
          "data": {
            "text/plain": [
              "'histori'"
            ],
            "application/vnd.google.colaboratory.intrinsic+json": {
              "type": "string"
            }
          },
          "metadata": {},
          "execution_count": 6
        }
      ]
    },
    {
      "cell_type": "code",
      "source": [
        "from nltk.stem import WordNetLemmatizer"
      ],
      "metadata": {
        "id": "N-etRTX0_vWt"
      },
      "execution_count": 7,
      "outputs": []
    },
    {
      "cell_type": "code",
      "source": [
        "nltk.download('stopwords')\n"
      ],
      "metadata": {
        "id": "zCLZf-CAAlkp",
        "colab": {
          "base_uri": "https://localhost:8080/"
        },
        "outputId": "757bc727-6370-483a-c1db-736af0a04c46"
      },
      "execution_count": 17,
      "outputs": [
        {
          "output_type": "stream",
          "name": "stderr",
          "text": [
            "[nltk_data] Downloading package stopwords to /root/nltk_data...\n",
            "[nltk_data]   Unzipping corpora/stopwords.zip.\n"
          ]
        },
        {
          "output_type": "execute_result",
          "data": {
            "text/plain": [
              "True"
            ]
          },
          "metadata": {},
          "execution_count": 17
        }
      ]
    },
    {
      "cell_type": "code",
      "source": [
        "Lemmatizer=WordNetLemmatizer()"
      ],
      "metadata": {
        "id": "zXPG4dLD_18a"
      },
      "execution_count": 8,
      "outputs": []
    },
    {
      "cell_type": "code",
      "source": [
        "Lemmatizer.lemmatize('goes')"
      ],
      "metadata": {
        "colab": {
          "base_uri": "https://localhost:8080/",
          "height": 35
        },
        "id": "R3OaBBCH_2Fi",
        "outputId": "432623ce-1a7c-44a8-da29-ce705096989c"
      },
      "execution_count": 11,
      "outputs": [
        {
          "output_type": "execute_result",
          "data": {
            "text/plain": [
              "'go'"
            ],
            "application/vnd.google.colaboratory.intrinsic+json": {
              "type": "string"
            }
          },
          "metadata": {},
          "execution_count": 11
        }
      ]
    },
    {
      "cell_type": "code",
      "source": [
        "nltk.download('punkt')"
      ],
      "metadata": {
        "colab": {
          "base_uri": "https://localhost:8080/"
        },
        "id": "SkgAPEsUA1Sm",
        "outputId": "c31635b4-4e70-4901-fc0e-41a7755c7791"
      },
      "execution_count": 12,
      "outputs": [
        {
          "output_type": "stream",
          "name": "stderr",
          "text": [
            "[nltk_data] Downloading package punkt to /root/nltk_data...\n",
            "[nltk_data]   Unzipping tokenizers/punkt.zip.\n"
          ]
        },
        {
          "output_type": "execute_result",
          "data": {
            "text/plain": [
              "True"
            ]
          },
          "metadata": {},
          "execution_count": 12
        }
      ]
    },
    {
      "cell_type": "code",
      "source": [
        "sentence=nltk.sent_tokenize(paragraph)"
      ],
      "metadata": {
        "id": "QAHW5s7DA605"
      },
      "execution_count": 13,
      "outputs": []
    },
    {
      "cell_type": "code",
      "source": [
        "import re\n",
        "corpus=[]\n",
        "for i in range(len(sentence)):\n",
        "  review=re.sub('[^a-zA-Z]',' ',sentence[i])\n",
        "  review=review.lower()\n",
        "  corpus.append(review)\n"
      ],
      "metadata": {
        "id": "YGqS9Su2A_wd"
      },
      "execution_count": 14,
      "outputs": []
    },
    {
      "cell_type": "code",
      "source": [
        "corpus"
      ],
      "metadata": {
        "colab": {
          "base_uri": "https://localhost:8080/"
        },
        "id": "dhCWfanbBfr9",
        "outputId": "3648f7b9-15dd-4266-8a28-2c32943e884a"
      },
      "execution_count": 15,
      "outputs": [
        {
          "output_type": "execute_result",
          "data": {
            "text/plain": [
              "[' lionel andr s  leo  messi note     spanish pronunciation   ljo nel an d es  mesi     born    june       is an argentine professional footballer who plays as a forward for and captains both major league soccer club inter miami and the argentina national team ',\n",
              " 'widely regarded as one of the greatest players of all time  messi has won a record eight ballon d or awards  a record six european golden shoes  and was named the world s best player for a record eight times by fifa ',\n",
              " ' note    messi is the most decorated player in the history of professional football  with    team trophies ',\n",
              " ' note    until       he had spent his entire professional career with barcelona  where he won a club record    trophies  including ten la liga titles  seven copa del rey titles  and the uefa champions league four times ',\n",
              " 'playing for argentina s national team  he won two copa am rica titles and the      fifa world cup ',\n",
              " 'a prolific goalscorer and creative playmaker  messi holds the records for most goals        hat tricks       and assists       in la liga  most appearances      and assists      in the copa am rica ',\n",
              " 'he has the most international goals       and appearances       by a south american male ',\n",
              " 'messi has scored over     senior career goals for club and country  and the most goals for a single club       ',\n",
              " 'messi relocated to spain and joined barcelona aged     making his competitive debut at age    in october      ',\n",
              " 'he established himself as an integral player for the club within the next three years  and in his first uninterrupted season in         helped barcelona achieve the first treble in spanish football  that year  aged     messi won his first ballon d or ',\n",
              " 'messi won four consecutive ballons d or  the first player to win it four times ',\n",
              " 'during the         season  he set la liga and european records for most goals in a season  while establishing himself as barcelona s all time top scorer ',\n",
              " 'the following two seasons  he finished second for the ballon d or behind cristiano ronaldo  his perceived career rival  before regaining his best form during the         campaign  becoming the all time top scorer in la liga and leading barcelona to a historic second treble  and was awarded a fifth ballon d or in      ',\n",
              " 'messi assumed captaincy of barcelona in       and won a record sixth ballon d or in      ',\n",
              " 'he signed for french club paris saint germain in august       spending two seasons there and winning ligue   twice ',\n",
              " 'messi joined american club inter miami in july       winning the leagues cup in august ']"
            ]
          },
          "metadata": {},
          "execution_count": 15
        }
      ]
    },
    {
      "cell_type": "code",
      "source": [
        "for i in corpus:\n",
        "  words=nltk.sent_tokenize(i)\n",
        "  for word in words:\n",
        "    if word not in set(stopwords.words('english')):\n",
        "      print(Stem.stem(word))"
      ],
      "metadata": {
        "colab": {
          "base_uri": "https://localhost:8080/"
        },
        "id": "Xys04sn5BwgO",
        "outputId": "92ff0035-5bfa-4560-f780-b789b700f575"
      },
      "execution_count": 18,
      "outputs": [
        {
          "output_type": "stream",
          "name": "stdout",
          "text": [
            " lionel andr s  leo  messi note     spanish pronunciation   ljo nel an d es  mesi     born    june       is an argentine professional footballer who plays as a forward for and captains both major league soccer club inter miami and the argentina national team\n",
            "widely regarded as one of the greatest players of all time  messi has won a record eight ballon d or awards  a record six european golden shoes  and was named the world s best player for a record eight times by fifa\n",
            " note    messi is the most decorated player in the history of professional football  with    team trophi\n",
            " note    until       he had spent his entire professional career with barcelona  where he won a club record    trophies  including ten la liga titles  seven copa del rey titles  and the uefa champions league four tim\n",
            "playing for argentina s national team  he won two copa am rica titles and the      fifa world cup\n",
            "a prolific goalscorer and creative playmaker  messi holds the records for most goals        hat tricks       and assists       in la liga  most appearances      and assists      in the copa am rica\n",
            "he has the most international goals       and appearances       by a south american mal\n",
            "messi has scored over     senior career goals for club and country  and the most goals for a single club\n",
            "messi relocated to spain and joined barcelona aged     making his competitive debut at age    in octob\n",
            "he established himself as an integral player for the club within the next three years  and in his first uninterrupted season in         helped barcelona achieve the first treble in spanish football  that year  aged     messi won his first ballon d or\n",
            "messi won four consecutive ballons d or  the first player to win it four tim\n",
            "during the         season  he set la liga and european records for most goals in a season  while establishing himself as barcelona s all time top scor\n",
            "the following two seasons  he finished second for the ballon d or behind cristiano ronaldo  his perceived career rival  before regaining his best form during the         campaign  becoming the all time top scorer in la liga and leading barcelona to a historic second treble  and was awarded a fifth ballon d or in\n",
            "messi assumed captaincy of barcelona in       and won a record sixth ballon d or in\n",
            "he signed for french club paris saint germain in august       spending two seasons there and winning ligue   twic\n",
            "messi joined american club inter miami in july       winning the leagues cup in august\n"
          ]
        }
      ]
    },
    {
      "cell_type": "code",
      "source": [
        "from sklearn.feature_extraction.text import CountVectorizer"
      ],
      "metadata": {
        "id": "MMVLXEbIDD-c"
      },
      "execution_count": 19,
      "outputs": []
    },
    {
      "cell_type": "code",
      "source": [
        "vect=CountVectorizer()"
      ],
      "metadata": {
        "id": "ioXWGLRXDIjS"
      },
      "execution_count": 20,
      "outputs": []
    },
    {
      "cell_type": "code",
      "source": [
        "X=vect.fit_transform(corpus)"
      ],
      "metadata": {
        "id": "NzTDylP1DK36"
      },
      "execution_count": 21,
      "outputs": []
    },
    {
      "cell_type": "code",
      "source": [
        "vect.vocabulary_"
      ],
      "metadata": {
        "colab": {
          "base_uri": "https://localhost:8080/"
        },
        "id": "Eza0wKxzDYkv",
        "outputId": "30a8b53a-fc17-4778-dc36-2149a4af414c"
      },
      "execution_count": null,
      "outputs": [
        {
          "output_type": "execute_result",
          "data": {
            "text/plain": [
              "{'lionel': 96,\n",
              " 'andr': 8,\n",
              " 'leo': 93,\n",
              " 'messi': 102,\n",
              " 'note': 109,\n",
              " 'spanish': 151,\n",
              " 'pronunciation': 124,\n",
              " 'ljo': 97,\n",
              " 'nel': 107,\n",
              " 'an': 6,\n",
              " 'es': 48,\n",
              " 'mesi': 101,\n",
              " 'born': 26,\n",
              " 'june': 88,\n",
              " 'is': 84,\n",
              " 'argentine': 11,\n",
              " 'professional': 122,\n",
              " 'footballer': 58,\n",
              " 'who': 176,\n",
              " 'plays': 121,\n",
              " 'as': 12,\n",
              " 'forward': 61,\n",
              " 'for': 59,\n",
              " 'and': 7,\n",
              " 'captains': 31,\n",
              " 'both': 27,\n",
              " 'major': 98,\n",
              " 'league': 91,\n",
              " 'soccer': 148,\n",
              " 'club': 34,\n",
              " 'inter': 82,\n",
              " 'miami': 103,\n",
              " 'the': 157,\n",
              " 'argentina': 10,\n",
              " 'national': 106,\n",
              " 'team': 154,\n",
              " 'widely': 177,\n",
              " 'regarded': 128,\n",
              " 'one': 112,\n",
              " 'of': 111,\n",
              " 'greatest': 68,\n",
              " 'players': 118,\n",
              " 'all': 3,\n",
              " 'time': 160,\n",
              " 'has': 70,\n",
              " 'won': 182,\n",
              " 'record': 125,\n",
              " 'eight': 46,\n",
              " 'ballon': 19,\n",
              " 'or': 113,\n",
              " 'awards': 18,\n",
              " 'six': 146,\n",
              " 'european': 51,\n",
              " 'golden': 67,\n",
              " 'shoes': 143,\n",
              " 'was': 173,\n",
              " 'named': 105,\n",
              " 'world': 183,\n",
              " 'best': 25,\n",
              " 'player': 117,\n",
              " 'times': 161,\n",
              " 'by': 28,\n",
              " 'fifa': 52,\n",
              " 'most': 104,\n",
              " 'decorated': 43,\n",
              " 'in': 79,\n",
              " 'history': 77,\n",
              " 'football': 57,\n",
              " 'with': 180,\n",
              " 'trophies': 167,\n",
              " 'until': 172,\n",
              " 'he': 72,\n",
              " 'had': 69,\n",
              " 'spent': 153,\n",
              " 'his': 75,\n",
              " 'entire': 47,\n",
              " 'career': 32,\n",
              " 'barcelona': 21,\n",
              " 'where': 174,\n",
              " 'including': 80,\n",
              " 'ten': 155,\n",
              " 'la': 89,\n",
              " 'liga': 94,\n",
              " 'titles': 162,\n",
              " 'seven': 142,\n",
              " 'copa': 37,\n",
              " 'del': 44,\n",
              " 'rey': 130,\n",
              " 'uefa': 170,\n",
              " 'champions': 33,\n",
              " 'four': 62,\n",
              " 'playing': 119,\n",
              " 'two': 169,\n",
              " 'am': 4,\n",
              " 'rica': 131,\n",
              " 'cup': 41,\n",
              " 'prolific': 123,\n",
              " 'goalscorer': 66,\n",
              " 'creative': 39,\n",
              " 'playmaker': 120,\n",
              " 'holds': 78,\n",
              " 'records': 126,\n",
              " 'goals': 65,\n",
              " 'hat': 71,\n",
              " 'tricks': 166,\n",
              " 'assists': 13,\n",
              " 'appearances': 9,\n",
              " 'international': 83,\n",
              " 'south': 149,\n",
              " 'american': 5,\n",
              " 'male': 100,\n",
              " 'scored': 135,\n",
              " 'over': 114,\n",
              " 'senior': 140,\n",
              " 'country': 38,\n",
              " 'single': 145,\n",
              " 'relocated': 129,\n",
              " 'to': 163,\n",
              " 'spain': 150,\n",
              " 'joined': 86,\n",
              " 'aged': 2,\n",
              " 'making': 99,\n",
              " 'competitive': 35,\n",
              " 'debut': 42,\n",
              " 'at': 15,\n",
              " 'age': 1,\n",
              " 'october': 110,\n",
              " 'established': 49,\n",
              " 'himself': 74,\n",
              " 'integral': 81,\n",
              " 'within': 181,\n",
              " 'next': 108,\n",
              " 'three': 159,\n",
              " 'years': 185,\n",
              " 'first': 55,\n",
              " 'uninterrupted': 171,\n",
              " 'season': 137,\n",
              " 'helped': 73,\n",
              " 'achieve': 0,\n",
              " 'treble': 165,\n",
              " 'that': 156,\n",
              " 'year': 184,\n",
              " 'consecutive': 36,\n",
              " 'ballons': 20,\n",
              " 'win': 178,\n",
              " 'it': 85,\n",
              " 'during': 45,\n",
              " 'set': 141,\n",
              " 'while': 175,\n",
              " 'establishing': 50,\n",
              " 'top': 164,\n",
              " 'scorer': 136,\n",
              " 'following': 56,\n",
              " 'seasons': 138,\n",
              " 'finished': 54,\n",
              " 'second': 139,\n",
              " 'behind': 24,\n",
              " 'cristiano': 40,\n",
              " 'ronaldo': 133,\n",
              " 'perceived': 116,\n",
              " 'rival': 132,\n",
              " 'before': 23,\n",
              " 'regaining': 127,\n",
              " 'form': 60,\n",
              " 'campaign': 29,\n",
              " 'becoming': 22,\n",
              " 'leading': 90,\n",
              " 'historic': 76,\n",
              " 'awarded': 17,\n",
              " 'fifth': 53,\n",
              " 'assumed': 14,\n",
              " 'captaincy': 30,\n",
              " 'sixth': 147,\n",
              " 'signed': 144,\n",
              " 'french': 63,\n",
              " 'paris': 115,\n",
              " 'saint': 134,\n",
              " 'germain': 64,\n",
              " 'august': 16,\n",
              " 'spending': 152,\n",
              " 'there': 158,\n",
              " 'winning': 179,\n",
              " 'ligue': 95,\n",
              " 'twice': 168,\n",
              " 'july': 87,\n",
              " 'leagues': 92}"
            ]
          },
          "metadata": {},
          "execution_count": 51
        }
      ]
    },
    {
      "cell_type": "code",
      "source": [
        "X[0].toarray()"
      ],
      "metadata": {
        "colab": {
          "base_uri": "https://localhost:8080/"
        },
        "id": "ccpMLGUjDPXq",
        "outputId": "805d5c34-5c96-4e01-cba6-5a398108c4f0"
      },
      "execution_count": 22,
      "outputs": [
        {
          "output_type": "execute_result",
          "data": {
            "text/plain": [
              "array([[0, 0, 0, 0, 0, 0, 2, 2, 1, 0, 1, 1, 1, 0, 0, 0, 0, 0, 0, 0, 0, 0,\n",
              "        0, 0, 0, 0, 1, 1, 0, 0, 0, 1, 0, 0, 1, 0, 0, 0, 0, 0, 0, 0, 0, 0,\n",
              "        0, 0, 0, 0, 1, 0, 0, 0, 0, 0, 0, 0, 0, 0, 1, 1, 0, 1, 0, 0, 0, 0,\n",
              "        0, 0, 0, 0, 0, 0, 0, 0, 0, 0, 0, 0, 0, 0, 0, 0, 1, 0, 1, 0, 0, 0,\n",
              "        1, 0, 0, 1, 0, 1, 0, 0, 1, 1, 1, 0, 0, 1, 1, 1, 0, 0, 1, 1, 0, 1,\n",
              "        0, 0, 0, 0, 0, 0, 0, 0, 0, 0, 0, 1, 1, 0, 1, 0, 0, 0, 0, 0, 0, 0,\n",
              "        0, 0, 0, 0, 0, 0, 0, 0, 0, 0, 0, 0, 0, 0, 0, 0, 1, 0, 0, 1, 0, 0,\n",
              "        1, 0, 0, 1, 0, 0, 0, 0, 0, 0, 0, 0, 0, 0, 0, 0, 0, 0, 0, 0, 0, 0,\n",
              "        1, 0, 0, 0, 0, 0, 0, 0, 0, 0]])"
            ]
          },
          "metadata": {},
          "execution_count": 22
        }
      ]
    },
    {
      "cell_type": "code",
      "source": [
        "from sklearn.feature_extraction.text import TfidfVectorizer\n",
        "tfidf=TfidfVectorizer()"
      ],
      "metadata": {
        "id": "1Ph30-sqO43Q"
      },
      "execution_count": 23,
      "outputs": []
    },
    {
      "cell_type": "code",
      "source": [
        "X=tfidf.fit_transform(corpus)"
      ],
      "metadata": {
        "id": "bpuRldS6PDwJ"
      },
      "execution_count": 24,
      "outputs": []
    },
    {
      "cell_type": "code",
      "source": [
        "X[0].toarray()"
      ],
      "metadata": {
        "colab": {
          "base_uri": "https://localhost:8080/"
        },
        "id": "UfHS4QxHPKSi",
        "outputId": "eca71293-9b01-443a-f960-baedc9d7400f"
      },
      "execution_count": 27,
      "outputs": [
        {
          "output_type": "execute_result",
          "data": {
            "text/plain": [
              "array([[0.        , 0.        , 0.        , 0.        , 0.        ,\n",
              "        0.        , 0.31183871, 0.13617492, 0.17903785, 0.        ,\n",
              "        0.15591936, 0.17903785, 0.1267935 , 0.        , 0.        ,\n",
              "        0.        , 0.        , 0.        , 0.        , 0.        ,\n",
              "        0.        , 0.        , 0.        , 0.        , 0.        ,\n",
              "        0.        , 0.17903785, 0.17903785, 0.        , 0.        ,\n",
              "        0.        , 0.17903785, 0.        , 0.        , 0.10760879,\n",
              "        0.        , 0.        , 0.        , 0.        , 0.        ,\n",
              "        0.        , 0.        , 0.        , 0.        , 0.        ,\n",
              "        0.        , 0.        , 0.        , 0.17903785, 0.        ,\n",
              "        0.        , 0.        , 0.        , 0.        , 0.        ,\n",
              "        0.        , 0.        , 0.        , 0.17903785, 0.08727217,\n",
              "        0.        , 0.17903785, 0.        , 0.        , 0.        ,\n",
              "        0.        , 0.        , 0.        , 0.        , 0.        ,\n",
              "        0.        , 0.        , 0.        , 0.        , 0.        ,\n",
              "        0.        , 0.        , 0.        , 0.        , 0.        ,\n",
              "        0.        , 0.        , 0.15591936, 0.        , 0.15591936,\n",
              "        0.        , 0.        , 0.        , 0.17903785, 0.        ,\n",
              "        0.        , 0.15591936, 0.        , 0.17903785, 0.        ,\n",
              "        0.        , 0.17903785, 0.17903785, 0.17903785, 0.        ,\n",
              "        0.        , 0.17903785, 0.08183785, 0.15591936, 0.        ,\n",
              "        0.        , 0.15591936, 0.17903785, 0.        , 0.13951652,\n",
              "        0.        , 0.        , 0.        , 0.        , 0.        ,\n",
              "        0.        , 0.        , 0.        , 0.        , 0.        ,\n",
              "        0.        , 0.17903785, 0.13951652, 0.        , 0.17903785,\n",
              "        0.        , 0.        , 0.        , 0.        , 0.        ,\n",
              "        0.        , 0.        , 0.        , 0.        , 0.        ,\n",
              "        0.        , 0.        , 0.        , 0.        , 0.        ,\n",
              "        0.        , 0.        , 0.        , 0.        , 0.        ,\n",
              "        0.        , 0.        , 0.        , 0.17903785, 0.        ,\n",
              "        0.        , 0.15591936, 0.        , 0.        , 0.13951652,\n",
              "        0.        , 0.        , 0.06808746, 0.        , 0.        ,\n",
              "        0.        , 0.        , 0.        , 0.        , 0.        ,\n",
              "        0.        , 0.        , 0.        , 0.        , 0.        ,\n",
              "        0.        , 0.        , 0.        , 0.        , 0.        ,\n",
              "        0.        , 0.17903785, 0.        , 0.        , 0.        ,\n",
              "        0.        , 0.        , 0.        , 0.        , 0.        ,\n",
              "        0.        ]])"
            ]
          },
          "metadata": {},
          "execution_count": 27
        }
      ]
    }
  ]
}