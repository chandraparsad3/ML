{
 "cells": [
  {
   "cell_type": "markdown",
   "id": "73651da5-a780-4c3e-bc8f-de501af0c597",
   "metadata": {},
   "source": [
    "### Logistic Regression for Multiclass Classification"
   ]
  },
  {
   "cell_type": "code",
   "execution_count": 17,
   "id": "3b2e84f3-8a2b-40fe-a91b-7860e7fe4f63",
   "metadata": {},
   "outputs": [],
   "source": [
    "from sklearn.datasets import make_classification\n",
    "from sklearn.linear_model import LogisticRegression"
   ]
  },
  {
   "cell_type": "code",
   "execution_count": 18,
   "id": "6a938494-136d-4614-8be2-1edc1932a567",
   "metadata": {},
   "outputs": [],
   "source": [
    "X,y=make_classification(n_samples=1000,n_classes=3,n_informative=5,n_redundant=5,n_features=10,random_state=42)"
   ]
  },
  {
   "cell_type": "code",
   "execution_count": 19,
   "id": "7af8af80-e43a-4c90-9183-a9e6ad918d02",
   "metadata": {},
   "outputs": [
    {
     "data": {
      "text/plain": [
       "(array([[ 2.59014356, -3.42407256,  0.26830895, ..., -0.4075564 ,\n",
       "          2.00889958,  0.91176128],\n",
       "        [-0.18964388,  1.18915349,  1.33715288, ...,  0.75174259,\n",
       "         -0.93616979, -0.0406729 ],\n",
       "        [ 2.33823479,  1.73171672, -2.9554549 , ..., -6.11310542,\n",
       "          2.56981847,  0.49067355],\n",
       "        ...,\n",
       "        [-5.0147105 ,  2.6321196 , -1.85549514, ...,  0.2517947 ,\n",
       "         -1.09326259, -2.72779634],\n",
       "        [-1.59943891,  1.68834032,  1.06411267, ...,  0.93209456,\n",
       "         -1.11081933, -1.08072112],\n",
       "        [ 2.89511603, -4.213598  ,  1.43221441, ...,  2.97446066,\n",
       "         -0.86821862,  0.73856138]]),\n",
       " array([0, 0, 1, 0, 0, 1, 2, 2, 0, 2, 1, 2, 1, 2, 1, 1, 0, 2, 2, 2, 1, 0,\n",
       "        0, 0, 2, 2, 1, 1, 2, 1, 0, 0, 1, 2, 0, 1, 2, 2, 2, 0, 1, 1, 1, 2,\n",
       "        2, 2, 1, 2, 0, 2, 0, 0, 0, 0, 0, 2, 1, 2, 0, 1, 2, 2, 1, 2, 1, 1,\n",
       "        2, 1, 1, 0, 1, 1, 1, 1, 1, 2, 0, 0, 0, 2, 2, 2, 2, 0, 2, 0, 1, 1,\n",
       "        2, 0, 0, 1, 0, 0, 1, 2, 1, 2, 1, 0, 1, 2, 2, 2, 1, 1, 1, 1, 1, 1,\n",
       "        0, 0, 1, 1, 1, 1, 0, 1, 1, 2, 0, 1, 0, 1, 1, 0, 2, 0, 1, 0, 2, 0,\n",
       "        2, 0, 1, 2, 2, 0, 0, 0, 1, 1, 1, 1, 0, 1, 1, 2, 2, 0, 0, 0, 1, 1,\n",
       "        0, 1, 2, 2, 0, 0, 2, 0, 0, 2, 0, 0, 0, 0, 0, 1, 1, 0, 0, 0, 2, 2,\n",
       "        0, 0, 0, 1, 1, 2, 0, 1, 0, 1, 1, 1, 2, 0, 2, 0, 0, 1, 1, 1, 0, 0,\n",
       "        1, 1, 0, 0, 0, 2, 0, 0, 0, 0, 1, 2, 0, 2, 2, 1, 1, 2, 2, 0, 1, 1,\n",
       "        0, 0, 2, 1, 0, 0, 1, 0, 0, 2, 2, 1, 2, 2, 0, 0, 1, 1, 0, 2, 0, 0,\n",
       "        0, 2, 2, 2, 0, 2, 1, 1, 0, 2, 2, 1, 1, 2, 2, 0, 2, 1, 0, 2, 1, 2,\n",
       "        1, 2, 0, 2, 0, 0, 0, 2, 0, 1, 1, 2, 1, 0, 1, 0, 2, 1, 0, 2, 0, 2,\n",
       "        0, 2, 0, 1, 2, 1, 2, 0, 1, 2, 0, 2, 0, 0, 1, 1, 0, 1, 1, 0, 2, 0,\n",
       "        2, 2, 0, 2, 2, 1, 0, 0, 1, 2, 2, 1, 1, 1, 1, 2, 2, 1, 0, 2, 0, 1,\n",
       "        0, 1, 1, 1, 0, 1, 2, 0, 0, 2, 1, 1, 0, 1, 0, 0, 0, 0, 2, 0, 2, 2,\n",
       "        2, 1, 1, 1, 2, 1, 1, 0, 1, 1, 1, 0, 1, 2, 0, 0, 2, 1, 2, 0, 1, 0,\n",
       "        0, 1, 2, 0, 1, 1, 1, 0, 1, 2, 2, 1, 1, 0, 0, 1, 2, 2, 1, 1, 1, 2,\n",
       "        1, 1, 1, 1, 0, 2, 1, 2, 0, 1, 1, 1, 0, 1, 0, 2, 0, 1, 1, 0, 2, 0,\n",
       "        2, 0, 2, 2, 0, 1, 0, 0, 0, 0, 0, 2, 1, 1, 0, 2, 2, 2, 2, 2, 2, 1,\n",
       "        2, 1, 0, 2, 2, 2, 0, 1, 2, 0, 0, 1, 2, 2, 1, 2, 0, 2, 2, 1, 0, 0,\n",
       "        1, 2, 1, 0, 2, 1, 1, 0, 0, 1, 1, 0, 2, 2, 2, 0, 1, 0, 2, 2, 2, 2,\n",
       "        0, 1, 1, 0, 2, 2, 2, 1, 2, 2, 1, 2, 0, 0, 0, 2, 0, 0, 1, 2, 2, 0,\n",
       "        1, 1, 2, 0, 1, 2, 2, 2, 0, 0, 1, 2, 2, 1, 2, 1, 2, 0, 2, 1, 0, 0,\n",
       "        2, 0, 2, 2, 0, 1, 2, 0, 2, 2, 1, 2, 0, 1, 0, 1, 0, 1, 1, 1, 2, 2,\n",
       "        0, 2, 1, 0, 1, 1, 2, 2, 2, 0, 0, 0, 2, 0, 0, 2, 2, 2, 0, 0, 1, 0,\n",
       "        0, 1, 1, 0, 1, 2, 1, 0, 1, 1, 2, 0, 1, 1, 2, 2, 0, 0, 0, 2, 2, 1,\n",
       "        2, 1, 2, 1, 2, 2, 2, 0, 1, 0, 1, 1, 2, 2, 2, 0, 1, 2, 1, 1, 1, 0,\n",
       "        0, 2, 1, 1, 0, 1, 0, 2, 0, 2, 1, 1, 0, 1, 2, 2, 2, 1, 2, 2, 0, 1,\n",
       "        1, 2, 2, 2, 0, 2, 1, 0, 2, 2, 2, 1, 2, 2, 2, 2, 1, 2, 1, 2, 2, 1,\n",
       "        2, 0, 2, 1, 1, 0, 1, 2, 1, 2, 1, 0, 1, 2, 1, 1, 0, 0, 0, 2, 0, 0,\n",
       "        2, 1, 2, 0, 2, 0, 1, 0, 2, 1, 0, 0, 2, 0, 2, 0, 1, 1, 2, 0, 1, 1,\n",
       "        1, 1, 0, 0, 1, 0, 0, 1, 0, 1, 0, 2, 1, 0, 2, 1, 1, 2, 2, 2, 0, 0,\n",
       "        0, 0, 2, 2, 1, 1, 2, 2, 0, 1, 0, 2, 0, 0, 1, 1, 0, 1, 1, 2, 2, 2,\n",
       "        2, 1, 1, 2, 2, 1, 1, 0, 0, 2, 2, 0, 0, 2, 1, 1, 0, 2, 2, 0, 2, 2,\n",
       "        1, 2, 1, 0, 0, 1, 0, 1, 1, 1, 1, 1, 2, 2, 1, 0, 0, 0, 0, 0, 0, 1,\n",
       "        2, 0, 1, 0, 0, 2, 2, 1, 1, 2, 1, 2, 0, 1, 2, 2, 1, 1, 2, 1, 1, 0,\n",
       "        2, 1, 1, 1, 0, 1, 1, 2, 2, 0, 0, 2, 2, 0, 0, 1, 1, 0, 0, 0, 1, 0,\n",
       "        0, 1, 0, 0, 2, 0, 0, 0, 1, 2, 2, 2, 2, 0, 1, 2, 2, 1, 1, 1, 2, 1,\n",
       "        1, 2, 1, 2, 2, 0, 1, 0, 0, 0, 0, 1, 0, 0, 0, 2, 2, 1, 2, 1, 2, 0,\n",
       "        2, 0, 2, 2, 1, 1, 0, 0, 2, 0, 2, 1, 2, 1, 2, 1, 0, 0, 2, 0, 2, 2,\n",
       "        2, 1, 2, 1, 1, 2, 2, 0, 1, 0, 1, 0, 0, 0, 2, 2, 1, 0, 1, 1, 1, 2,\n",
       "        0, 1, 1, 0, 1, 2, 0, 2, 0, 2, 2, 0, 2, 2, 0, 1, 1, 1, 0, 0, 0, 1,\n",
       "        1, 0, 0, 2, 2, 1, 0, 0, 0, 2, 2, 0, 1, 2, 2, 0, 1, 0, 0, 2, 0, 0,\n",
       "        0, 2, 0, 1, 2, 0, 2, 2, 1, 2, 1, 2, 1, 2, 0, 2, 1, 0, 2, 0, 2, 1,\n",
       "        2, 0, 2, 0, 1, 1, 2, 1, 2, 0]))"
      ]
     },
     "execution_count": 19,
     "metadata": {},
     "output_type": "execute_result"
    }
   ],
   "source": [
    "X,y"
   ]
  },
  {
   "cell_type": "code",
   "execution_count": 20,
   "id": "735a7164-5535-4c66-98d4-76d7219afd2d",
   "metadata": {},
   "outputs": [
    {
     "data": {
      "text/plain": [
       "array([0, 0, 1, 0, 0, 1, 2, 2, 0, 2, 1, 2, 1, 2, 1, 1, 0, 2, 2, 2, 1, 0,\n",
       "       0, 0, 2, 2, 1, 1, 2, 1, 0, 0, 1, 2, 0, 1, 2, 2, 2, 0, 1, 1, 1, 2,\n",
       "       2, 2, 1, 2, 0, 2, 0, 0, 0, 0, 0, 2, 1, 2, 0, 1, 2, 2, 1, 2, 1, 1,\n",
       "       2, 1, 1, 0, 1, 1, 1, 1, 1, 2, 0, 0, 0, 2, 2, 2, 2, 0, 2, 0, 1, 1,\n",
       "       2, 0, 0, 1, 0, 0, 1, 2, 1, 2, 1, 0, 1, 2, 2, 2, 1, 1, 1, 1, 1, 1,\n",
       "       0, 0, 1, 1, 1, 1, 0, 1, 1, 2, 0, 1, 0, 1, 1, 0, 2, 0, 1, 0, 2, 0,\n",
       "       2, 0, 1, 2, 2, 0, 0, 0, 1, 1, 1, 1, 0, 1, 1, 2, 2, 0, 0, 0, 1, 1,\n",
       "       0, 1, 2, 2, 0, 0, 2, 0, 0, 2, 0, 0, 0, 0, 0, 1, 1, 0, 0, 0, 2, 2,\n",
       "       0, 0, 0, 1, 1, 2, 0, 1, 0, 1, 1, 1, 2, 0, 2, 0, 0, 1, 1, 1, 0, 0,\n",
       "       1, 1, 0, 0, 0, 2, 0, 0, 0, 0, 1, 2, 0, 2, 2, 1, 1, 2, 2, 0, 1, 1,\n",
       "       0, 0, 2, 1, 0, 0, 1, 0, 0, 2, 2, 1, 2, 2, 0, 0, 1, 1, 0, 2, 0, 0,\n",
       "       0, 2, 2, 2, 0, 2, 1, 1, 0, 2, 2, 1, 1, 2, 2, 0, 2, 1, 0, 2, 1, 2,\n",
       "       1, 2, 0, 2, 0, 0, 0, 2, 0, 1, 1, 2, 1, 0, 1, 0, 2, 1, 0, 2, 0, 2,\n",
       "       0, 2, 0, 1, 2, 1, 2, 0, 1, 2, 0, 2, 0, 0, 1, 1, 0, 1, 1, 0, 2, 0,\n",
       "       2, 2, 0, 2, 2, 1, 0, 0, 1, 2, 2, 1, 1, 1, 1, 2, 2, 1, 0, 2, 0, 1,\n",
       "       0, 1, 1, 1, 0, 1, 2, 0, 0, 2, 1, 1, 0, 1, 0, 0, 0, 0, 2, 0, 2, 2,\n",
       "       2, 1, 1, 1, 2, 1, 1, 0, 1, 1, 1, 0, 1, 2, 0, 0, 2, 1, 2, 0, 1, 0,\n",
       "       0, 1, 2, 0, 1, 1, 1, 0, 1, 2, 2, 1, 1, 0, 0, 1, 2, 2, 1, 1, 1, 2,\n",
       "       1, 1, 1, 1, 0, 2, 1, 2, 0, 1, 1, 1, 0, 1, 0, 2, 0, 1, 1, 0, 2, 0,\n",
       "       2, 0, 2, 2, 0, 1, 0, 0, 0, 0, 0, 2, 1, 1, 0, 2, 2, 2, 2, 2, 2, 1,\n",
       "       2, 1, 0, 2, 2, 2, 0, 1, 2, 0, 0, 1, 2, 2, 1, 2, 0, 2, 2, 1, 0, 0,\n",
       "       1, 2, 1, 0, 2, 1, 1, 0, 0, 1, 1, 0, 2, 2, 2, 0, 1, 0, 2, 2, 2, 2,\n",
       "       0, 1, 1, 0, 2, 2, 2, 1, 2, 2, 1, 2, 0, 0, 0, 2, 0, 0, 1, 2, 2, 0,\n",
       "       1, 1, 2, 0, 1, 2, 2, 2, 0, 0, 1, 2, 2, 1, 2, 1, 2, 0, 2, 1, 0, 0,\n",
       "       2, 0, 2, 2, 0, 1, 2, 0, 2, 2, 1, 2, 0, 1, 0, 1, 0, 1, 1, 1, 2, 2,\n",
       "       0, 2, 1, 0, 1, 1, 2, 2, 2, 0, 0, 0, 2, 0, 0, 2, 2, 2, 0, 0, 1, 0,\n",
       "       0, 1, 1, 0, 1, 2, 1, 0, 1, 1, 2, 0, 1, 1, 2, 2, 0, 0, 0, 2, 2, 1,\n",
       "       2, 1, 2, 1, 2, 2, 2, 0, 1, 0, 1, 1, 2, 2, 2, 0, 1, 2, 1, 1, 1, 0,\n",
       "       0, 2, 1, 1, 0, 1, 0, 2, 0, 2, 1, 1, 0, 1, 2, 2, 2, 1, 2, 2, 0, 1,\n",
       "       1, 2, 2, 2, 0, 2, 1, 0, 2, 2, 2, 1, 2, 2, 2, 2, 1, 2, 1, 2, 2, 1,\n",
       "       2, 0, 2, 1, 1, 0, 1, 2, 1, 2, 1, 0, 1, 2, 1, 1, 0, 0, 0, 2, 0, 0,\n",
       "       2, 1, 2, 0, 2, 0, 1, 0, 2, 1, 0, 0, 2, 0, 2, 0, 1, 1, 2, 0, 1, 1,\n",
       "       1, 1, 0, 0, 1, 0, 0, 1, 0, 1, 0, 2, 1, 0, 2, 1, 1, 2, 2, 2, 0, 0,\n",
       "       0, 0, 2, 2, 1, 1, 2, 2, 0, 1, 0, 2, 0, 0, 1, 1, 0, 1, 1, 2, 2, 2,\n",
       "       2, 1, 1, 2, 2, 1, 1, 0, 0, 2, 2, 0, 0, 2, 1, 1, 0, 2, 2, 0, 2, 2,\n",
       "       1, 2, 1, 0, 0, 1, 0, 1, 1, 1, 1, 1, 2, 2, 1, 0, 0, 0, 0, 0, 0, 1,\n",
       "       2, 0, 1, 0, 0, 2, 2, 1, 1, 2, 1, 2, 0, 1, 2, 2, 1, 1, 2, 1, 1, 0,\n",
       "       2, 1, 1, 1, 0, 1, 1, 2, 2, 0, 0, 2, 2, 0, 0, 1, 1, 0, 0, 0, 1, 0,\n",
       "       0, 1, 0, 0, 2, 0, 0, 0, 1, 2, 2, 2, 2, 0, 1, 2, 2, 1, 1, 1, 2, 1,\n",
       "       1, 2, 1, 2, 2, 0, 1, 0, 0, 0, 0, 1, 0, 0, 0, 2, 2, 1, 2, 1, 2, 0,\n",
       "       2, 0, 2, 2, 1, 1, 0, 0, 2, 0, 2, 1, 2, 1, 2, 1, 0, 0, 2, 0, 2, 2,\n",
       "       2, 1, 2, 1, 1, 2, 2, 0, 1, 0, 1, 0, 0, 0, 2, 2, 1, 0, 1, 1, 1, 2,\n",
       "       0, 1, 1, 0, 1, 2, 0, 2, 0, 2, 2, 0, 2, 2, 0, 1, 1, 1, 0, 0, 0, 1,\n",
       "       1, 0, 0, 2, 2, 1, 0, 0, 0, 2, 2, 0, 1, 2, 2, 0, 1, 0, 0, 2, 0, 0,\n",
       "       0, 2, 0, 1, 2, 0, 2, 2, 1, 2, 1, 2, 1, 2, 0, 2, 1, 0, 2, 0, 2, 1,\n",
       "       2, 0, 2, 0, 1, 1, 2, 1, 2, 0])"
      ]
     },
     "execution_count": 20,
     "metadata": {},
     "output_type": "execute_result"
    }
   ],
   "source": [
    "y"
   ]
  },
  {
   "cell_type": "markdown",
   "id": "49b99305-3662-44ca-b46f-48a1c12c32da",
   "metadata": {},
   "source": [
    "### mulitnomial"
   ]
  },
  {
   "cell_type": "code",
   "execution_count": 30,
   "id": "56a310a1-ba44-44e6-bc6d-f3b0910c47ca",
   "metadata": {},
   "outputs": [],
   "source": [
    "\n",
    "model=LogisticRegression(multi_class='multinomial',solver='lbfgs')"
   ]
  },
  {
   "cell_type": "code",
   "execution_count": 31,
   "id": "b5811ea1-01c2-40f1-906f-1223382c6965",
   "metadata": {},
   "outputs": [],
   "source": [
    "from sklearn.model_selection import train_test_split"
   ]
  },
  {
   "cell_type": "code",
   "execution_count": 34,
   "id": "634fa37f-9a6d-4dc3-9606-ca7872fe3b45",
   "metadata": {},
   "outputs": [],
   "source": [
    "X_train,X_test,y_train,y_test=train_test_split(X,y,test_size=0.20,random_state=42)"
   ]
  },
  {
   "cell_type": "code",
   "execution_count": 35,
   "id": "1313a0d6-dd6e-4827-a784-2529ad19e828",
   "metadata": {},
   "outputs": [
    {
     "data": {
      "text/html": [
       "<style>#sk-container-id-1 {color: black;background-color: white;}#sk-container-id-1 pre{padding: 0;}#sk-container-id-1 div.sk-toggleable {background-color: white;}#sk-container-id-1 label.sk-toggleable__label {cursor: pointer;display: block;width: 100%;margin-bottom: 0;padding: 0.3em;box-sizing: border-box;text-align: center;}#sk-container-id-1 label.sk-toggleable__label-arrow:before {content: \"▸\";float: left;margin-right: 0.25em;color: #696969;}#sk-container-id-1 label.sk-toggleable__label-arrow:hover:before {color: black;}#sk-container-id-1 div.sk-estimator:hover label.sk-toggleable__label-arrow:before {color: black;}#sk-container-id-1 div.sk-toggleable__content {max-height: 0;max-width: 0;overflow: hidden;text-align: left;background-color: #f0f8ff;}#sk-container-id-1 div.sk-toggleable__content pre {margin: 0.2em;color: black;border-radius: 0.25em;background-color: #f0f8ff;}#sk-container-id-1 input.sk-toggleable__control:checked~div.sk-toggleable__content {max-height: 200px;max-width: 100%;overflow: auto;}#sk-container-id-1 input.sk-toggleable__control:checked~label.sk-toggleable__label-arrow:before {content: \"▾\";}#sk-container-id-1 div.sk-estimator input.sk-toggleable__control:checked~label.sk-toggleable__label {background-color: #d4ebff;}#sk-container-id-1 div.sk-label input.sk-toggleable__control:checked~label.sk-toggleable__label {background-color: #d4ebff;}#sk-container-id-1 input.sk-hidden--visually {border: 0;clip: rect(1px 1px 1px 1px);clip: rect(1px, 1px, 1px, 1px);height: 1px;margin: -1px;overflow: hidden;padding: 0;position: absolute;width: 1px;}#sk-container-id-1 div.sk-estimator {font-family: monospace;background-color: #f0f8ff;border: 1px dotted black;border-radius: 0.25em;box-sizing: border-box;margin-bottom: 0.5em;}#sk-container-id-1 div.sk-estimator:hover {background-color: #d4ebff;}#sk-container-id-1 div.sk-parallel-item::after {content: \"\";width: 100%;border-bottom: 1px solid gray;flex-grow: 1;}#sk-container-id-1 div.sk-label:hover label.sk-toggleable__label {background-color: #d4ebff;}#sk-container-id-1 div.sk-serial::before {content: \"\";position: absolute;border-left: 1px solid gray;box-sizing: border-box;top: 0;bottom: 0;left: 50%;z-index: 0;}#sk-container-id-1 div.sk-serial {display: flex;flex-direction: column;align-items: center;background-color: white;padding-right: 0.2em;padding-left: 0.2em;position: relative;}#sk-container-id-1 div.sk-item {position: relative;z-index: 1;}#sk-container-id-1 div.sk-parallel {display: flex;align-items: stretch;justify-content: center;background-color: white;position: relative;}#sk-container-id-1 div.sk-item::before, #sk-container-id-1 div.sk-parallel-item::before {content: \"\";position: absolute;border-left: 1px solid gray;box-sizing: border-box;top: 0;bottom: 0;left: 50%;z-index: -1;}#sk-container-id-1 div.sk-parallel-item {display: flex;flex-direction: column;z-index: 1;position: relative;background-color: white;}#sk-container-id-1 div.sk-parallel-item:first-child::after {align-self: flex-end;width: 50%;}#sk-container-id-1 div.sk-parallel-item:last-child::after {align-self: flex-start;width: 50%;}#sk-container-id-1 div.sk-parallel-item:only-child::after {width: 0;}#sk-container-id-1 div.sk-dashed-wrapped {border: 1px dashed gray;margin: 0 0.4em 0.5em 0.4em;box-sizing: border-box;padding-bottom: 0.4em;background-color: white;}#sk-container-id-1 div.sk-label label {font-family: monospace;font-weight: bold;display: inline-block;line-height: 1.2em;}#sk-container-id-1 div.sk-label-container {text-align: center;}#sk-container-id-1 div.sk-container {/* jupyter's `normalize.less` sets `[hidden] { display: none; }` but bootstrap.min.css set `[hidden] { display: none !important; }` so we also need the `!important` here to be able to override the default hidden behavior on the sphinx rendered scikit-learn.org. See: https://github.com/scikit-learn/scikit-learn/issues/21755 */display: inline-block !important;position: relative;}#sk-container-id-1 div.sk-text-repr-fallback {display: none;}</style><div id=\"sk-container-id-1\" class=\"sk-top-container\"><div class=\"sk-text-repr-fallback\"><pre>LogisticRegression(multi_class=&#x27;multinomial&#x27;)</pre><b>In a Jupyter environment, please rerun this cell to show the HTML representation or trust the notebook. <br />On GitHub, the HTML representation is unable to render, please try loading this page with nbviewer.org.</b></div><div class=\"sk-container\" hidden><div class=\"sk-item\"><div class=\"sk-estimator sk-toggleable\"><input class=\"sk-toggleable__control sk-hidden--visually\" id=\"sk-estimator-id-1\" type=\"checkbox\" checked><label for=\"sk-estimator-id-1\" class=\"sk-toggleable__label sk-toggleable__label-arrow\">LogisticRegression</label><div class=\"sk-toggleable__content\"><pre>LogisticRegression(multi_class=&#x27;multinomial&#x27;)</pre></div></div></div></div></div>"
      ],
      "text/plain": [
       "LogisticRegression(multi_class='multinomial')"
      ]
     },
     "execution_count": 35,
     "metadata": {},
     "output_type": "execute_result"
    }
   ],
   "source": [
    "model.fit(X_train,y_train)"
   ]
  },
  {
   "cell_type": "code",
   "execution_count": 37,
   "id": "b4d326a8-1ed3-47dd-b3d0-5ec6178adc12",
   "metadata": {},
   "outputs": [],
   "source": [
    "y_predict=model.predict(X_test)"
   ]
  },
  {
   "cell_type": "code",
   "execution_count": 38,
   "id": "f3c5b5a3-9ee4-4d51-b460-f97acc53bd95",
   "metadata": {},
   "outputs": [
    {
     "data": {
      "text/plain": [
       "array([[8.36686632e-02, 6.54949519e-01, 2.61381818e-01],\n",
       "       [4.41871422e-01, 2.76807954e-01, 2.81320624e-01],\n",
       "       [2.48887663e-01, 3.90847394e-01, 3.60264942e-01],\n",
       "       [4.27202653e-03, 7.74533060e-01, 2.21194913e-01],\n",
       "       [7.66830565e-01, 4.21096850e-02, 1.91059750e-01],\n",
       "       [9.82268188e-01, 4.33256005e-05, 1.76884867e-02],\n",
       "       [5.89201390e-02, 5.34367450e-01, 4.06712411e-01],\n",
       "       [3.62581004e-01, 9.98488381e-02, 5.37570158e-01],\n",
       "       [1.49287856e-01, 3.43297737e-01, 5.07414407e-01],\n",
       "       [3.10517434e-01, 1.62718325e-01, 5.26764240e-01],\n",
       "       [4.59674100e-01, 1.41143524e-01, 3.99182376e-01],\n",
       "       [9.27937278e-01, 3.33498312e-03, 6.87277388e-02],\n",
       "       [5.66752130e-01, 1.09422883e-02, 4.22305582e-01],\n",
       "       [9.30543130e-01, 3.88667333e-03, 6.55701968e-02],\n",
       "       [7.60642791e-01, 3.83214042e-02, 2.01035805e-01],\n",
       "       [8.18114979e-01, 8.72275123e-03, 1.73162269e-01],\n",
       "       [3.52707620e-01, 1.02806997e-01, 5.44485382e-01],\n",
       "       [5.52443548e-02, 4.21765187e-01, 5.22990458e-01],\n",
       "       [1.92702388e-01, 2.19993663e-01, 5.87303949e-01],\n",
       "       [1.12785106e-03, 9.52856668e-01, 4.60154812e-02],\n",
       "       [1.86891475e-01, 1.65035586e-01, 6.48072938e-01],\n",
       "       [7.91793681e-02, 3.86537974e-01, 5.34282657e-01],\n",
       "       [7.26876443e-01, 4.05952569e-02, 2.32528300e-01],\n",
       "       [5.51261296e-01, 2.14314030e-01, 2.34424674e-01],\n",
       "       [6.93354629e-01, 5.76848831e-02, 2.48960488e-01],\n",
       "       [8.19050078e-01, 2.11942311e-02, 1.59755691e-01],\n",
       "       [2.60589094e-02, 6.64708328e-01, 3.09232762e-01],\n",
       "       [1.93371818e-01, 2.07261594e-01, 5.99366588e-01],\n",
       "       [4.31085459e-01, 1.00954558e-01, 4.67959982e-01],\n",
       "       [9.15661584e-01, 1.41521179e-03, 8.29232044e-02],\n",
       "       [1.75717857e-01, 5.93610477e-01, 2.30671666e-01],\n",
       "       [9.56253855e-01, 1.06631535e-02, 3.30829920e-02],\n",
       "       [3.08589776e-02, 3.85810355e-01, 5.83330668e-01],\n",
       "       [7.74681772e-02, 3.50888558e-01, 5.71643264e-01],\n",
       "       [5.38356389e-02, 5.92465272e-01, 3.53699089e-01],\n",
       "       [7.06363145e-02, 6.31862949e-01, 2.97500736e-01],\n",
       "       [7.26512865e-01, 1.08374639e-01, 1.65112496e-01],\n",
       "       [1.65565718e-03, 8.78355123e-01, 1.19989220e-01],\n",
       "       [2.33667774e-01, 3.90574480e-01, 3.75757747e-01],\n",
       "       [4.22161507e-01, 3.71113136e-01, 2.06725356e-01],\n",
       "       [8.01878770e-01, 4.61028156e-02, 1.52018415e-01],\n",
       "       [2.48182255e-02, 4.16214289e-01, 5.58967485e-01],\n",
       "       [3.82361593e-01, 8.69898788e-02, 5.30648528e-01],\n",
       "       [2.02345092e-01, 8.17652762e-02, 7.15889632e-01],\n",
       "       [3.82314228e-01, 3.80980815e-02, 5.79587690e-01],\n",
       "       [8.16858438e-01, 3.60504468e-02, 1.47091115e-01],\n",
       "       [6.85632471e-01, 7.29457817e-02, 2.41421748e-01],\n",
       "       [7.87353079e-01, 9.63711822e-03, 2.03009803e-01],\n",
       "       [4.00205507e-02, 8.47517951e-01, 1.12461498e-01],\n",
       "       [8.26474347e-02, 5.41657873e-01, 3.75694693e-01],\n",
       "       [1.18404909e-02, 6.88323186e-01, 2.99836323e-01],\n",
       "       [2.83476292e-01, 4.64964031e-01, 2.51559676e-01],\n",
       "       [3.00300730e-02, 5.82487662e-01, 3.87482265e-01],\n",
       "       [1.43185558e-02, 8.30525084e-01, 1.55156360e-01],\n",
       "       [3.55048496e-01, 3.57444962e-01, 2.87506542e-01],\n",
       "       [7.13675174e-01, 7.96329894e-02, 2.06691837e-01],\n",
       "       [2.27993896e-01, 1.18501074e-01, 6.53505030e-01],\n",
       "       [7.92066430e-02, 6.62935393e-01, 2.57857964e-01],\n",
       "       [8.78207898e-01, 6.85411407e-02, 5.32509613e-02],\n",
       "       [1.14168238e-01, 7.00902050e-01, 1.84929712e-01],\n",
       "       [3.11603558e-01, 3.72335060e-01, 3.16061382e-01],\n",
       "       [6.58554037e-01, 6.26214110e-02, 2.78824552e-01],\n",
       "       [4.31883909e-01, 1.39790708e-01, 4.28325383e-01],\n",
       "       [2.68642154e-01, 8.14332277e-02, 6.49924618e-01],\n",
       "       [2.16920475e-01, 5.41906425e-01, 2.41173100e-01],\n",
       "       [4.74990870e-01, 3.55693681e-03, 5.21452193e-01],\n",
       "       [7.57054612e-01, 5.87633373e-02, 1.84182051e-01],\n",
       "       [8.47081479e-01, 2.07383107e-03, 1.50844690e-01],\n",
       "       [2.47974002e-02, 4.86664508e-01, 4.88538092e-01],\n",
       "       [2.22366339e-04, 1.50799110e-01, 8.48978523e-01],\n",
       "       [5.57493563e-02, 3.03103650e-01, 6.41146994e-01],\n",
       "       [5.51787540e-01, 1.72603835e-01, 2.75608625e-01],\n",
       "       [1.16958447e-01, 4.78978371e-01, 4.04063182e-01],\n",
       "       [1.82503294e-01, 2.73356472e-01, 5.44140234e-01],\n",
       "       [1.90477621e-01, 3.21722250e-01, 4.87800129e-01],\n",
       "       [2.35611072e-03, 9.45434691e-01, 5.22091983e-02],\n",
       "       [9.93151317e-02, 3.71661285e-01, 5.29023584e-01],\n",
       "       [4.89041370e-01, 1.42484672e-01, 3.68473959e-01],\n",
       "       [3.73470963e-01, 3.54228756e-01, 2.72300281e-01],\n",
       "       [8.90387795e-01, 1.01835507e-02, 9.94286539e-02],\n",
       "       [3.88036533e-01, 2.80891852e-01, 3.31071615e-01],\n",
       "       [2.48211671e-01, 1.99344260e-01, 5.52444069e-01],\n",
       "       [2.72217880e-01, 3.55056271e-02, 6.92276492e-01],\n",
       "       [3.33205117e-02, 5.07815648e-01, 4.58863840e-01],\n",
       "       [2.62804662e-01, 1.04131332e-01, 6.33064006e-01],\n",
       "       [4.14975566e-01, 1.18682475e-01, 4.66341959e-01],\n",
       "       [4.32638174e-01, 8.58752499e-02, 4.81486576e-01],\n",
       "       [2.90639141e-01, 3.60314815e-01, 3.49046044e-01],\n",
       "       [5.42075170e-01, 2.14729803e-01, 2.43195026e-01],\n",
       "       [6.74861053e-02, 5.40488807e-01, 3.92025088e-01],\n",
       "       [3.05787300e-02, 6.27817850e-01, 3.41603420e-01],\n",
       "       [5.42959403e-02, 6.25948946e-01, 3.19755114e-01],\n",
       "       [1.78818814e-03, 7.64456541e-01, 2.33755271e-01],\n",
       "       [1.97385977e-04, 9.70638800e-01, 2.91638140e-02],\n",
       "       [5.68922965e-01, 1.66477202e-01, 2.64599832e-01],\n",
       "       [1.85176099e-01, 4.13204344e-01, 4.01619557e-01],\n",
       "       [6.28089707e-01, 1.17609923e-01, 2.54300369e-01],\n",
       "       [4.12401527e-01, 4.07043050e-02, 5.46894168e-01],\n",
       "       [1.51497862e-01, 3.79348921e-01, 4.69153217e-01],\n",
       "       [2.62895512e-01, 9.17741929e-02, 6.45330296e-01],\n",
       "       [7.63296302e-03, 6.99756885e-01, 2.92610152e-01],\n",
       "       [4.85160597e-01, 1.25453931e-01, 3.89385471e-01],\n",
       "       [1.18860288e-01, 4.67122308e-01, 4.14017404e-01],\n",
       "       [7.74690153e-02, 4.93023431e-01, 4.29507554e-01],\n",
       "       [3.03913682e-01, 4.75355788e-02, 6.48550739e-01],\n",
       "       [3.10134670e-01, 5.73734031e-01, 1.16131299e-01],\n",
       "       [6.47329984e-03, 8.12188876e-01, 1.81337824e-01],\n",
       "       [4.97897068e-02, 4.75790040e-01, 4.74420253e-01],\n",
       "       [5.46039662e-01, 1.67293288e-01, 2.86667050e-01],\n",
       "       [6.70526863e-02, 6.68106968e-01, 2.64840345e-01],\n",
       "       [1.68936502e-01, 2.74258762e-01, 5.56804736e-01],\n",
       "       [8.39904242e-01, 1.84873794e-02, 1.41608378e-01],\n",
       "       [5.32799645e-01, 8.61485385e-02, 3.81051817e-01],\n",
       "       [1.55756344e-02, 4.74791158e-01, 5.09633208e-01],\n",
       "       [7.23649259e-03, 5.15778029e-01, 4.76985479e-01],\n",
       "       [3.66110778e-01, 2.58654471e-01, 3.75234751e-01],\n",
       "       [4.64502280e-01, 1.85571942e-01, 3.49925778e-01],\n",
       "       [6.38015611e-03, 7.77090306e-01, 2.16529537e-01],\n",
       "       [2.54568468e-01, 2.65793130e-01, 4.79638403e-01],\n",
       "       [9.93324352e-04, 5.93997517e-01, 4.05009159e-01],\n",
       "       [2.48006294e-01, 4.84065364e-02, 7.03587170e-01],\n",
       "       [4.10795571e-01, 1.72189847e-01, 4.17014581e-01],\n",
       "       [1.69780553e-02, 6.82310567e-01, 3.00711378e-01],\n",
       "       [9.33089638e-01, 4.01834469e-03, 6.28920175e-02],\n",
       "       [4.74939044e-01, 3.97945280e-01, 1.27115676e-01],\n",
       "       [7.84933836e-01, 1.20586346e-01, 9.44798174e-02],\n",
       "       [2.65129015e-02, 6.54898761e-01, 3.18588338e-01],\n",
       "       [1.92369528e-01, 1.25933530e-01, 6.81696942e-01],\n",
       "       [5.06178721e-01, 9.48270828e-02, 3.98994196e-01],\n",
       "       [4.33518698e-02, 4.23901670e-01, 5.32746460e-01],\n",
       "       [5.16601114e-01, 4.33154375e-02, 4.40083449e-01],\n",
       "       [9.37563274e-01, 2.54227139e-03, 5.98944541e-02],\n",
       "       [1.81086483e-01, 3.31432582e-01, 4.87480935e-01],\n",
       "       [4.19495111e-02, 6.87143832e-01, 2.70906657e-01],\n",
       "       [8.74288537e-01, 1.60598485e-02, 1.09651615e-01],\n",
       "       [8.84410487e-02, 4.67489525e-01, 4.44069426e-01],\n",
       "       [9.12636545e-01, 1.15444013e-02, 7.58190533e-02],\n",
       "       [7.89791894e-03, 7.44507927e-01, 2.47594154e-01],\n",
       "       [2.46528996e-01, 7.43306217e-02, 6.79140382e-01],\n",
       "       [5.81568034e-04, 8.50826892e-01, 1.48591540e-01],\n",
       "       [4.06580465e-01, 1.43667083e-01, 4.49752452e-01],\n",
       "       [3.73341953e-01, 7.02116483e-02, 5.56446399e-01],\n",
       "       [6.24741919e-03, 8.43287774e-01, 1.50464807e-01],\n",
       "       [3.89870939e-01, 2.17494340e-01, 3.92634720e-01],\n",
       "       [2.46626198e-03, 4.34508744e-01, 5.63024994e-01],\n",
       "       [8.90875006e-01, 2.39731868e-02, 8.51518075e-02],\n",
       "       [4.02339704e-01, 7.61623579e-03, 5.90044061e-01],\n",
       "       [2.42163822e-01, 2.67697274e-01, 4.90138904e-01],\n",
       "       [9.65937919e-02, 4.97077130e-01, 4.06329079e-01],\n",
       "       [2.27004441e-02, 7.52320481e-01, 2.24979075e-01],\n",
       "       [6.97987513e-01, 5.99842602e-02, 2.42028227e-01],\n",
       "       [6.69297719e-01, 5.99533094e-02, 2.70748972e-01],\n",
       "       [6.95069172e-01, 2.42649958e-02, 2.80665832e-01],\n",
       "       [1.40387600e-01, 2.40222464e-01, 6.19389936e-01],\n",
       "       [2.63437343e-02, 7.48234480e-01, 2.25421786e-01],\n",
       "       [9.87585722e-01, 3.32616680e-03, 9.08811130e-03],\n",
       "       [8.77865708e-03, 7.99719210e-01, 1.91502133e-01],\n",
       "       [6.70292301e-01, 5.53002842e-02, 2.74407415e-01],\n",
       "       [4.98920667e-01, 2.95451234e-02, 4.71534209e-01],\n",
       "       [7.75259101e-03, 5.10257457e-01, 4.81989952e-01],\n",
       "       [4.61104755e-02, 4.51458810e-01, 5.02430714e-01],\n",
       "       [1.91383062e-01, 3.57354852e-01, 4.51262086e-01],\n",
       "       [1.27832338e-02, 7.81679812e-01, 2.05536954e-01],\n",
       "       [8.91883948e-01, 5.00060321e-03, 1.03115449e-01],\n",
       "       [9.85654958e-01, 8.97828174e-05, 1.42552592e-02],\n",
       "       [8.49888515e-02, 8.15830941e-01, 9.91802077e-02],\n",
       "       [7.63339780e-01, 7.20619583e-02, 1.64598262e-01],\n",
       "       [6.46975177e-01, 1.43352401e-01, 2.09672422e-01],\n",
       "       [3.77974081e-01, 3.63049657e-01, 2.58976262e-01],\n",
       "       [1.86712587e-01, 2.03966538e-01, 6.09320875e-01],\n",
       "       [4.45895168e-03, 3.68221681e-01, 6.27319368e-01],\n",
       "       [6.99416620e-01, 6.19776126e-02, 2.38605767e-01],\n",
       "       [4.37112829e-01, 1.94400962e-02, 5.43447075e-01],\n",
       "       [2.71103450e-03, 5.37012498e-01, 4.60276467e-01],\n",
       "       [2.15993515e-04, 9.71387085e-01, 2.83969220e-02],\n",
       "       [3.70285857e-01, 2.70113441e-01, 3.59600701e-01],\n",
       "       [4.02700183e-02, 8.64243834e-01, 9.54861472e-02],\n",
       "       [1.42394730e-01, 7.03265519e-01, 1.54339750e-01],\n",
       "       [2.27883422e-03, 1.34540714e-01, 8.63180452e-01],\n",
       "       [7.09153164e-01, 2.57135201e-02, 2.65133316e-01],\n",
       "       [2.44925435e-02, 6.95446912e-01, 2.80060545e-01],\n",
       "       [2.73080084e-02, 9.06794768e-01, 6.58972235e-02],\n",
       "       [5.78631585e-01, 2.18127314e-01, 2.03241101e-01],\n",
       "       [9.46175439e-01, 1.23851785e-03, 5.25860428e-02],\n",
       "       [1.95185195e-01, 5.93881990e-02, 7.45426606e-01],\n",
       "       [2.23941362e-01, 2.08003936e-01, 5.68054702e-01],\n",
       "       [4.08565750e-03, 9.56196161e-01, 3.97181815e-02],\n",
       "       [1.81065075e-01, 3.70931626e-01, 4.48003299e-01],\n",
       "       [9.61255317e-01, 5.74570913e-03, 3.29989738e-02],\n",
       "       [6.93894899e-02, 5.89391419e-01, 3.41219091e-01],\n",
       "       [7.68485487e-01, 1.27325283e-02, 2.18781984e-01],\n",
       "       [7.68728329e-04, 9.48530009e-01, 5.07012624e-02],\n",
       "       [2.16470012e-05, 9.81833613e-01, 1.81447403e-02],\n",
       "       [1.18960501e-01, 7.72433354e-01, 1.08606144e-01],\n",
       "       [3.29707128e-02, 5.12762962e-01, 4.54266325e-01],\n",
       "       [8.15896597e-01, 5.55066658e-02, 1.28596737e-01],\n",
       "       [8.62154583e-02, 6.29825134e-01, 2.83959408e-01],\n",
       "       [7.63510008e-03, 5.67616613e-01, 4.24748287e-01],\n",
       "       [2.33540396e-02, 7.63179592e-01, 2.13466369e-01],\n",
       "       [1.63093706e-01, 5.38726804e-01, 2.98179491e-01]])"
      ]
     },
     "execution_count": 38,
     "metadata": {},
     "output_type": "execute_result"
    }
   ],
   "source": [
    "model.predict_proba(X_test)"
   ]
  },
  {
   "cell_type": "markdown",
   "id": "5e097acc-9c71-43af-940b-7e8063f82ce6",
   "metadata": {},
   "source": [
    "### accuracy score,classification report,  confusion matrix"
   ]
  },
  {
   "cell_type": "code",
   "execution_count": 39,
   "id": "e46ca54a-f855-4e93-81a2-d7ba23ac6bf8",
   "metadata": {},
   "outputs": [
    {
     "name": "stdout",
     "output_type": "stream",
     "text": [
      "0.69\n",
      "              precision    recall  f1-score   support\n",
      "\n",
      "           0       0.76      0.76      0.76        68\n",
      "           1       0.65      0.72      0.69        65\n",
      "           2       0.65      0.58      0.61        67\n",
      "\n",
      "    accuracy                           0.69       200\n",
      "   macro avg       0.69      0.69      0.69       200\n",
      "weighted avg       0.69      0.69      0.69       200\n",
      "\n",
      "[[52  8  8]\n",
      " [ 5 47 13]\n",
      " [11 17 39]]\n"
     ]
    }
   ],
   "source": [
    "from sklearn.metrics import accuracy_score,classification_report,confusion_matrix\n",
    "print(accuracy_score(y_test,y_predict))\n",
    "print(classification_report(y_test,y_predict))\n",
    "print(confusion_matrix(y_test,y_predict))"
   ]
  },
  {
   "cell_type": "markdown",
   "id": "85a1b1b3-dc51-4daa-8bb3-5f0d39e2c213",
   "metadata": {},
   "source": [
    "### OVR"
   ]
  },
  {
   "cell_type": "code",
   "execution_count": 41,
   "id": "df2599d0-30cb-4445-89f3-b4581c8d065f",
   "metadata": {},
   "outputs": [],
   "source": [
    "model=LogisticRegression(multi_class='ovr',solver='lbfgs')"
   ]
  },
  {
   "cell_type": "code",
   "execution_count": 42,
   "id": "7bc6bb5f-708b-40a4-a14c-82baa7fd941b",
   "metadata": {},
   "outputs": [
    {
     "data": {
      "text/html": [
       "<style>#sk-container-id-2 {color: black;background-color: white;}#sk-container-id-2 pre{padding: 0;}#sk-container-id-2 div.sk-toggleable {background-color: white;}#sk-container-id-2 label.sk-toggleable__label {cursor: pointer;display: block;width: 100%;margin-bottom: 0;padding: 0.3em;box-sizing: border-box;text-align: center;}#sk-container-id-2 label.sk-toggleable__label-arrow:before {content: \"▸\";float: left;margin-right: 0.25em;color: #696969;}#sk-container-id-2 label.sk-toggleable__label-arrow:hover:before {color: black;}#sk-container-id-2 div.sk-estimator:hover label.sk-toggleable__label-arrow:before {color: black;}#sk-container-id-2 div.sk-toggleable__content {max-height: 0;max-width: 0;overflow: hidden;text-align: left;background-color: #f0f8ff;}#sk-container-id-2 div.sk-toggleable__content pre {margin: 0.2em;color: black;border-radius: 0.25em;background-color: #f0f8ff;}#sk-container-id-2 input.sk-toggleable__control:checked~div.sk-toggleable__content {max-height: 200px;max-width: 100%;overflow: auto;}#sk-container-id-2 input.sk-toggleable__control:checked~label.sk-toggleable__label-arrow:before {content: \"▾\";}#sk-container-id-2 div.sk-estimator input.sk-toggleable__control:checked~label.sk-toggleable__label {background-color: #d4ebff;}#sk-container-id-2 div.sk-label input.sk-toggleable__control:checked~label.sk-toggleable__label {background-color: #d4ebff;}#sk-container-id-2 input.sk-hidden--visually {border: 0;clip: rect(1px 1px 1px 1px);clip: rect(1px, 1px, 1px, 1px);height: 1px;margin: -1px;overflow: hidden;padding: 0;position: absolute;width: 1px;}#sk-container-id-2 div.sk-estimator {font-family: monospace;background-color: #f0f8ff;border: 1px dotted black;border-radius: 0.25em;box-sizing: border-box;margin-bottom: 0.5em;}#sk-container-id-2 div.sk-estimator:hover {background-color: #d4ebff;}#sk-container-id-2 div.sk-parallel-item::after {content: \"\";width: 100%;border-bottom: 1px solid gray;flex-grow: 1;}#sk-container-id-2 div.sk-label:hover label.sk-toggleable__label {background-color: #d4ebff;}#sk-container-id-2 div.sk-serial::before {content: \"\";position: absolute;border-left: 1px solid gray;box-sizing: border-box;top: 0;bottom: 0;left: 50%;z-index: 0;}#sk-container-id-2 div.sk-serial {display: flex;flex-direction: column;align-items: center;background-color: white;padding-right: 0.2em;padding-left: 0.2em;position: relative;}#sk-container-id-2 div.sk-item {position: relative;z-index: 1;}#sk-container-id-2 div.sk-parallel {display: flex;align-items: stretch;justify-content: center;background-color: white;position: relative;}#sk-container-id-2 div.sk-item::before, #sk-container-id-2 div.sk-parallel-item::before {content: \"\";position: absolute;border-left: 1px solid gray;box-sizing: border-box;top: 0;bottom: 0;left: 50%;z-index: -1;}#sk-container-id-2 div.sk-parallel-item {display: flex;flex-direction: column;z-index: 1;position: relative;background-color: white;}#sk-container-id-2 div.sk-parallel-item:first-child::after {align-self: flex-end;width: 50%;}#sk-container-id-2 div.sk-parallel-item:last-child::after {align-self: flex-start;width: 50%;}#sk-container-id-2 div.sk-parallel-item:only-child::after {width: 0;}#sk-container-id-2 div.sk-dashed-wrapped {border: 1px dashed gray;margin: 0 0.4em 0.5em 0.4em;box-sizing: border-box;padding-bottom: 0.4em;background-color: white;}#sk-container-id-2 div.sk-label label {font-family: monospace;font-weight: bold;display: inline-block;line-height: 1.2em;}#sk-container-id-2 div.sk-label-container {text-align: center;}#sk-container-id-2 div.sk-container {/* jupyter's `normalize.less` sets `[hidden] { display: none; }` but bootstrap.min.css set `[hidden] { display: none !important; }` so we also need the `!important` here to be able to override the default hidden behavior on the sphinx rendered scikit-learn.org. See: https://github.com/scikit-learn/scikit-learn/issues/21755 */display: inline-block !important;position: relative;}#sk-container-id-2 div.sk-text-repr-fallback {display: none;}</style><div id=\"sk-container-id-2\" class=\"sk-top-container\"><div class=\"sk-text-repr-fallback\"><pre>LogisticRegression(multi_class=&#x27;ovr&#x27;)</pre><b>In a Jupyter environment, please rerun this cell to show the HTML representation or trust the notebook. <br />On GitHub, the HTML representation is unable to render, please try loading this page with nbviewer.org.</b></div><div class=\"sk-container\" hidden><div class=\"sk-item\"><div class=\"sk-estimator sk-toggleable\"><input class=\"sk-toggleable__control sk-hidden--visually\" id=\"sk-estimator-id-2\" type=\"checkbox\" checked><label for=\"sk-estimator-id-2\" class=\"sk-toggleable__label sk-toggleable__label-arrow\">LogisticRegression</label><div class=\"sk-toggleable__content\"><pre>LogisticRegression(multi_class=&#x27;ovr&#x27;)</pre></div></div></div></div></div>"
      ],
      "text/plain": [
       "LogisticRegression(multi_class='ovr')"
      ]
     },
     "execution_count": 42,
     "metadata": {},
     "output_type": "execute_result"
    }
   ],
   "source": [
    "model.fit(X_train,y_train)"
   ]
  },
  {
   "cell_type": "code",
   "execution_count": 43,
   "id": "81a7593a-b8d6-484c-88c9-ad30be3bc706",
   "metadata": {},
   "outputs": [],
   "source": [
    "y_predict=model.predict(X_test)"
   ]
  },
  {
   "cell_type": "code",
   "execution_count": 44,
   "id": "cfd6bb06-dcf5-45a3-9059-aa5387bb7bf3",
   "metadata": {},
   "outputs": [
    {
     "name": "stdout",
     "output_type": "stream",
     "text": [
      "0.675\n",
      "              precision    recall  f1-score   support\n",
      "\n",
      "           0       0.73      0.79      0.76        68\n",
      "           1       0.65      0.69      0.67        65\n",
      "           2       0.63      0.54      0.58        67\n",
      "\n",
      "    accuracy                           0.68       200\n",
      "   macro avg       0.67      0.67      0.67       200\n",
      "weighted avg       0.67      0.68      0.67       200\n",
      "\n",
      "[[54  7  7]\n",
      " [ 6 45 14]\n",
      " [14 17 36]]\n"
     ]
    }
   ],
   "source": [
    "from sklearn.metrics import accuracy_score,classification_report,confusion_matrix\n",
    "print(accuracy_score(y_test,y_predict))\n",
    "print(classification_report(y_test,y_predict))\n",
    "print(confusion_matrix(y_test,y_predict))"
   ]
  },
  {
   "cell_type": "code",
   "execution_count": null,
   "id": "4358df3a-7886-4573-94a4-d87d6961e4ae",
   "metadata": {},
   "outputs": [],
   "source": []
  }
 ],
 "metadata": {
  "kernelspec": {
   "display_name": "Python 3 (ipykernel)",
   "language": "python",
   "name": "python3"
  },
  "language_info": {
   "codemirror_mode": {
    "name": "ipython",
    "version": 3
   },
   "file_extension": ".py",
   "mimetype": "text/x-python",
   "name": "python",
   "nbconvert_exporter": "python",
   "pygments_lexer": "ipython3",
   "version": "3.10.8"
  }
 },
 "nbformat": 4,
 "nbformat_minor": 5
}
