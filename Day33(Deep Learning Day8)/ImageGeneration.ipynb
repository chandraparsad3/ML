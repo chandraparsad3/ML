{
  "nbformat": 4,
  "nbformat_minor": 0,
  "metadata": {
    "colab": {
      "provenance": []
    },
    "kernelspec": {
      "name": "python3",
      "display_name": "Python 3"
    },
    "language_info": {
      "name": "python"
    }
  },
  "cells": [
    {
      "cell_type": "code",
      "source": [
        "from tensorflow.keras.preprocessing.image import ImageDataGenerator,load_img,array_to_img,img_to_array\n",
        "import os"
      ],
      "metadata": {
        "id": "Uq8DzArBb2SU"
      },
      "execution_count": 3,
      "outputs": []
    },
    {
      "cell_type": "code",
      "source": [
        "datagen=ImageDataGenerator(rotation_range=40,width_shift_range=0.2,\n",
        "                           height_shift_range=0.2,shear_range=0.2,\n",
        "                           zoom_range=0.2,horizontal_flip=True,fill_mode='nearest')"
      ],
      "metadata": {
        "id": "HWG7Ua9YcLzD"
      },
      "execution_count": 4,
      "outputs": []
    },
    {
      "cell_type": "code",
      "source": [
        "img=load_img('/content/cute_dog.jfif')\n"
      ],
      "metadata": {
        "id": "vLthqGi-cuRa"
      },
      "execution_count": 5,
      "outputs": []
    },
    {
      "cell_type": "code",
      "source": [
        "if not os.path.exists('\\content\\preview'):\n",
        "  os.mkdir('\\content\\preview')"
      ],
      "metadata": {
        "id": "2ayyHsUpdpkD"
      },
      "execution_count": 10,
      "outputs": []
    },
    {
      "cell_type": "code",
      "source": [
        "x=img_to_array(img)\n",
        "x=x.reshape((1,)+x.shape)"
      ],
      "metadata": {
        "id": "bqX8gSqzdA1A"
      },
      "execution_count": 11,
      "outputs": []
    },
    {
      "cell_type": "code",
      "source": [
        "i=0\n",
        "for batch in datagen.flow(x,batch_size=1,save_to_dir='\\content\\preview',save_prefix='dog'):\n",
        " i+=1\n",
        " if i>20:\n",
        "  break"
      ],
      "metadata": {
        "id": "5oQ28kTvdP6F"
      },
      "execution_count": 12,
      "outputs": []
    }
  ]
}